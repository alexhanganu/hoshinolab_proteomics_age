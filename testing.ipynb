{
 "cells": [
  {
   "cell_type": "code",
   "execution_count": 1,
   "metadata": {},
   "outputs": [
    {
     "name": "stdout",
     "output_type": "stream",
     "text": [
      "/home/ssp/Dropbox/github/nimb/nimb\n"
     ]
    }
   ],
   "source": [
    "project      = 'hoshinolab_proteomics_age'\n",
    "from bin import nimb_link\n",
    "NIMB_HOME = nimb_link.link_with_nimb()\n",
    "from setup.get_vars import Get_Vars, SetProject\n",
    "from distribution import utilities as utils\n",
    "from stats.db_processing import Table\n",
    "from stats.preprocessing import Preprocess\n",
    "from stats import preprocessing, varia\n",
    "from stats.make_stats_grid import MakeGrid\n",
    "from stats.stats_models import ANOVA_do\n",
    "from stats.plotting import Make_Plot_Regression, Make_plot_group_difference\n",
    "from stats import predict\n",
    "tab = Table()\n",
    "\n",
    "all_vars = Get_Vars()\n",
    "project_vars = all_vars.projects[project]\n",
    "\n",
    "getvars      = Get_Vars()\n",
    "nimb_stats   = getvars.stats_vars\n",
    "projects     = getvars.projects\n",
    "NIMB_tmp     = getvars.location_vars['local']['NIMB_PATHS']['NIMB_tmp']\n",
    "fname_groups = projects[project][\"fname_groups\"]\n",
    "nimb_stats   = SetProject(NIMB_tmp, nimb_stats, project, fname_groups).stats\n",
    "project_vars = projects[project]\n",
    "stats_paths  = nimb_stats['STATS_PATHS']\n",
    "vars_glm     = project_vars['variables_for_glm']"
   ]
  },
  {
   "cell_type": "code",
   "execution_count": 194,
   "metadata": {},
   "outputs": [],
   "source": [
    "# ATTENTION: prediction_target MUST be a group column, that will be converted to y_label\n",
    "# extracting features based on PCA\n",
    "def get_X_data_per_group_all_groups(group, predicted_target):\n",
    "    # extract X_scaled values for the brain parameters\n",
    "        if group == 'all':\n",
    "                df_clin_group = df_user_stats\n",
    "                df_X          = df_adjusted\n",
    "                y_labeled     = preprocessing.label_y(df_user_stats, predicted_target)\n",
    "                X_scaled      = preprocessing.scale_X(df_X)\n",
    "        else:\n",
    "                df_group      = tab.get_df_per_parameter(df_final_grid, project_vars['group_col'], group)\n",
    "                df_clin_group = df_group.copy()\n",
    "                df_X          = df_group.drop(columns = [project_vars['group_col']])\n",
    "                y_labeled     = preprocessing.label_y(df_group, predicted_target)\n",
    "                X_scaled      = preprocessing.scale_X(df_X)\n",
    "        return df_X, y_labeled, X_scaled, df_clin_group"
   ]
  },
  {
   "cell_type": "code",
   "execution_count": 127,
   "metadata": {},
   "outputs": [],
   "source": [
    "from os import path\n",
    "def get_features_df_per_group(group, X_scaled, y_labeled, df_X, pca_threshold, path2save, use_features=True):\n",
    "        features_rfe_and_rank_df = 'none'\n",
    "        if use_features:\n",
    "            if feature_algo == 'PCA':# using PCA\n",
    "                    features = predict.get_features_based_on_pca(\n",
    "                                        path2save,\n",
    "                                        pca_threshold,\n",
    "                                        X_scaled, cols_X,\n",
    "                                        group, atlas, lang)\n",
    "            elif feature_algo == 'RFE': # using RFE\n",
    "                    features, features_rfe_and_rank_df = predict.feature_ranking(X_scaled,\n",
    "                                                                        y_labeled,\n",
    "                                                                        self.cols_X)\n",
    "                    print(\"    number of features extracted by RFE: \",len(features_rfe_and_rank_df.feature))\n",
    "            df_with_features = tab.get_df_from_df(df_X, usecols = features)\n",
    "        else:\n",
    "            df_with_features = tab.get_df_from_df(df_X, usecols = cols_X)\n",
    "            features = cols_X\n",
    "        return df_with_features, features, features_rfe_and_rank_df"
   ]
  },
  {
   "cell_type": "code",
   "execution_count": 2,
   "metadata": {},
   "outputs": [],
   "source": [
    "from bin.vars import VARS\n",
    "materials_DIR = project_vars['materials_DIR'][1]\n",
    "vars = VARS(materials_DIR, project_vars)\n",
    "\n",
    "src_f = vars.f_src()['grid_file']\n",
    "lav_src_f = vars.lav_f_src()['grid_file']"
   ]
  },
  {
   "cell_type": "code",
   "execution_count": 3,
   "metadata": {},
   "outputs": [
    {
     "name": "stdout",
     "output_type": "stream",
     "text": [
      "    reading file: /home/ssp/Dropbox/pAyuko/materials/lav_organ_source_grid.csv,\n",
      "        sheet: 0\n"
     ]
    },
    {
     "data": {
      "text/html": [
       "<div>\n",
       "<style scoped>\n",
       "    .dataframe tbody tr th:only-of-type {\n",
       "        vertical-align: middle;\n",
       "    }\n",
       "\n",
       "    .dataframe tbody tr th {\n",
       "        vertical-align: top;\n",
       "    }\n",
       "\n",
       "    .dataframe thead th {\n",
       "        text-align: right;\n",
       "    }\n",
       "</style>\n",
       "<table border=\"1\" class=\"dataframe\">\n",
       "  <thead>\n",
       "    <tr style=\"text-align: right;\">\n",
       "      <th></th>\n",
       "      <th>protein id</th>\n",
       "      <th>adipose</th>\n",
       "      <th>adrenal gland</th>\n",
       "      <th>amnion</th>\n",
       "      <th>bladder</th>\n",
       "      <th>blood</th>\n",
       "      <th>blood vessel</th>\n",
       "      <th>bone</th>\n",
       "      <th>bone marrow</th>\n",
       "      <th>brain</th>\n",
       "      <th>...</th>\n",
       "      <th>spleen</th>\n",
       "      <th>stomach</th>\n",
       "      <th>testis</th>\n",
       "      <th>thymus</th>\n",
       "      <th>thyroid</th>\n",
       "      <th>tonsil</th>\n",
       "      <th>trachea</th>\n",
       "      <th>umbilical cord</th>\n",
       "      <th>ureter</th>\n",
       "      <th>uterus</th>\n",
       "    </tr>\n",
       "  </thead>\n",
       "  <tbody>\n",
       "    <tr>\n",
       "      <th>0</th>\n",
       "      <td>P69905</td>\n",
       "      <td>0.004847</td>\n",
       "      <td>0.011219</td>\n",
       "      <td>0.010555</td>\n",
       "      <td>0.030142</td>\n",
       "      <td>0.010239</td>\n",
       "      <td>0.051392</td>\n",
       "      <td>0.009597</td>\n",
       "      <td>0.017992</td>\n",
       "      <td>0.015318</td>\n",
       "      <td>...</td>\n",
       "      <td>0.032616</td>\n",
       "      <td>0.015616</td>\n",
       "      <td>0.009346</td>\n",
       "      <td>0.007890</td>\n",
       "      <td>0.008054</td>\n",
       "      <td>0.034810</td>\n",
       "      <td>0.012445</td>\n",
       "      <td>0.018774</td>\n",
       "      <td>0.000154</td>\n",
       "      <td>0.005390</td>\n",
       "    </tr>\n",
       "    <tr>\n",
       "      <th>1</th>\n",
       "      <td>G3V1N2</td>\n",
       "      <td>0.006817</td>\n",
       "      <td>0.019399</td>\n",
       "      <td>0.014767</td>\n",
       "      <td>0.045766</td>\n",
       "      <td>0.011010</td>\n",
       "      <td>0.080456</td>\n",
       "      <td>0.010308</td>\n",
       "      <td>0.022191</td>\n",
       "      <td>0.014098</td>\n",
       "      <td>...</td>\n",
       "      <td>0.047128</td>\n",
       "      <td>0.020931</td>\n",
       "      <td>0.012628</td>\n",
       "      <td>0.008145</td>\n",
       "      <td>0.009158</td>\n",
       "      <td>0.038922</td>\n",
       "      <td>0.020029</td>\n",
       "      <td>0.025757</td>\n",
       "      <td>0.000206</td>\n",
       "      <td>0.006325</td>\n",
       "    </tr>\n",
       "    <tr>\n",
       "      <th>2</th>\n",
       "      <td>P02042</td>\n",
       "      <td>0.005444</td>\n",
       "      <td>0.011160</td>\n",
       "      <td>0.011123</td>\n",
       "      <td>0.035269</td>\n",
       "      <td>0.010669</td>\n",
       "      <td>0.055326</td>\n",
       "      <td>0.010356</td>\n",
       "      <td>0.019333</td>\n",
       "      <td>0.014462</td>\n",
       "      <td>...</td>\n",
       "      <td>0.032344</td>\n",
       "      <td>0.015586</td>\n",
       "      <td>0.010299</td>\n",
       "      <td>0.008546</td>\n",
       "      <td>0.008912</td>\n",
       "      <td>0.048716</td>\n",
       "      <td>0.012094</td>\n",
       "      <td>0.021290</td>\n",
       "      <td>0.000165</td>\n",
       "      <td>0.005063</td>\n",
       "    </tr>\n",
       "    <tr>\n",
       "      <th>3</th>\n",
       "      <td>P68871</td>\n",
       "      <td>0.004528</td>\n",
       "      <td>0.011348</td>\n",
       "      <td>0.008678</td>\n",
       "      <td>0.029972</td>\n",
       "      <td>0.008632</td>\n",
       "      <td>0.052725</td>\n",
       "      <td>0.008581</td>\n",
       "      <td>0.016143</td>\n",
       "      <td>0.011682</td>\n",
       "      <td>...</td>\n",
       "      <td>0.028933</td>\n",
       "      <td>0.012684</td>\n",
       "      <td>0.009274</td>\n",
       "      <td>0.006555</td>\n",
       "      <td>0.006687</td>\n",
       "      <td>0.037350</td>\n",
       "      <td>0.011453</td>\n",
       "      <td>0.017350</td>\n",
       "      <td>0.000100</td>\n",
       "      <td>0.003789</td>\n",
       "    </tr>\n",
       "    <tr>\n",
       "      <th>4</th>\n",
       "      <td>P02768</td>\n",
       "      <td>0.014359</td>\n",
       "      <td>0.059679</td>\n",
       "      <td>0.016183</td>\n",
       "      <td>0.034624</td>\n",
       "      <td>0.016924</td>\n",
       "      <td>0.091760</td>\n",
       "      <td>0.022820</td>\n",
       "      <td>0.038666</td>\n",
       "      <td>0.026656</td>\n",
       "      <td>...</td>\n",
       "      <td>0.064551</td>\n",
       "      <td>0.033525</td>\n",
       "      <td>0.029442</td>\n",
       "      <td>0.011786</td>\n",
       "      <td>0.009376</td>\n",
       "      <td>0.016735</td>\n",
       "      <td>0.086394</td>\n",
       "      <td>0.019969</td>\n",
       "      <td>0.000246</td>\n",
       "      <td>0.012108</td>\n",
       "    </tr>\n",
       "  </tbody>\n",
       "</table>\n",
       "<p>5 rows × 53 columns</p>\n",
       "</div>"
      ],
      "text/plain": [
       "  protein id   adipose  adrenal gland    amnion   bladder     blood  \\\n",
       "0     P69905  0.004847       0.011219  0.010555  0.030142  0.010239   \n",
       "1     G3V1N2  0.006817       0.019399  0.014767  0.045766  0.011010   \n",
       "2     P02042  0.005444       0.011160  0.011123  0.035269  0.010669   \n",
       "3     P68871  0.004528       0.011348  0.008678  0.029972  0.008632   \n",
       "4     P02768  0.014359       0.059679  0.016183  0.034624  0.016924   \n",
       "\n",
       "   blood vessel      bone  bone marrow     brain  ...    spleen   stomach  \\\n",
       "0      0.051392  0.009597     0.017992  0.015318  ...  0.032616  0.015616   \n",
       "1      0.080456  0.010308     0.022191  0.014098  ...  0.047128  0.020931   \n",
       "2      0.055326  0.010356     0.019333  0.014462  ...  0.032344  0.015586   \n",
       "3      0.052725  0.008581     0.016143  0.011682  ...  0.028933  0.012684   \n",
       "4      0.091760  0.022820     0.038666  0.026656  ...  0.064551  0.033525   \n",
       "\n",
       "     testis    thymus   thyroid    tonsil   trachea  umbilical cord    ureter  \\\n",
       "0  0.009346  0.007890  0.008054  0.034810  0.012445        0.018774  0.000154   \n",
       "1  0.012628  0.008145  0.009158  0.038922  0.020029        0.025757  0.000206   \n",
       "2  0.010299  0.008546  0.008912  0.048716  0.012094        0.021290  0.000165   \n",
       "3  0.009274  0.006555  0.006687  0.037350  0.011453        0.017350  0.000100   \n",
       "4  0.029442  0.011786  0.009376  0.016735  0.086394        0.019969  0.000246   \n",
       "\n",
       "     uterus  \n",
       "0  0.005390  \n",
       "1  0.006325  \n",
       "2  0.005063  \n",
       "3  0.003789  \n",
       "4  0.012108  \n",
       "\n",
       "[5 rows x 53 columns]"
      ]
     },
     "execution_count": 3,
     "metadata": {},
     "output_type": "execute_result"
    }
   ],
   "source": [
    "lav_src_df = tab.get_df(lav_src_f)\n",
    "lav_src_df.head()"
   ]
  },
  {
   "cell_type": "code",
   "execution_count": 5,
   "metadata": {},
   "outputs": [
    {
     "name": "stdout",
     "output_type": "stream",
     "text": [
      "    reading file: /home/ssp/Dropbox/pAyuko/materials/grid.csv,\n",
      "        sheet: 0\n"
     ]
    },
    {
     "data": {
      "text/html": [
       "<div>\n",
       "<style scoped>\n",
       "    .dataframe tbody tr th:only-of-type {\n",
       "        vertical-align: middle;\n",
       "    }\n",
       "\n",
       "    .dataframe tbody tr th {\n",
       "        vertical-align: top;\n",
       "    }\n",
       "\n",
       "    .dataframe thead th {\n",
       "        text-align: right;\n",
       "    }\n",
       "</style>\n",
       "<table border=\"1\" class=\"dataframe\">\n",
       "  <thead>\n",
       "    <tr style=\"text-align: right;\">\n",
       "      <th></th>\n",
       "      <th>sample name</th>\n",
       "      <th>control1_mom</th>\n",
       "      <th>control2_dad</th>\n",
       "      <th>control_dad_Jon</th>\n",
       "      <th>control_mom_HZ</th>\n",
       "      <th>AH</th>\n",
       "      <th>DG</th>\n",
       "      <th>FS</th>\n",
       "      <th>SS</th>\n",
       "      <th>EA</th>\n",
       "      <th>...</th>\n",
       "      <th>PAT_5_DAD</th>\n",
       "      <th>PAT_9_DAD</th>\n",
       "      <th>PAT_11_DAD</th>\n",
       "      <th>PAT_12_DAD</th>\n",
       "      <th>PAT_23_DAD</th>\n",
       "      <th>PAT_24_DAD</th>\n",
       "      <th>PAT_25_DAD</th>\n",
       "      <th>PAT_26_DAD</th>\n",
       "      <th>PAT_28_DAD</th>\n",
       "      <th>PAT_34_DAD</th>\n",
       "    </tr>\n",
       "  </thead>\n",
       "  <tbody>\n",
       "    <tr>\n",
       "      <th>0</th>\n",
       "      <td>A0A024QZ42</td>\n",
       "      <td>NaN</td>\n",
       "      <td>NaN</td>\n",
       "      <td>NaN</td>\n",
       "      <td>NaN</td>\n",
       "      <td>NaN</td>\n",
       "      <td>NaN</td>\n",
       "      <td>NaN</td>\n",
       "      <td>NaN</td>\n",
       "      <td>NaN</td>\n",
       "      <td>...</td>\n",
       "      <td>NaN</td>\n",
       "      <td>NaN</td>\n",
       "      <td>NaN</td>\n",
       "      <td>NaN</td>\n",
       "      <td>NaN</td>\n",
       "      <td>NaN</td>\n",
       "      <td>NaN</td>\n",
       "      <td>NaN</td>\n",
       "      <td>NaN</td>\n",
       "      <td>NaN</td>\n",
       "    </tr>\n",
       "    <tr>\n",
       "      <th>1</th>\n",
       "      <td>A0A024R6I7</td>\n",
       "      <td>NaN</td>\n",
       "      <td>NaN</td>\n",
       "      <td>NaN</td>\n",
       "      <td>NaN</td>\n",
       "      <td>NaN</td>\n",
       "      <td>NaN</td>\n",
       "      <td>NaN</td>\n",
       "      <td>NaN</td>\n",
       "      <td>NaN</td>\n",
       "      <td>...</td>\n",
       "      <td>8.380147e+09</td>\n",
       "      <td>4.064809e+09</td>\n",
       "      <td>1.387224e+10</td>\n",
       "      <td>9.784971e+09</td>\n",
       "      <td>6.814765e+08</td>\n",
       "      <td>1.023226e+10</td>\n",
       "      <td>1.058499e+10</td>\n",
       "      <td>7.294337e+09</td>\n",
       "      <td>1.206384e+10</td>\n",
       "      <td>2.149113e+10</td>\n",
       "    </tr>\n",
       "    <tr>\n",
       "      <th>2</th>\n",
       "      <td>A0A075B6H6</td>\n",
       "      <td>NaN</td>\n",
       "      <td>NaN</td>\n",
       "      <td>NaN</td>\n",
       "      <td>NaN</td>\n",
       "      <td>NaN</td>\n",
       "      <td>NaN</td>\n",
       "      <td>NaN</td>\n",
       "      <td>NaN</td>\n",
       "      <td>NaN</td>\n",
       "      <td>...</td>\n",
       "      <td>4.504637e+10</td>\n",
       "      <td>7.877767e+10</td>\n",
       "      <td>4.155060e+10</td>\n",
       "      <td>1.949518e+10</td>\n",
       "      <td>7.845376e+09</td>\n",
       "      <td>2.236716e+10</td>\n",
       "      <td>2.245881e+10</td>\n",
       "      <td>3.233661e+10</td>\n",
       "      <td>2.352911e+10</td>\n",
       "      <td>1.933386e+10</td>\n",
       "    </tr>\n",
       "    <tr>\n",
       "      <th>3</th>\n",
       "      <td>A0A075B6H7</td>\n",
       "      <td>NaN</td>\n",
       "      <td>NaN</td>\n",
       "      <td>NaN</td>\n",
       "      <td>NaN</td>\n",
       "      <td>NaN</td>\n",
       "      <td>NaN</td>\n",
       "      <td>NaN</td>\n",
       "      <td>NaN</td>\n",
       "      <td>NaN</td>\n",
       "      <td>...</td>\n",
       "      <td>2.812075e+09</td>\n",
       "      <td>2.512911e+09</td>\n",
       "      <td>1.367624e+07</td>\n",
       "      <td>4.183046e+09</td>\n",
       "      <td>0.000000e+00</td>\n",
       "      <td>4.900771e+09</td>\n",
       "      <td>5.727654e+09</td>\n",
       "      <td>7.577806e+09</td>\n",
       "      <td>1.396810e+07</td>\n",
       "      <td>1.181673e+09</td>\n",
       "    </tr>\n",
       "    <tr>\n",
       "      <th>4</th>\n",
       "      <td>A0A075B6H9</td>\n",
       "      <td>NaN</td>\n",
       "      <td>NaN</td>\n",
       "      <td>NaN</td>\n",
       "      <td>NaN</td>\n",
       "      <td>NaN</td>\n",
       "      <td>NaN</td>\n",
       "      <td>NaN</td>\n",
       "      <td>NaN</td>\n",
       "      <td>NaN</td>\n",
       "      <td>...</td>\n",
       "      <td>4.404343e+08</td>\n",
       "      <td>1.370772e+09</td>\n",
       "      <td>0.000000e+00</td>\n",
       "      <td>9.539774e+08</td>\n",
       "      <td>4.922092e+07</td>\n",
       "      <td>3.265627e+08</td>\n",
       "      <td>1.059017e+08</td>\n",
       "      <td>9.322918e+08</td>\n",
       "      <td>0.000000e+00</td>\n",
       "      <td>2.599797e+07</td>\n",
       "    </tr>\n",
       "  </tbody>\n",
       "</table>\n",
       "<p>5 rows × 79 columns</p>\n",
       "</div>"
      ],
      "text/plain": [
       "  sample name  control1_mom  control2_dad  control_dad_Jon  control_mom_HZ  \\\n",
       "0  A0A024QZ42           NaN           NaN              NaN             NaN   \n",
       "1  A0A024R6I7           NaN           NaN              NaN             NaN   \n",
       "2  A0A075B6H6           NaN           NaN              NaN             NaN   \n",
       "3  A0A075B6H7           NaN           NaN              NaN             NaN   \n",
       "4  A0A075B6H9           NaN           NaN              NaN             NaN   \n",
       "\n",
       "   AH  DG  FS  SS  EA  ...     PAT_5_DAD     PAT_9_DAD    PAT_11_DAD  \\\n",
       "0 NaN NaN NaN NaN NaN  ...           NaN           NaN           NaN   \n",
       "1 NaN NaN NaN NaN NaN  ...  8.380147e+09  4.064809e+09  1.387224e+10   \n",
       "2 NaN NaN NaN NaN NaN  ...  4.504637e+10  7.877767e+10  4.155060e+10   \n",
       "3 NaN NaN NaN NaN NaN  ...  2.812075e+09  2.512911e+09  1.367624e+07   \n",
       "4 NaN NaN NaN NaN NaN  ...  4.404343e+08  1.370772e+09  0.000000e+00   \n",
       "\n",
       "     PAT_12_DAD    PAT_23_DAD    PAT_24_DAD    PAT_25_DAD    PAT_26_DAD  \\\n",
       "0           NaN           NaN           NaN           NaN           NaN   \n",
       "1  9.784971e+09  6.814765e+08  1.023226e+10  1.058499e+10  7.294337e+09   \n",
       "2  1.949518e+10  7.845376e+09  2.236716e+10  2.245881e+10  3.233661e+10   \n",
       "3  4.183046e+09  0.000000e+00  4.900771e+09  5.727654e+09  7.577806e+09   \n",
       "4  9.539774e+08  4.922092e+07  3.265627e+08  1.059017e+08  9.322918e+08   \n",
       "\n",
       "     PAT_28_DAD    PAT_34_DAD  \n",
       "0           NaN           NaN  \n",
       "1  1.206384e+10  2.149113e+10  \n",
       "2  2.352911e+10  1.933386e+10  \n",
       "3  1.396810e+07  1.181673e+09  \n",
       "4  0.000000e+00  2.599797e+07  \n",
       "\n",
       "[5 rows x 79 columns]"
      ]
     },
     "execution_count": 5,
     "metadata": {},
     "output_type": "execute_result"
    }
   ],
   "source": [
    "src_df = tab.get_df(src_f)\n",
    "src_df.head()"
   ]
  },
  {
   "cell_type": "code",
   "execution_count": 6,
   "metadata": {},
   "outputs": [
    {
     "name": "stdout",
     "output_type": "stream",
     "text": [
      "(3009, 79) (308, 53)\n"
     ]
    }
   ],
   "source": [
    "print(src_df.shape, lav_src_df.shape)"
   ]
  },
  {
   "cell_type": "code",
   "execution_count": 42,
   "metadata": {
    "scrolled": true
   },
   "outputs": [
    {
     "name": "stdout",
     "output_type": "stream",
     "text": [
      "    reading file: /media/g/nimb_tmp/projects/hoshinolab_proteomics_age/stats_src/stats/stats_src.xlsx,\n",
      "        sheet: 0\n",
      "    reading file: /media/g/nimb_tmp/projects/hoshinolab_proteomics_age/stats_src/stats/grid.csv,\n",
      "        sheet: 0\n"
     ]
    }
   ],
   "source": [
    "df_user_stats, df_final_grid,\\\n",
    "            df_adjusted,\\\n",
    "            cols_X,\\\n",
    "            groups = MakeGrid(project_vars,\n",
    "                                nimb_stats).grid()"
   ]
  },
  {
   "cell_type": "code",
   "execution_count": 77,
   "metadata": {},
   "outputs": [],
   "source": [
    "#this grid has an error, as the former index is being saved as a column and must be removed\n",
    "col2rm = [i for i in df_final_grid.columns if 'CON' in i]+['Unnamed: 0']\n",
    "df_final_grid.drop(columns=col2rm, inplace=True)\n",
    "df_adjusted.drop(columns=col2rm, inplace=True)\n",
    "cols_X.remove('Unnamed: 0')\n",
    "cols_X.remove('CON_00708398_1')\n",
    "cols_X.remove('CON_LysC')\n",
    "cols_X.remove('CON_Trypsin')"
   ]
  },
  {
   "cell_type": "code",
   "execution_count": 48,
   "metadata": {},
   "outputs": [
    {
     "name": "stdout",
     "output_type": "stream",
     "text": [
      "    analysing 51 features for parameter: A6NNI4\n",
      "    analysing 51 features for parameter: O43866\n",
      "    analysing 51 features for parameter: P00450\n",
      "    analysing 51 features for parameter: P00488\n",
      "    analysing 51 features for parameter: P00739\n",
      "    analysing 51 features for parameter: P01008\n",
      "    analysing 51 features for parameter: P01009\n",
      "    analysing 51 features for parameter: P01011\n",
      "    analysing 51 features for parameter: P01023\n",
      "    analysing 51 features for parameter: P01024\n",
      "    analysing 51 features for parameter: P01031\n",
      "    analysing 51 features for parameter: P01593\n",
      "    analysing 51 features for parameter: P01597\n",
      "    analysing 51 features for parameter: P01625\n",
      "    analysing 51 features for parameter: P01764\n",
      "    analysing 51 features for parameter: P01767\n",
      "    analysing 51 features for parameter: P01781\n",
      "    analysing 51 features for parameter: P01833\n",
      "    analysing 51 features for parameter: P01859\n",
      "    analysing 51 features for parameter: P01876\n",
      "    analysing 51 features for parameter: P02042\n",
      "    analysing 51 features for parameter: P02647\n",
      "    analysing 51 features for parameter: P02652\n",
      "    analysing 51 features for parameter: P02675\n",
      "    analysing 51 features for parameter: P02745\n",
      "    analysing 51 features for parameter: P02760\n",
      "    analysing 51 features for parameter: P02763\n",
      "    analysing 51 features for parameter: P02765\n",
      "    analysing 51 features for parameter: P02766\n",
      "    analysing 51 features for parameter: P02768\n",
      "    analysing 51 features for parameter: P02775\n",
      "    analysing 51 features for parameter: P02776\n",
      "    analysing 51 features for parameter: P02787\n",
      "    analysing 51 features for parameter: P02790\n",
      "    analysing 51 features for parameter: P04003\n",
      "    analysing 51 features for parameter: P04114\n",
      "    analysing 51 features for parameter: P04196\n",
      "    analysing 51 features for parameter: P04220\n",
      "    analysing 51 features for parameter: P04275\n",
      "    analysing 51 features for parameter: P08603\n",
      "    analysing 51 features for parameter: P13671\n",
      "    analysing 51 features for parameter: P19652\n",
      "    analysing 51 features for parameter: P22792\n",
      "    analysing 51 features for parameter: P26038\n",
      "    analysing 51 features for parameter: P35579\n",
      "    analysing 51 features for parameter: P60709\n",
      "    analysing 51 features for parameter: P61981\n",
      "    analysing 51 features for parameter: P68871\n",
      "    analysing 51 features for parameter: P69905\n",
      "    analysing 51 features for parameter: Q08380\n",
      "    analysing 51 features for parameter: age\n",
      "{'A6NNI4': {'P00488': {'pvalues': 3.5190965550602484e-33, 'intercept': 1.9555791452004844e-10, 'meas': 'P00488', 'struct': 'P00488'}, 'P01593': {'pvalues': 0.003581578875617178, 'intercept': 2.3226991477633615e-10, 'meas': 'P01593', 'struct': 'P01593'}, 'P01625': {'pvalues': 3.478075814717193e-06, 'intercept': 2.2671498094359836e-12, 'meas': 'P01625', 'struct': 'P01625'}, 'P02042': {'pvalues': 0.0012490627148330346, 'intercept': 1.4858306226495008e-12, 'meas': 'P02042', 'struct': 'P02042'}, 'P02647': {'pvalues': 0.00024120305825636173, 'intercept': 8.043926265553116e-21, 'meas': 'P02647', 'struct': 'P02647'}, 'P02652': {'pvalues': 0.041380843545604305, 'intercept': 3.599630932301674e-14, 'meas': 'P02652', 'struct': 'P02652'}, 'P02675': {'pvalues': 0.0011033421501074035, 'intercept': 2.5890777095410956e-17, 'meas': 'P02675', 'struct': 'P02675'}, 'P02763': {'pvalues': 0.04289763669037527, 'intercept': 7.264297643197111e-16, 'meas': 'P02763', 'struct': 'P02763'}, 'P02765': {'pvalues': 0.01869151166116117, 'intercept': 1.9829907453055191e-16, 'meas': 'P02765', 'struct': 'P02765'}, 'P04003': {'pvalues': 0.012457111977729725, 'intercept': 2.7947833863309717e-18, 'meas': 'P04003', 'struct': 'P04003'}, 'P04114': {'pvalues': 1.8712478144625394e-12, 'intercept': 0.0012008714908718636, 'meas': 'P04114', 'struct': 'P04114'}, 'P19652': {'pvalues': 0.00016931714638970073, 'intercept': 3.8694672016216614e-13, 'meas': 'P19652', 'struct': 'P19652'}, 'P26038': {'pvalues': 7.284238430709534e-24, 'intercept': 0.0001008312717932172, 'meas': 'P26038', 'struct': 'P26038'}, 'P68871': {'pvalues': 8.215926543895369e-05, 'intercept': 3.4538209521302228e-12, 'meas': 'P68871', 'struct': 'P68871'}, 'P69905': {'pvalues': 0.000823145058412931, 'intercept': 7.09709202725206e-13, 'meas': 'P69905', 'struct': 'P69905'}, 'age': {'pvalues': 0.00478559141371629, 'intercept': 4.3854040136717445e-23, 'meas': 'age', 'struct': 'age'}}, 'O43866': {'P00450': {'pvalues': 0.03528972052050066, 'intercept': 3.196857178895636e-06, 'meas': 'P00450', 'struct': 'P00450'}, 'P00739': {'pvalues': 0.0007638598257527178, 'intercept': 3.464849072912776e-05, 'meas': 'P00739', 'struct': 'P00739'}, 'P01023': {'pvalues': 3.573073770612423e-05, 'intercept': 4.911227205169595e-09, 'meas': 'P01023', 'struct': 'P01023'}, 'P01024': {'pvalues': 0.00532428861836565, 'intercept': 1.1544284186550067e-05, 'meas': 'P01024', 'struct': 'P01024'}, 'P01031': {'pvalues': 0.0013120757773380303, 'intercept': 9.250544883072178e-05, 'meas': 'P01031', 'struct': 'P01031'}, 'P01859': {'pvalues': 7.597247566299797e-06, 'intercept': 0.006669861708885, 'meas': 'P01859', 'struct': 'P01859'}, 'P01876': {'pvalues': 0.0005124103008721048, 'intercept': 0.001061794015995595, 'meas': 'P01876', 'struct': 'P01876'}, 'P02647': {'pvalues': 0.015249394704850835, 'intercept': 1.3446524927317552e-06, 'meas': 'P02647', 'struct': 'P02647'}, 'P02675': {'pvalues': 0.04174519193101171, 'intercept': 2.6500157751033828e-05, 'meas': 'P02675', 'struct': 'P02675'}, 'P02745': {'pvalues': 1.2046912052459726e-05, 'intercept': 0.003696019881986191, 'meas': 'P02745', 'struct': 'P02745'}, 'P02768': {'pvalues': 0.028311069236783334, 'intercept': 3.0729729025376266e-12, 'meas': 'P02768', 'struct': 'P02768'}, 'P04003': {'pvalues': 1.7542903856238736e-09, 'intercept': 0.006237725604700636, 'meas': 'P04003', 'struct': 'P04003'}, 'P04196': {'pvalues': 0.007160126222264908, 'intercept': 0.0004239549950340348, 'meas': 'P04196', 'struct': 'P04196'}, 'P04220': {'pvalues': 5.715582157710906e-13, 'intercept': 1.3646846520516195e-05, 'meas': 'P04220', 'struct': 'P04220'}, 'P08603': {'pvalues': 0.04762752447443267, 'intercept': 3.33958580138631e-07, 'meas': 'P08603', 'struct': 'P08603'}, 'P19652': {'pvalues': 0.04644202903816589, 'intercept': 0.002121550232710357, 'meas': 'P19652', 'struct': 'P19652'}, 'Q08380': {'pvalues': 0.0033109729595429335, 'intercept': 0.0017240184819793595, 'meas': 'Q08380', 'struct': 'Q08380'}, 'age': {'pvalues': 0.002814546100736126, 'intercept': 1.321424724173163e-06, 'meas': 'age', 'struct': 'age'}}, 'P00450': {'O43866': {'pvalues': 0.035289720520500764, 'intercept': 7.60009635122312e-06, 'meas': 'O43866', 'struct': 'O43866'}, 'P00450': {'pvalues': 0.0, 'intercept': 5.100578065486421e-09, 'meas': 'P00450', 'struct': 'P00450'}, 'P00739': {'pvalues': 0.0002663959518120387, 'intercept': 9.089159268723248e-05, 'meas': 'P00739', 'struct': 'P00739'}, 'P01008': {'pvalues': 7.15774287053185e-11, 'intercept': 0.0024214532819430575, 'meas': 'P01008', 'struct': 'P01008'}, 'P01009': {'pvalues': 9.769398171345097e-14, 'intercept': 0.0018361932822164226, 'meas': 'P01009', 'struct': 'P01009'}, 'P01011': {'pvalues': 4.0989531692473314e-10, 'intercept': 4.328306527782321e-06, 'meas': 'P01011', 'struct': 'P01011'}, 'P01023': {'pvalues': 3.6534662725157045e-07, 'intercept': 2.628948659791903e-08, 'meas': 'P01023', 'struct': 'P01023'}, 'P01024': {'pvalues': 5.517240545655961e-12, 'intercept': 0.01033344689850292, 'meas': 'P01024', 'struct': 'P01024'}, 'P01031': {'pvalues': 1.5838576052388279e-07, 'intercept': 0.004396709712667265, 'meas': 'P01031', 'struct': 'P01031'}, 'P01625': {'pvalues': 0.027737438277355836, 'intercept': 0.01184284291672235, 'meas': 'P01625', 'struct': 'P01625'}, 'P01859': {'pvalues': 4.094542498837423e-07, 'intercept': 0.022068667985287577, 'meas': 'P01859', 'struct': 'P01859'}, 'P01876': {'pvalues': 0.002223619416927653, 'intercept': 0.0006536329089633668, 'meas': 'P01876', 'struct': 'P01876'}, 'P02647': {'pvalues': 9.143665458263278e-10, 'intercept': 0.0011049500027643395, 'meas': 'P02647', 'struct': 'P02647'}, 'P02675': {'pvalues': 0.00011345209122249745, 'intercept': 0.0017202275155648152, 'meas': 'P02675', 'struct': 'P02675'}, 'P02760': {'pvalues': 2.5157303780490438e-08, 'intercept': 0.0168808478798966, 'meas': 'P02760', 'struct': 'P02760'}, 'P02763': {'pvalues': 1.2606789625565387e-07, 'intercept': 0.039620841399244454, 'meas': 'P02763', 'struct': 'P02763'}, 'P02765': {'pvalues': 0.0005334687002601021, 'intercept': 0.0013295702750676162, 'meas': 'P02765', 'struct': 'P02765'}, 'P02766': {'pvalues': 0.014255402439570315, 'intercept': 0.000751722321490558, 'meas': 'P02766', 'struct': 'P02766'}, 'P02768': {'pvalues': 9.804465654302977e-09, 'intercept': 2.4912554795951927e-10, 'meas': 'P02768', 'struct': 'P02768'}, 'P02787': {'pvalues': 2.446414630900671e-13, 'intercept': 0.008016194223807647, 'meas': 'P02787', 'struct': 'P02787'}, 'P02790': {'pvalues': 1.3386909989036486e-12, 'intercept': 0.007571514844983693, 'meas': 'P02790', 'struct': 'P02790'}, 'P04003': {'pvalues': 0.004468261048636763, 'intercept': 4.802828273394461e-05, 'meas': 'P04003', 'struct': 'P04003'}, 'P04196': {'pvalues': 4.001070729832124e-07, 'intercept': 0.03586170120949496, 'meas': 'P04196', 'struct': 'P04196'}, 'P04220': {'pvalues': 0.00017750217660077804, 'intercept': 6.811591647739392e-07, 'meas': 'P04220', 'struct': 'P04220'}, 'P08603': {'pvalues': 8.26995938054359e-10, 'intercept': 0.0007932655437966087, 'meas': 'P08603', 'struct': 'P08603'}, 'P22792': {'pvalues': 4.811613865088593e-05, 'intercept': 0.03428621267217155, 'meas': 'P22792', 'struct': 'P22792'}, 'Q08380': {'pvalues': 0.022978739532916338, 'intercept': 0.0005628930909354191, 'meas': 'Q08380', 'struct': 'Q08380'}}, 'P00488': {'A6NNI4': {'pvalues': 3.519096555060299e-33, 'intercept': 8.129127357737305e-08, 'meas': 'A6NNI4', 'struct': 'A6NNI4'}, 'P01023': {'pvalues': 0.01640548829446106, 'intercept': 1.7367511769058263e-22, 'meas': 'P01023', 'struct': 'P01023'}, 'P01593': {'pvalues': 0.006073318996880602, 'intercept': 7.034479395110778e-08, 'meas': 'P01593', 'struct': 'P01593'}, 'P01597': {'pvalues': 0.034414327139281234, 'intercept': 1.5642643575172752e-07, 'meas': 'P01597', 'struct': 'P01597'}, 'P01625': {'pvalues': 1.4216777499107505e-06, 'intercept': 8.85003305899821e-09, 'meas': 'P01625', 'struct': 'P01625'}, 'P02042': {'pvalues': 0.0013595465329656914, 'intercept': 1.1519506344618292e-09, 'meas': 'P02042', 'struct': 'P02042'}, 'P02647': {'pvalues': 1.1378359047577952e-06, 'intercept': 3.621293730550775e-18, 'meas': 'P02647', 'struct': 'P02647'}, 'P02652': {'pvalues': 0.001526749157019056, 'intercept': 1.5649647878155342e-11, 'meas': 'P02652', 'struct': 'P02652'}, 'P02675': {'pvalues': 4.391059694928878e-06, 'intercept': 1.3182669110383774e-14, 'meas': 'P02675', 'struct': 'P02675'}, 'P02760': {'pvalues': 0.008567696274636983, 'intercept': 1.979636783918185e-14, 'meas': 'P02760', 'struct': 'P02760'}, 'P02763': {'pvalues': 0.0032956630499725026, 'intercept': 3.317810971056026e-13, 'meas': 'P02763', 'struct': 'P02763'}, 'P02765': {'pvalues': 0.016355631767895614, 'intercept': 1.0532291939215717e-13, 'meas': 'P02765', 'struct': 'P02765'}, 'P02768': {'pvalues': 0.025005585894438492, 'intercept': 8.913271674114676e-25, 'meas': 'P02768', 'struct': 'P02768'}, 'P02775': {'pvalues': 3.4498511157121435e-32, 'intercept': 1.4973710531270598e-08, 'meas': 'P02775', 'struct': 'P02775'}, 'P04003': {'pvalues': 0.013162193923973846, 'intercept': 2.0269412667488616e-15, 'meas': 'P04003', 'struct': 'P04003'}, 'P04196': {'pvalues': 0.006107279584006521, 'intercept': 5.217717322197149e-13, 'meas': 'P04196', 'struct': 'P04196'}, 'P13671': {'pvalues': 0.008759830519733166, 'intercept': 3.1062029150792856e-11, 'meas': 'P13671', 'struct': 'P13671'}, 'P19652': {'pvalues': 5.963008318497479e-06, 'intercept': 5.016097828958756e-10, 'meas': 'P19652', 'struct': 'P19652'}, 'P35579': {'pvalues': 9.832102961776726e-30, 'intercept': 2.289916136777963e-07, 'meas': 'P35579', 'struct': 'P35579'}, 'P60709': {'pvalues': 1.44421471685494e-33, 'intercept': 5.4954657037480624e-08, 'meas': 'P60709', 'struct': 'P60709'}, 'P61981': {'pvalues': 2.4337473215864505e-33, 'intercept': 2.0972635909949129e-07, 'meas': 'P61981', 'struct': 'P61981'}, 'P68871': {'pvalues': 6.80489774253345e-05, 'intercept': 5.7692199810496975e-09, 'meas': 'P68871', 'struct': 'P68871'}, 'P69905': {'pvalues': 0.0009410952944352655, 'intercept': 6.673142348741665e-10, 'meas': 'P69905', 'struct': 'P69905'}, 'age': {'pvalues': 0.047176486430661344, 'intercept': 8.202313657942118e-21, 'meas': 'age', 'struct': 'age'}}, 'P00739': {'O43866': {'pvalues': 0.0007638598257527039, 'intercept': 0.00016756656506132123, 'meas': 'O43866', 'struct': 'O43866'}, 'P00450': {'pvalues': 0.0002663959518120346, 'intercept': 0.00018327164883769642, 'meas': 'P00450', 'struct': 'P00450'}, 'P00739': {'pvalues': 0.0, 'intercept': 8.40439365259962e-07, 'meas': 'P00739', 'struct': 'P00739'}, 'P01008': {'pvalues': 0.0018123359153894803, 'intercept': 1.8402159081855684e-05, 'meas': 'P01008', 'struct': 'P01008'}, 'P01009': {'pvalues': 0.00528223216087597, 'intercept': 3.4362067055656718e-06, 'meas': 'P01009', 'struct': 'P01009'}, 'P01011': {'pvalues': 8.578564731235638e-07, 'intercept': 1.9950344242159162e-06, 'meas': 'P01011', 'struct': 'P01011'}, 'P01023': {'pvalues': 0.0016089007182267365, 'intercept': 3.4137197756921173e-09, 'meas': 'P01023', 'struct': 'P01023'}, 'P01024': {'pvalues': 1.427344404225002e-07, 'intercept': 0.0020269183147191873, 'meas': 'P01024', 'struct': 'P01024'}, 'P01031': {'pvalues': 6.36220947556342e-05, 'intercept': 0.0008200441608263307, 'meas': 'P01031', 'struct': 'P01031'}, 'P01859': {'pvalues': 0.0021795602182178154, 'intercept': 0.000945006261844431, 'meas': 'P01859', 'struct': 'P01859'}, 'P01876': {'pvalues': 1.3045055216523888e-05, 'intercept': 0.008930453645732916, 'meas': 'P01876', 'struct': 'P01876'}, 'P02042': {'pvalues': 0.022233379890899397, 'intercept': 0.007644012315729051, 'meas': 'P02042', 'struct': 'P02042'}, 'P02647': {'pvalues': 0.04763298642192058, 'intercept': 9.84307263498098e-07, 'meas': 'P02647', 'struct': 'P02647'}, 'P02652': {'pvalues': 0.03176050827924344, 'intercept': 0.0010059996678406255, 'meas': 'P02652', 'struct': 'P02652'}, 'P02745': {'pvalues': 0.00014785179170201694, 'intercept': 0.002495948465418103, 'meas': 'P02745', 'struct': 'P02745'}, 'P02760': {'pvalues': 0.010158408241440656, 'intercept': 0.00011656710883201256, 'meas': 'P02760', 'struct': 'P02760'}, 'P02763': {'pvalues': 0.001396678599622962, 'intercept': 0.0016792440272783888, 'meas': 'P02763', 'struct': 'P02763'}, 'P02768': {'pvalues': 0.0135356567728138, 'intercept': 1.6113884167397044e-11, 'meas': 'P02768', 'struct': 'P02768'}, 'P02787': {'pvalues': 0.00017191157384709082, 'intercept': 9.326488608346338e-05, 'meas': 'P02787', 'struct': 'P02787'}, 'P02790': {'pvalues': 0.0003499312674427158, 'intercept': 7.61504377255124e-05, 'meas': 'P02790', 'struct': 'P02790'}, 'P04003': {'pvalues': 0.0004919170759603424, 'intercept': 0.0002438200870403179, 'meas': 'P04003', 'struct': 'P04003'}, 'P04196': {'pvalues': 0.002875288116832525, 'intercept': 0.0013532424507038238, 'meas': 'P04196', 'struct': 'P04196'}, 'P04220': {'pvalues': 0.0028782198202680753, 'intercept': 2.4110649043461683e-07, 'meas': 'P04220', 'struct': 'P04220'}, 'P08603': {'pvalues': 4.731759253464487e-06, 'intercept': 0.00014105841499484023, 'meas': 'P08603', 'struct': 'P08603'}, 'P13671': {'pvalues': 0.015451844197627242, 'intercept': 0.002586403186556222, 'meas': 'P13671', 'struct': 'P13671'}, 'P19652': {'pvalues': 0.03569145262123058, 'intercept': 0.0040356461393102625, 'meas': 'P19652', 'struct': 'P19652'}, 'P69905': {'pvalues': 0.026511132695574445, 'intercept': 0.005360411535526362, 'meas': 'P69905', 'struct': 'P69905'}, 'age': {'pvalues': 0.004801937951198297, 'intercept': 2.1296202596912456e-06, 'meas': 'age', 'struct': 'age'}}, 'P01008': {'P00450': {'pvalues': 7.157742870531723e-11, 'intercept': 0.027424770796291114, 'meas': 'P00450', 'struct': 'P00450'}, 'P00739': {'pvalues': 0.001812335915389484, 'intercept': 9.009985532461848e-05, 'meas': 'P00739', 'struct': 'P00739'}, 'P01009': {'pvalues': 5.586976750786621e-19, 'intercept': 0.02405182039627128, 'meas': 'P01009', 'struct': 'P01009'}, 'P01011': {'pvalues': 4.182283862510521e-11, 'intercept': 3.418531549047947e-05, 'meas': 'P01011', 'struct': 'P01011'}, 'P01023': {'pvalues': 0.007187215229254371, 'intercept': 3.9225589142326464e-09, 'meas': 'P01023', 'struct': 'P01023'}, 'P01024': {'pvalues': 1.0076342942141821e-09, 'intercept': 0.013171244347164162, 'meas': 'P01024', 'struct': 'P01024'}, 'P01031': {'pvalues': 0.0005133606563645233, 'intercept': 0.0005935849433947643, 'meas': 'P01031', 'struct': 'P01031'}, 'P01781': {'pvalues': 0.049500206108902225, 'intercept': 0.024805347722595, 'meas': 'P01781', 'struct': 'P01781'}, 'P01859': {'pvalues': 0.00022901275128825154, 'intercept': 0.005363306687623903, 'meas': 'P01859', 'struct': 'P01859'}, 'P01876': {'pvalues': 0.0086811112276525, 'intercept': 0.0005931669323305836, 'meas': 'P01876', 'struct': 'P01876'}, 'P02042': {'pvalues': 0.009563557728271114, 'intercept': 0.019859317553530723, 'meas': 'P02042', 'struct': 'P02042'}, 'P02647': {'pvalues': 1.2670436406763638e-08, 'intercept': 0.0022646709956523417, 'meas': 'P02647', 'struct': 'P02647'}, 'P02675': {'pvalues': 0.00014812863806121574, 'intercept': 0.0035885053932862353, 'meas': 'P02675', 'struct': 'P02675'}, 'P02768': {'pvalues': 3.274534186288405e-08, 'intercept': 2.03384571917217e-09, 'meas': 'P02768', 'struct': 'P02768'}, 'P02790': {'pvalues': 2.2760527277068847e-14, 'intercept': 0.04309795544795278, 'meas': 'P02790', 'struct': 'P02790'}, 'P08603': {'pvalues': 4.590028209247914e-13, 'intercept': 0.009564461549866244, 'meas': 'P08603', 'struct': 'P08603'}, 'P22792': {'pvalues': 0.0063029384724787125, 'intercept': 0.006219051012418732, 'meas': 'P22792', 'struct': 'P22792'}}, 'P01009': {'P00739': {'pvalues': 0.005282232160875997, 'intercept': 9.045967339137007e-05, 'meas': 'P00739', 'struct': 'P00739'}, 'P01011': {'pvalues': 1.1026963729508598e-10, 'intercept': 0.00010667710730723038, 'meas': 'P01011', 'struct': 'P01011'}, 'P01023': {'pvalues': 0.0007461544155344728, 'intercept': 4.459075969153653e-08, 'meas': 'P01023', 'struct': 'P01023'}, 'P01024': {'pvalues': 7.775314048893782e-07, 'intercept': 0.0054756131317313965, 'meas': 'P01024', 'struct': 'P01024'}, 'P01031': {'pvalues': 0.0059927191842657455, 'intercept': 0.00025351173082828487, 'meas': 'P01031', 'struct': 'P01031'}, 'P01859': {'pvalues': 0.00029273328027335904, 'intercept': 0.008247874139205092, 'meas': 'P01859', 'struct': 'P01859'}, 'P01876': {'pvalues': 0.03724339792848355, 'intercept': 0.0003051512773453423, 'meas': 'P01876', 'struct': 'P01876'}, 'P02647': {'pvalues': 4.557492908168036e-09, 'intercept': 0.006540242712900038, 'meas': 'P02647', 'struct': 'P02647'}, 'P02675': {'pvalues': 3.305137691442465e-05, 'intercept': 0.01186148850728431, 'meas': 'P02675', 'struct': 'P02675'}, 'P02768': {'pvalues': 7.372989428954976e-11, 'intercept': 1.2027078249131232e-08, 'meas': 'P02768', 'struct': 'P02768'}, 'P08603': {'pvalues': 1.6443725826336154e-09, 'intercept': 0.006093479657739499, 'meas': 'P08603', 'struct': 'P08603'}}, 'P01011': {'P00739': {'pvalues': 8.578564731235827e-07, 'intercept': 0.04954267432870787, 'meas': 'P00739', 'struct': 'P00739'}, 'P01011': {'pvalues': 0.0, 'intercept': 5.755923280719268e-05, 'meas': 'P01011', 'struct': 'P01011'}, 'P01023': {'pvalues': 0.00015324007352276802, 'intercept': 5.225904690557744e-06, 'meas': 'P01023', 'struct': 'P01023'}, 'P01876': {'pvalues': 0.00030721671357067647, 'intercept': 0.04399251801687886, 'meas': 'P01876', 'struct': 'P01876'}, 'P02745': {'pvalues': 0.00659873071210076, 'intercept': 0.00671548819859106, 'meas': 'P02745', 'struct': 'P02745'}, 'P02765': {'pvalues': 0.0004730587926090759, 'intercept': 0.034424532833803805, 'meas': 'P02765', 'struct': 'P02765'}, 'P02768': {'pvalues': 4.971839924217388e-08, 'intercept': 1.7465504587180247e-06, 'meas': 'P02768', 'struct': 'P02768'}, 'P04003': {'pvalues': 0.00044523485995722595, 'intercept': 0.00914285391551973, 'meas': 'P04003', 'struct': 'P04003'}, 'P04220': {'pvalues': 0.00140002292241554, 'intercept': 6.115822101728188e-05, 'meas': 'P04220', 'struct': 'P04220'}, 'age': {'pvalues': 0.011130509643542605, 'intercept': 9.585345032357103e-05, 'meas': 'age', 'struct': 'age'}}, 'P01023': {'P00739': {'pvalues': 0.0016089007182267438, 'intercept': 0.010164519578152658, 'meas': 'P00739', 'struct': 'P00739'}, 'P01008': {'pvalues': 0.007187215229254361, 'intercept': 0.0022308733534539154, 'meas': 'P01008', 'struct': 'P01008'}, 'P01009': {'pvalues': 0.000746154415534476, 'intercept': 0.005099734833696147, 'meas': 'P01009', 'struct': 'P01009'}, 'P01011': {'pvalues': 0.00015324007352276802, 'intercept': 0.0008296644215055974, 'meas': 'P01011', 'struct': 'P01011'}, 'P01023': {'pvalues': 0.0, 'intercept': 9.076665907656867e-06, 'meas': 'P01023', 'struct': 'P01023'}, 'P01593': {'pvalues': 8.44446510128928e-09, 'intercept': 0.049540170184798164, 'meas': 'P01593', 'struct': 'P01593'}, 'P01876': {'pvalues': 0.049066917569851994, 'intercept': 0.005765434538690736, 'meas': 'P01876', 'struct': 'P01876'}, 'P02768': {'pvalues': 8.368843365194302e-06, 'intercept': 1.1348300289308116e-05, 'meas': 'P02768', 'struct': 'P02768'}, 'P02787': {'pvalues': 0.002718880487965353, 'intercept': 0.005431567065699533, 'meas': 'P02787', 'struct': 'P02787'}, 'P02790': {'pvalues': 0.005326607125959738, 'intercept': 0.0038079248090695326, 'meas': 'P02790', 'struct': 'P02790'}, 'P04220': {'pvalues': 4.342936815052289e-06, 'intercept': 0.0073315380082558, 'meas': 'P04220', 'struct': 'P04220'}, 'P04275': {'pvalues': 8.175284224660323e-05, 'intercept': 0.01612408436518774, 'meas': 'P04275', 'struct': 'P04275'}, 'P08603': {'pvalues': 0.00025621612686134405, 'intercept': 0.010823173240727527, 'meas': 'P08603', 'struct': 'P08603'}}, 'P01024': {'O43866': {'pvalues': 0.005324288618365654, 'intercept': 4.61271093154189e-05, 'meas': 'O43866', 'struct': 'O43866'}, 'P00450': {'pvalues': 5.5172405456558614e-12, 'intercept': 0.017969133131779134, 'meas': 'P00450', 'struct': 'P00450'}, 'P00739': {'pvalues': 1.4273444042250172e-07, 'intercept': 0.0016806653594941038, 'meas': 'P00739', 'struct': 'P00739'}, 'P01008': {'pvalues': 1.0076342942141747e-09, 'intercept': 0.00205044841060427, 'meas': 'P01008', 'struct': 'P01008'}, 'P01009': {'pvalues': 7.775314048893824e-07, 'intercept': 0.00015682488391528712, 'meas': 'P01009', 'struct': 'P01009'}, 'P01011': {'pvalues': 1.174700193032092e-11, 'intercept': 9.146718403160885e-06, 'meas': 'P01011', 'struct': 'P01011'}, 'P01023': {'pvalues': 5.022157209556242e-07, 'intercept': 3.7819691767441425e-08, 'meas': 'P01023', 'struct': 'P01023'}, 'P01024': {'pvalues': 0.0, 'intercept': 0.0006056764563553129, 'meas': 'P01024', 'struct': 'P01024'}, 'P01876': {'pvalues': 4.0626590924133926e-05, 'intercept': 0.005498332167541514, 'meas': 'P01876', 'struct': 'P01876'}, 'P02042': {'pvalues': 0.007391978145685809, 'intercept': 0.015641858817040777, 'meas': 'P02042', 'struct': 'P02042'}, 'P02647': {'pvalues': 1.104318225531566e-09, 'intercept': 0.0014389921091196817, 'meas': 'P02647', 'struct': 'P02647'}, 'P02675': {'pvalues': 1.4410601238962764e-06, 'intercept': 0.0101381876611605, 'meas': 'P02675', 'struct': 'P02675'}, 'P02745': {'pvalues': 0.001625763437760575, 'intercept': 0.0006843904902522374, 'meas': 'P02745', 'struct': 'P02745'}, 'P02765': {'pvalues': 0.0011456848725876437, 'intercept': 0.001069703455911285, 'meas': 'P02765', 'struct': 'P02765'}, 'P02766': {'pvalues': 0.0006190077914590043, 'intercept': 0.006195478111370439, 'meas': 'P02766', 'struct': 'P02766'}, 'P02768': {'pvalues': 1.531131202351901e-05, 'intercept': 2.0035689249439273e-10, 'meas': 'P02768', 'struct': 'P02768'}, 'P02787': {'pvalues': 2.2229510040713488e-12, 'intercept': 0.008116416541731144, 'meas': 'P02787', 'struct': 'P02787'}, 'P02790': {'pvalues': 1.9663135357574095e-12, 'intercept': 0.009616693179810695, 'meas': 'P02790', 'struct': 'P02790'}, 'P04003': {'pvalues': 7.92616152167218e-06, 'intercept': 0.0013104528918623575, 'meas': 'P04003', 'struct': 'P04003'}, 'P04220': {'pvalues': 0.0005007337613605866, 'intercept': 5.762165602795076e-07, 'meas': 'P04220', 'struct': 'P04220'}, 'P08603': {'pvalues': 3.7483429089366264e-25, 'intercept': 0.01770872339066933, 'meas': 'P08603', 'struct': 'P08603'}, 'P68871': {'pvalues': 0.004388825302818514, 'intercept': 0.035457281507553826, 'meas': 'P68871', 'struct': 'P68871'}, 'P69905': {'pvalues': 0.0028832692476821273, 'intercept': 0.022024371967378872, 'meas': 'P69905', 'struct': 'P69905'}, 'age': {'pvalues': 0.0013295700406153765, 'intercept': 4.395173992158181e-06, 'meas': 'age', 'struct': 'age'}}, 'P01031': {'O43866': {'pvalues': 0.0013120757773380134, 'intercept': 4.258006306961225e-05, 'meas': 'O43866', 'struct': 'O43866'}, 'P00450': {'pvalues': 1.583857605238776e-07, 'intercept': 0.0008008648021754198, 'meas': 'P00450', 'struct': 'P00450'}, 'P00739': {'pvalues': 6.362209475563365e-05, 'intercept': 7.64413213905057e-05, 'meas': 'P00739', 'struct': 'P00739'}, 'P01008': {'pvalues': 0.0005133606563645209, 'intercept': 1.141042367780743e-05, 'meas': 'P01008', 'struct': 'P01008'}, 'P01009': {'pvalues': 0.005992719184265719, 'intercept': 9.310422959226096e-07, 'meas': 'P01009', 'struct': 'P01009'}, 'P01011': {'pvalues': 1.4897701309886217e-08, 'intercept': 7.424326011424663e-07, 'meas': 'P01011', 'struct': 'P01011'}, 'P01023': {'pvalues': 2.9952304816856746e-07, 'intercept': 6.845039471667541e-09, 'meas': 'P01023', 'struct': 'P01023'}, 'P01024': {'pvalues': 7.938862341356358e-19, 'intercept': 0.018031226698041428, 'meas': 'P01024', 'struct': 'P01024'}, 'P01031': {'pvalues': 0.0, 'intercept': 0.03497103465404311, 'meas': 'P01031', 'struct': 'P01031'}, 'P01781': {'pvalues': 0.046149327571262784, 'intercept': 0.012239337933446339, 'meas': 'P01781', 'struct': 'P01781'}, 'P01859': {'pvalues': 2.1571164206160765e-09, 'intercept': 0.03945627924422262, 'meas': 'P01859', 'struct': 'P01859'}, 'P01876': {'pvalues': 8.836162557421796e-05, 'intercept': 0.0017691065984012653, 'meas': 'P01876', 'struct': 'P01876'}, 'P02647': {'pvalues': 3.812808285914275e-07, 'intercept': 0.00011171849904644062, 'meas': 'P02647', 'struct': 'P02647'}, 'P02652': {'pvalues': 0.003242449029137381, 'intercept': 0.0025964052446158102, 'meas': 'P02652', 'struct': 'P02652'}, 'P02675': {'pvalues': 0.0002566124180118564, 'intercept': 0.0006085604926534023, 'meas': 'P02675', 'struct': 'P02675'}, 'P02745': {'pvalues': 0.0004913391565501624, 'intercept': 0.0005637530175959543, 'meas': 'P02745', 'struct': 'P02745'}, 'P02760': {'pvalues': 2.0765012994813987e-10, 'intercept': 0.02183509492444853, 'meas': 'P02760', 'struct': 'P02760'}, 'P02763': {'pvalues': 0.0015692153949452608, 'intercept': 0.0006691940238783079, 'meas': 'P02763', 'struct': 'P02763'}, 'P02768': {'pvalues': 0.0015409230057353111, 'intercept': 9.181335133157497e-12, 'meas': 'P02768', 'struct': 'P02768'}, 'P02787': {'pvalues': 0.0001342567147815125, 'intercept': 3.19256703943122e-05, 'meas': 'P02787', 'struct': 'P02787'}, 'P02790': {'pvalues': 4.96185590041893e-07, 'intercept': 0.0002604862934783521, 'meas': 'P02790', 'struct': 'P02790'}, 'P04003': {'pvalues': 3.4436286721872444e-06, 'intercept': 0.000632356291697555, 'meas': 'P04003', 'struct': 'P04003'}, 'P04220': {'pvalues': 0.0002189449871182045, 'intercept': 2.193726606601689e-07, 'meas': 'P04220', 'struct': 'P04220'}, 'P08603': {'pvalues': 1.8811490843296176e-12, 'intercept': 0.0006444562717269267, 'meas': 'P08603', 'struct': 'P08603'}, 'age': {'pvalues': 5.547049604463142e-05, 'intercept': 5.997677682449806e-06, 'meas': 'age', 'struct': 'age'}}, 'P01593': {'O43866': {'pvalues': 1.8146956639893918e-08, 'intercept': 2.3966377270518776e-09, 'meas': 'O43866', 'struct': 'O43866'}, 'P00450': {'pvalues': 0.010188253190154924, 'intercept': 1.500751936568175e-10, 'meas': 'P00450', 'struct': 'P00450'}, 'P01023': {'pvalues': 8.444465101289496e-09, 'intercept': 4.023059017343744e-17, 'meas': 'P01023', 'struct': 'P01023'}, 'P01024': {'pvalues': 0.0009052305985002338, 'intercept': 2.451484481170535e-10, 'meas': 'P01024', 'struct': 'P01024'}, 'P01031': {'pvalues': 0.0009650304279941348, 'intercept': 1.4886972406551437e-09, 'meas': 'P01031', 'struct': 'P01031'}, 'P01625': {'pvalues': 2.4275340184081e-19, 'intercept': 0.021496152189051737, 'meas': 'P01625', 'struct': 'P01625'}, 'P01781': {'pvalues': 0.039593712213132445, 'intercept': 6.88006796146285e-05, 'meas': 'P01781', 'struct': 'P01781'}, 'P01859': {'pvalues': 0.00016976818765996788, 'intercept': 7.020894967907664e-08, 'meas': 'P01859', 'struct': 'P01859'}, 'P02042': {'pvalues': 0.0033412178159417274, 'intercept': 1.8899518219484824e-05, 'meas': 'P02042', 'struct': 'P02042'}, 'P02647': {'pvalues': 0.0005368571927120479, 'intercept': 3.7253217113824236e-11, 'meas': 'P02647', 'struct': 'P02647'}, 'P02675': {'pvalues': 0.0059669103181482904, 'intercept': 6.053974624598648e-09, 'meas': 'P02675', 'struct': 'P02675'}, 'P02760': {'pvalues': 0.037034032494726754, 'intercept': 1.1137748112853929e-09, 'meas': 'P02760', 'struct': 'P02760'}, 'P02768': {'pvalues': 0.01859140514838742, 'intercept': 1.1023197091728666e-18, 'meas': 'P02768', 'struct': 'P02768'}, 'P04003': {'pvalues': 2.9679221968173925e-12, 'intercept': 1.422922591534846e-09, 'meas': 'P04003', 'struct': 'P04003'}, 'P04196': {'pvalues': 0.004650586997652153, 'intercept': 5.210565727174874e-08, 'meas': 'P04196', 'struct': 'P04196'}, 'P04220': {'pvalues': 2.0268759571238252e-08, 'intercept': 8.046032032374331e-14, 'meas': 'P04220', 'struct': 'P04220'}, 'P13671': {'pvalues': 0.008379802960243333, 'intercept': 9.3470470813619e-07, 'meas': 'P13671', 'struct': 'P13671'}, 'P19652': {'pvalues': 7.728773533745068e-06, 'intercept': 0.00010322630382923776, 'meas': 'P19652', 'struct': 'P19652'}, 'P22792': {'pvalues': 8.098174556849941e-06, 'intercept': 8.033352170307154e-06, 'meas': 'P22792', 'struct': 'P22792'}, 'P68871': {'pvalues': 0.0018837825850368118, 'intercept': 7.079752997981876e-05, 'meas': 'P68871', 'struct': 'P68871'}, 'P69905': {'pvalues': 0.005154933096911082, 'intercept': 1.003767323089874e-05, 'meas': 'P69905', 'struct': 'P69905'}, 'Q08380': {'pvalues': 0.0027552326035093833, 'intercept': 2.9758862670364403e-07, 'meas': 'Q08380', 'struct': 'Q08380'}}, 'P01597': {'O43866': {'pvalues': 2.1048652907462655e-07, 'intercept': 5.54647775067907e-10, 'meas': 'O43866', 'struct': 'O43866'}, 'P00450': {'pvalues': 0.005432803115582319, 'intercept': 6.433173015258439e-11, 'meas': 'P00450', 'struct': 'P00450'}, 'P01023': {'pvalues': 2.491206293925424e-06, 'intercept': 3.2935492713649544e-17, 'meas': 'P01023', 'struct': 'P01023'}, 'P01024': {'pvalues': 0.0033545398543776443, 'intercept': 4.9556771587775646e-11, 'meas': 'P01024', 'struct': 'P01024'}, 'P01031': {'pvalues': 0.0005816391042440449, 'intercept': 5.29610915307321e-10, 'meas': 'P01031', 'struct': 'P01031'}, 'P01593': {'pvalues': 1.3161201896798469e-11, 'intercept': 0.014721642698902629, 'meas': 'P01593', 'struct': 'P01593'}, 'P01597': {'pvalues': 0.0, 'intercept': 1.735792435631928e-06, 'meas': 'P01597', 'struct': 'P01597'}, 'P01625': {'pvalues': 1.1347964896785485e-12, 'intercept': 0.002946489969677587, 'meas': 'P01625', 'struct': 'P01625'}, 'P01781': {'pvalues': 0.03816356536460384, 'intercept': 3.7979032372513284e-05, 'meas': 'P01781', 'struct': 'P01781'}, 'P01859': {'pvalues': 8.528590194919645e-05, 'intercept': 2.6554509481686594e-08, 'meas': 'P01859', 'struct': 'P01859'}, 'P01876': {'pvalues': 0.025945699956340707, 'intercept': 2.486591459571685e-09, 'meas': 'P01876', 'struct': 'P01876'}, 'P02647': {'pvalues': 0.00017130718434643996, 'intercept': 1.2352381881870269e-11, 'meas': 'P02647', 'struct': 'P02647'}, 'P02675': {'pvalues': 0.000391985888753265, 'intercept': 5.522839192581466e-09, 'meas': 'P02675', 'struct': 'P02675'}, 'P02760': {'pvalues': 0.011192516002115013, 'intercept': 8.382504706548762e-10, 'meas': 'P02760', 'struct': 'P02760'}, 'P02768': {'pvalues': 0.002194082947429837, 'intercept': 3.394827760365966e-19, 'meas': 'P02768', 'struct': 'P02768'}, 'P04003': {'pvalues': 1.5949979215569326e-09, 'intercept': 5.402885679682602e-10, 'meas': 'P04003', 'struct': 'P04003'}, 'P04196': {'pvalues': 0.0045683936881941705, 'intercept': 1.940156870790448e-08, 'meas': 'P04196', 'struct': 'P04196'}, 'P04220': {'pvalues': 8.688919527687901e-12, 'intercept': 1.3823966970331274e-15, 'meas': 'P04220', 'struct': 'P04220'}, 'P08603': {'pvalues': 0.04713575323493295, 'intercept': 1.2678684234453654e-12, 'meas': 'P08603', 'struct': 'P08603'}, 'P13671': {'pvalues': 0.0003644625875652768, 'intercept': 1.5171817392339554e-06, 'meas': 'P13671', 'struct': 'P13671'}, 'P19652': {'pvalues': 2.2747828369990154e-06, 'intercept': 5.250137784122375e-05, 'meas': 'P19652', 'struct': 'P19652'}, 'P22792': {'pvalues': 1.6927660705410165e-06, 'intercept': 3.6811700348526517e-06, 'meas': 'P22792', 'struct': 'P22792'}, 'Q08380': {'pvalues': 0.015812940281318175, 'intercept': 4.6035696892199006e-08, 'meas': 'Q08380', 'struct': 'Q08380'}}, 'P01625': {'A6NNI4': {'pvalues': 3.4780758147172954e-06, 'intercept': 0.029025615000444944, 'meas': 'A6NNI4', 'struct': 'A6NNI4'}, 'O43866': {'pvalues': 6.629720869658196e-09, 'intercept': 2.8660362070507436e-08, 'meas': 'O43866', 'struct': 'O43866'}, 'P00450': {'pvalues': 0.0277374382773557, 'intercept': 4.721276323790856e-10, 'meas': 'P00450', 'struct': 'P00450'}, 'P01023': {'pvalues': 2.8361427930523493e-09, 'intercept': 5.988749101578767e-16, 'meas': 'P01023', 'struct': 'P01023'}, 'P01024': {'pvalues': 0.0012992587461436295, 'intercept': 1.4852791581015382e-09, 'meas': 'P01024', 'struct': 'P01024'}, 'P01031': {'pvalues': 0.0012176941886042575, 'intercept': 8.65289056470187e-09, 'meas': 'P01031', 'struct': 'P01031'}, 'P01625': {'pvalues': 0.0, 'intercept': 3.2268687492535022e-09, 'meas': 'P01625', 'struct': 'P01625'}, 'P01781': {'pvalues': 0.029111876866794225, 'intercept': 0.00023004418243381187, 'meas': 'P01781', 'struct': 'P01781'}, 'P01859': {'pvalues': 6.380799625331969e-05, 'intercept': 5.543627946068227e-07, 'meas': 'P01859', 'struct': 'P01859'}, 'P02042': {'pvalues': 0.00018202218780763197, 'intercept': 0.00024018639316640108, 'meas': 'P02042', 'struct': 'P02042'}, 'P02647': {'pvalues': 8.338165612727832e-06, 'intercept': 6.165693505810302e-10, 'meas': 'P02647', 'struct': 'P02647'}, 'P02675': {'pvalues': 6.281098259228313e-06, 'intercept': 3.081752231317762e-07, 'meas': 'P02675', 'struct': 'P02675'}, 'P02760': {'pvalues': 0.006913371353770122, 'intercept': 1.6272075488062058e-08, 'meas': 'P02760', 'struct': 'P02760'}, 'P02763': {'pvalues': 0.04907560220632319, 'intercept': 3.53547574755456e-08, 'meas': 'P02763', 'struct': 'P02763'}, 'P02768': {'pvalues': 0.00860144637105594, 'intercept': 1.2493548462531667e-17, 'meas': 'P02768', 'struct': 'P02768'}, 'P02775': {'pvalues': 3.07524721424286e-05, 'intercept': 0.04696086706319393, 'meas': 'P02775', 'struct': 'P02775'}, 'P04003': {'pvalues': 1.825057469204169e-14, 'intercept': 1.530538770989868e-08, 'meas': 'P04003', 'struct': 'P04003'}, 'P04196': {'pvalues': 0.0005668563226783002, 'intercept': 6.573452530901368e-07, 'meas': 'P04196', 'struct': 'P04196'}, 'P04220': {'pvalues': 9.87727372185372e-09, 'intercept': 1.2156000580409955e-12, 'meas': 'P04220', 'struct': 'P04220'}, 'P13671': {'pvalues': 0.004166350416208519, 'intercept': 5.49341784032751e-06, 'meas': 'P13671', 'struct': 'P13671'}, 'P19652': {'pvalues': 8.921643575053579e-09, 'intercept': 0.0018321351320901161, 'meas': 'P19652', 'struct': 'P19652'}, 'P22792': {'pvalues': 7.242476644446802e-05, 'intercept': 2.1677401363620114e-05, 'meas': 'P22792', 'struct': 'P22792'}, 'P60709': {'pvalues': 4.59599520048663e-06, 'intercept': 0.032809747151909006, 'meas': 'P60709', 'struct': 'P60709'}, 'P61981': {'pvalues': 2.114402932011359e-06, 'intercept': 0.028343568578822233, 'meas': 'P61981', 'struct': 'P61981'}, 'P68871': {'pvalues': 6.796668770988204e-05, 'intercept': 0.0008927829504721968, 'meas': 'P68871', 'struct': 'P68871'}, 'P69905': {'pvalues': 0.0011150404521330665, 'intercept': 7.715664790547281e-05, 'meas': 'P69905', 'struct': 'P69905'}, 'Q08380': {'pvalues': 0.013957100090647963, 'intercept': 5.201175575062902e-07, 'meas': 'Q08380', 'struct': 'Q08380'}}, 'P01764': {'P00450': {'pvalues': 0.00018723008927899087, 'intercept': 4.030552577802679e-15, 'meas': 'P00450', 'struct': 'P00450'}, 'P00739': {'pvalues': 0.0007704397990777837, 'intercept': 2.4118964729610165e-15, 'meas': 'P00739', 'struct': 'P00739'}, 'P01008': {'pvalues': 0.022411955648497937, 'intercept': 5.28866579709554e-16, 'meas': 'P01008', 'struct': 'P01008'}, 'P01009': {'pvalues': 0.0018179903120023972, 'intercept': 1.030031067894169e-16, 'meas': 'P01009', 'struct': 'P01009'}, 'P01023': {'pvalues': 0.01595733260193911, 'intercept': 1.4622769218524457e-21, 'meas': 'P01023', 'struct': 'P01023'}, 'P01597': {'pvalues': 0.021808476602705035, 'intercept': 7.114337927963101e-07, 'meas': 'P01597', 'struct': 'P01597'}, 'P01781': {'pvalues': 1.0800606940828408e-20, 'intercept': 4.5984064149884355e-09, 'meas': 'P01781', 'struct': 'P01781'}, 'P01859': {'pvalues': 0.0020440439688374774, 'intercept': 1.2677575073058613e-12, 'meas': 'P01859', 'struct': 'P01859'}, 'P01876': {'pvalues': 0.005015947070869452, 'intercept': 9.602770001270816e-13, 'meas': 'P01876', 'struct': 'P01876'}, 'P02652': {'pvalues': 0.005664933562640878, 'intercept': 9.106118504725376e-11, 'meas': 'P02652', 'struct': 'P02652'}, 'P02675': {'pvalues': 0.01476608290707677, 'intercept': 2.6680906833474975e-13, 'meas': 'P02675', 'struct': 'P02675'}, 'P02763': {'pvalues': 0.02561367907722144, 'intercept': 1.6878025831970032e-12, 'meas': 'P02763', 'struct': 'P02763'}, 'P02768': {'pvalues': 0.002159525125424552, 'intercept': 4.253060826320599e-24, 'meas': 'P02768', 'struct': 'P02768'}, 'P02787': {'pvalues': 0.017491006464091692, 'intercept': 1.0073994759827596e-15, 'meas': 'P02787', 'struct': 'P02787'}, 'P04220': {'pvalues': 0.011666756797541457, 'intercept': 9.196941835742463e-19, 'meas': 'P04220', 'struct': 'P04220'}}, 'P01767': {'P00450': {'pvalues': 0.00110981051896433, 'intercept': 4.987402988505162e-16, 'meas': 'P00450', 'struct': 'P00450'}, 'P00739': {'pvalues': 0.0033493054256445768, 'intercept': 2.9016022960340844e-16, 'meas': 'P00739', 'struct': 'P00739'}, 'P01009': {'pvalues': 0.009737086322547616, 'intercept': 1.289031969486822e-17, 'meas': 'P01009', 'struct': 'P01009'}, 'P01023': {'pvalues': 0.03309243285030252, 'intercept': 1.7518229434040561e-22, 'meas': 'P01023', 'struct': 'P01023'}, 'P01597': {'pvalues': 0.03105576139715561, 'intercept': 1.5323230576923054e-07, 'meas': 'P01597', 'struct': 'P01597'}, 'P01764': {'pvalues': 3.6146124225515006e-36, 'intercept': 0.011585452871970752, 'meas': 'P01764', 'struct': 'P01764'}, 'P01767': {'pvalues': 0.0, 'intercept': 2.3500847731401118e-05, 'meas': 'P01767', 'struct': 'P01767'}, 'P01781': {'pvalues': 1.0491753825805e-19, 'intercept': 7.952102717250963e-11, 'meas': 'P01781', 'struct': 'P01781'}, 'P01859': {'pvalues': 0.008120834302770002, 'intercept': 1.5030096287151507e-13, 'meas': 'P01859', 'struct': 'P01859'}, 'P01876': {'pvalues': 0.0032284435767241065, 'intercept': 1.228548243953087e-13, 'meas': 'P01876', 'struct': 'P01876'}, 'P02652': {'pvalues': 0.03278243198135128, 'intercept': 9.986167843790656e-12, 'meas': 'P02652', 'struct': 'P02652'}, 'P02768': {'pvalues': 0.006944000070667343, 'intercept': 5.743195807673569e-25, 'meas': 'P02768', 'struct': 'P02768'}, 'P04220': {'pvalues': 0.033113067892833616, 'intercept': 1.1051469827162214e-19, 'meas': 'P04220', 'struct': 'P04220'}}, 'P01781': {'O43866': {'pvalues': 0.00045578982542680255, 'intercept': 1.1367546376799609e-09, 'meas': 'O43866', 'struct': 'O43866'}, 'P00450': {'pvalues': 0.00021964299162559051, 'intercept': 6.43294838098479e-10, 'meas': 'P00450', 'struct': 'P00450'}, 'P00739': {'pvalues': 3.8042745390430803e-06, 'intercept': 5.991082729388073e-10, 'meas': 'P00739', 'struct': 'P00739'}, 'P01008': {'pvalues': 0.04950020610890238, 'intercept': 1.0586522686684053e-11, 'meas': 'P01008', 'struct': 'P01008'}, 'P01009': {'pvalues': 0.003812179445114286, 'intercept': 9.494380973970875e-12, 'meas': 'P01009', 'struct': 'P01009'}, 'P01023': {'pvalues': 0.002239007398745881, 'intercept': 3.102403239925492e-16, 'meas': 'P01023', 'struct': 'P01023'}, 'P01024': {'pvalues': 0.004801495160837123, 'intercept': 1.6123619762377318e-10, 'meas': 'P01024', 'struct': 'P01024'}, 'P01031': {'pvalues': 0.046149327571262895, 'intercept': 2.5553234282129813e-10, 'meas': 'P01031', 'struct': 'P01031'}, 'P01593': {'pvalues': 0.03959371221313236, 'intercept': 8.481999154350452e-05, 'meas': 'P01593', 'struct': 'P01593'}, 'P01597': {'pvalues': 0.03816356536460389, 'intercept': 0.0002156399103609892, 'meas': 'P01597', 'struct': 'P01597'}, 'P01625': {'pvalues': 0.02911187686679428, 'intercept': 2.265291063532646e-05, 'meas': 'P01625', 'struct': 'P01625'}, 'P01764': {'pvalues': 1.0800606940828408e-20, 'intercept': 0.0015521266173844077, 'meas': 'P01764', 'struct': 'P01764'}, 'P01767': {'pvalues': 1.0491753825805301e-19, 'intercept': 0.00021036470599585145, 'meas': 'P01767', 'struct': 'P01767'}, 'P01859': {'pvalues': 0.0013803139034060366, 'intercept': 4.0645144340443536e-08, 'meas': 'P01859', 'struct': 'P01859'}, 'P01876': {'pvalues': 0.00011624432849642047, 'intercept': 7.565262430350926e-08, 'meas': 'P01876', 'struct': 'P01876'}, 'P02652': {'pvalues': 0.020897953712132503, 'intercept': 3.1901147184679746e-07, 'meas': 'P02652', 'struct': 'P02652'}, 'P02675': {'pvalues': 0.042519276145545196, 'intercept': 2.0816531275765906e-09, 'meas': 'P02675', 'struct': 'P02675'}, 'P02768': {'pvalues': 0.01058346228125167, 'intercept': 1.5004196065803407e-18, 'meas': 'P02768', 'struct': 'P02768'}, 'P02787': {'pvalues': 0.016254712823323043, 'intercept': 3.5981469520914725e-11, 'meas': 'P02787', 'struct': 'P02787'}, 'P04003': {'pvalues': 0.002081535087168323, 'intercept': 8.815173129197607e-10, 'meas': 'P04003', 'struct': 'P04003'}, 'P04220': {'pvalues': 0.002030113344510632, 'intercept': 1.425265971613707e-13, 'meas': 'P04220', 'struct': 'P04220'}, 'P08603': {'pvalues': 0.013662795102436462, 'intercept': 9.18089851779332e-12, 'meas': 'P08603', 'struct': 'P08603'}, 'Q08380': {'pvalues': 0.043769454335907225, 'intercept': 6.187537813699982e-08, 'meas': 'Q08380', 'struct': 'Q08380'}}, 'P01833': {'P01833': {'pvalues': 0.0, 'intercept': 0.007726871088716629, 'meas': 'P01833', 'struct': 'P01833'}}, 'P01859': {'O43866': {'pvalues': 7.597247566299728e-06, 'intercept': 4.765610301910698e-05, 'meas': 'O43866', 'struct': 'O43866'}, 'P00450': {'pvalues': 4.0945424988373564e-07, 'intercept': 6.079508417175641e-05, 'meas': 'P00450', 'struct': 'P00450'}, 'P00739': {'pvalues': 0.0021795602182178293, 'intercept': 1.5433280702162641e-06, 'meas': 'P00739', 'struct': 'P00739'}, 'P01008': {'pvalues': 0.00022901275128825316, 'intercept': 1.682469090204979e-06, 'meas': 'P01008', 'struct': 'P01008'}, 'P01009': {'pvalues': 0.00029273328027336045, 'intercept': 4.734081107876075e-07, 'meas': 'P01009', 'struct': 'P01009'}, 'P01011': {'pvalues': 2.570163544995311e-06, 'intercept': 1.258917704539079e-08, 'meas': 'P01011', 'struct': 'P01011'}, 'P01023': {'pvalues': 6.098666283991914e-06, 'intercept': 1.3982068329649907e-10, 'meas': 'P01023', 'struct': 'P01023'}, 'P01024': {'pvalues': 1.5365896916425016e-10, 'intercept': 0.00017733011988899013, 'meas': 'P01024', 'struct': 'P01024'}, 'P01031': {'pvalues': 2.157116420616108e-09, 'intercept': 0.0005461980621542672, 'meas': 'P01031', 'struct': 'P01031'}, 'P01781': {'pvalues': 0.0013803139034060336, 'intercept': 0.04231118487498665, 'meas': 'P01781', 'struct': 'P01781'}, 'P01859': {'pvalues': 0.0, 'intercept': 0.010029841606017182, 'meas': 'P01859', 'struct': 'P01859'}, 'P01876': {'pvalues': 0.00015148210034448973, 'intercept': 0.00024317586979851098, 'meas': 'P01876', 'struct': 'P01876'}, 'P02042': {'pvalues': 0.021505907997155002, 'intercept': 0.001382111612564371, 'meas': 'P02042', 'struct': 'P02042'}, 'P02647': {'pvalues': 1.2730789415229883e-07, 'intercept': 1.051822420923365e-05, 'meas': 'P02647', 'struct': 'P02647'}, 'P02652': {'pvalues': 0.00021567838200831787, 'intercept': 0.002586645778659123, 'meas': 'P02652', 'struct': 'P02652'}, 'P02675': {'pvalues': 4.353283514999512e-08, 'intercept': 0.0015603230995001928, 'meas': 'P02675', 'struct': 'P02675'}, 'P02745': {'pvalues': 0.009020080919077765, 'intercept': 1.6391127584877826e-05, 'meas': 'P02745', 'struct': 'P02745'}, 'P02760': {'pvalues': 3.169024922840208e-09, 'intercept': 0.0016802675056568836, 'meas': 'P02760', 'struct': 'P02760'}, 'P02763': {'pvalues': 0.00014830893694832458, 'intercept': 0.0004080464660294145, 'meas': 'P02763', 'struct': 'P02763'}, 'P02765': {'pvalues': 0.025429456582972076, 'intercept': 9.60963683397857e-06, 'meas': 'P02765', 'struct': 'P02765'}, 'P02766': {'pvalues': 0.005169309912130268, 'intercept': 0.000197731813021943, 'meas': 'P02766', 'struct': 'P02766'}, 'P02768': {'pvalues': 5.741264363603014e-07, 'intercept': 9.754778628545884e-13, 'meas': 'P02768', 'struct': 'P02768'}, 'P02787': {'pvalues': 3.265805661390279e-06, 'intercept': 1.1502803326437893e-05, 'meas': 'P02787', 'struct': 'P02787'}, 'P02790': {'pvalues': 5.809101863943947e-08, 'intercept': 3.596461719092234e-05, 'meas': 'P02790', 'struct': 'P02790'}, 'P04003': {'pvalues': 0.00046850882252912404, 'intercept': 1.118182925303621e-05, 'meas': 'P04003', 'struct': 'P04003'}, 'P04196': {'pvalues': 3.139766982337872e-11, 'intercept': 0.025611110015598886, 'meas': 'P04196', 'struct': 'P04196'}, 'P04220': {'pvalues': 4.327122760361735e-07, 'intercept': 6.59545425649476e-08, 'meas': 'P04220', 'struct': 'P04220'}, 'P04275': {'pvalues': 1.954050106516535e-06, 'intercept': 0.02665105401415393, 'meas': 'P04275', 'struct': 'P04275'}, 'P08603': {'pvalues': 2.4397943314940743e-09, 'intercept': 1.3300971136282408e-05, 'meas': 'P08603', 'struct': 'P08603'}, 'P13671': {'pvalues': 1.322659432460776e-07, 'intercept': 0.03951346921186772, 'meas': 'P13671', 'struct': 'P13671'}, 'P19652': {'pvalues': 7.833766938969773e-05, 'intercept': 0.02022845304371469, 'meas': 'P19652', 'struct': 'P19652'}, 'P22792': {'pvalues': 4.588777488261943e-05, 'intercept': 0.00567300560052596, 'meas': 'P22792', 'struct': 'P22792'}, 'P68871': {'pvalues': 0.014423869658906548, 'intercept': 0.0036765238345015665, 'meas': 'P68871', 'struct': 'P68871'}, 'P69905': {'pvalues': 0.03793438194300203, 'intercept': 0.0006545384598758182, 'meas': 'P69905', 'struct': 'P69905'}, 'age': {'pvalues': 0.00019321020907071793, 'intercept': 2.9313635203762175e-07, 'meas': 'age', 'struct': 'age'}}, 'P01876': {'O43866': {'pvalues': 0.000512410300872101, 'intercept': 1.0191447068163461e-05, 'meas': 'O43866', 'struct': 'O43866'}, 'P00450': {'pvalues': 0.002223619416927637, 'intercept': 2.678367517563168e-06, 'meas': 'P00450', 'struct': 'P00450'}, 'P00739': {'pvalues': 1.3045055216523888e-05, 'intercept': 1.633571682600917e-05, 'meas': 'P00739', 'struct': 'P00739'}, 'P01008': {'pvalues': 0.008681111227652466, 'intercept': 2.5656126988094684e-07, 'meas': 'P01008', 'struct': 'P01008'}, 'P01009': {'pvalues': 0.037243397928483704, 'intercept': 2.56704624978703e-08, 'meas': 'P01009', 'struct': 'P01009'}, 'P01011': {'pvalues': 0.0003072167135706772, 'intercept': 4.170171159325719e-09, 'meas': 'P01011', 'struct': 'P01011'}, 'P01023': {'pvalues': 0.04906691756985198, 'intercept': 4.977651093871255e-12, 'meas': 'P01023', 'struct': 'P01023'}, 'P01024': {'pvalues': 4.062659092413416e-05, 'intercept': 1.2391863782331659e-05, 'meas': 'P01024', 'struct': 'P01024'}, 'P01031': {'pvalues': 8.836162557421843e-05, 'intercept': 3.613531887208444e-05, 'meas': 'P01031', 'struct': 'P01031'}, 'P01597': {'pvalues': 0.025945699956340596, 'intercept': 0.015582359136586718, 'meas': 'P01597', 'struct': 'P01597'}, 'P01859': {'pvalues': 0.00015148210034449003, 'intercept': 0.00030447762896863184, 'meas': 'P01859', 'struct': 'P01859'}, 'P01876': {'pvalues': 0.0, 'intercept': 1.5750390875816056e-10, 'meas': 'P01876', 'struct': 'P01876'}, 'P02647': {'pvalues': 0.04187410837856928, 'intercept': 4.825514686779866e-08, 'meas': 'P02647', 'struct': 'P02647'}, 'P02675': {'pvalues': 0.01249910065350612, 'intercept': 1.074778573482659e-05, 'meas': 'P02675', 'struct': 'P02675'}, 'P02745': {'pvalues': 0.00016767955514177554, 'intercept': 0.00017276014518700152, 'meas': 'P02745', 'struct': 'P02745'}, 'P02760': {'pvalues': 0.005836513264665137, 'intercept': 1.200603363845555e-05, 'meas': 'P02760', 'struct': 'P02760'}, 'P02763': {'pvalues': 0.012458216583047226, 'intercept': 3.541913894409001e-05, 'meas': 'P02763', 'struct': 'P02763'}, 'P02768': {'pvalues': 0.04705768513975138, 'intercept': 7.178195927546677e-14, 'meas': 'P02768', 'struct': 'P02768'}, 'P02787': {'pvalues': 0.018547496954438594, 'intercept': 2.1759845416010587e-07, 'meas': 'P02787', 'struct': 'P02787'}, 'P02790': {'pvalues': 0.0015852771872081602, 'intercept': 1.3524129769948963e-06, 'meas': 'P02790', 'struct': 'P02790'}, 'P04003': {'pvalues': 0.0006007707996631965, 'intercept': 1.1134695693323422e-05, 'meas': 'P04003', 'struct': 'P04003'}, 'P04196': {'pvalues': 0.005086727332968552, 'intercept': 8.770906272877344e-05, 'meas': 'P04196', 'struct': 'P04196'}, 'P04220': {'pvalues': 0.001019454697867093, 'intercept': 8.626386874986912e-09, 'meas': 'P04220', 'struct': 'P04220'}, 'P08603': {'pvalues': 5.85732400763125e-05, 'intercept': 1.5502114293026123e-06, 'meas': 'P08603', 'struct': 'P08603'}, 'age': {'pvalues': 3.7873051326724985e-06, 'intercept': 1.2187333011488608e-06, 'meas': 'age', 'struct': 'age'}}, 'P02042': {'P00739': {'pvalues': 0.022233379890899397, 'intercept': 1.369251224950114e-09, 'meas': 'P00739', 'struct': 'P00739'}, 'P01008': {'pvalues': 0.009563557728271162, 'intercept': 6.945719458110904e-10, 'meas': 'P01008', 'struct': 'P01008'}, 'P01009': {'pvalues': 0.002655469249716404, 'intercept': 3.4155683185563836e-10, 'meas': 'P01009', 'struct': 'P01009'}, 'P01011': {'pvalues': 0.008253749812659587, 'intercept': 8.926757828080325e-13, 'meas': 'P01011', 'struct': 'P01011'}, 'P01023': {'pvalues': 0.007397505964000249, 'intercept': 1.203248706956361e-14, 'meas': 'P01023', 'struct': 'P01023'}, 'P01024': {'pvalues': 0.007391978145685795, 'intercept': 3.140963459206628e-09, 'meas': 'P01024', 'struct': 'P01024'}, 'P01593': {'pvalues': 0.0033412178159417023, 'intercept': 0.002243311186917764, 'meas': 'P01593', 'struct': 'P01593'}, 'P01625': {'pvalues': 0.00018202218780763064, 'intercept': 0.0022804061325725536, 'meas': 'P01625', 'struct': 'P01625'}, 'P01859': {'pvalues': 0.021505907997154978, 'intercept': 1.4439659148228258e-07, 'meas': 'P01859', 'struct': 'P01859'}, 'P02647': {'pvalues': 0.0033266800736418633, 'intercept': 7.692716247424062e-10, 'meas': 'P02647', 'struct': 'P02647'}, 'P02652': {'pvalues': 0.01925479474500906, 'intercept': 3.569203841160251e-06, 'meas': 'P02652', 'struct': 'P02652'}, 'P02675': {'pvalues': 5.3436374612959124e-05, 'intercept': 8.853714987384528e-07, 'meas': 'P02675', 'struct': 'P02675'}, 'P02760': {'pvalues': 0.011164007673108762, 'intercept': 4.8233962433218026e-08, 'meas': 'P02760', 'struct': 'P02760'}, 'P02763': {'pvalues': 9.621425649542373e-05, 'intercept': 3.5408936178615522e-06, 'meas': 'P02763', 'struct': 'P02763'}, 'P02765': {'pvalues': 0.0037709521371193867, 'intercept': 3.314262186478506e-07, 'meas': 'P02765', 'struct': 'P02765'}, 'P02766': {'pvalues': 0.032764166757195116, 'intercept': 7.511369579857373e-07, 'meas': 'P02766', 'struct': 'P02766'}, 'P02768': {'pvalues': 0.0007391917861376858, 'intercept': 1.3156139245167912e-16, 'meas': 'P02768', 'struct': 'P02768'}, 'P02787': {'pvalues': 0.017405458648213242, 'intercept': 7.941912630491619e-10, 'meas': 'P02787', 'struct': 'P02787'}, 'P04003': {'pvalues': 0.0006926689811764753, 'intercept': 3.378889684423893e-08, 'meas': 'P04003', 'struct': 'P04003'}, 'P04196': {'pvalues': 0.005845847228715393, 'intercept': 7.863326728711654e-07, 'meas': 'P04196', 'struct': 'P04196'}, 'P04220': {'pvalues': 0.03420323374601124, 'intercept': 1.5578115863387268e-12, 'meas': 'P04220', 'struct': 'P04220'}, 'P08603': {'pvalues': 0.005415087021593442, 'intercept': 3.9417233991948573e-10, 'meas': 'P08603', 'struct': 'P08603'}, 'P13671': {'pvalues': 0.002776653614917465, 'intercept': 2.128607529552818e-05, 'meas': 'P13671', 'struct': 'P13671'}, 'P19652': {'pvalues': 5.168067968330607e-07, 'intercept': 0.0026721202307669113, 'meas': 'P19652', 'struct': 'P19652'}, 'P22792': {'pvalues': 0.023001300059048175, 'intercept': 3.876169729581578e-06, 'meas': 'P22792', 'struct': 'P22792'}}, 'P02647': {'A6NNI4': {'pvalues': 0.0002412030582563606, 'intercept': 0.02220825259093983, 'meas': 'A6NNI4', 'struct': 'A6NNI4'}, 'O43866': {'pvalues': 0.015249394704850724, 'intercept': 5.391134565939329e-05, 'meas': 'O43866', 'struct': 'O43866'}, 'P00450': {'pvalues': 9.143665458263147e-10, 'intercept': 0.021944181775443373, 'meas': 'P00450', 'struct': 'P00450'}, 'P00488': {'pvalues': 1.1378359047577783e-06, 'intercept': 0.026799517677299316, 'meas': 'P00488', 'struct': 'P00488'}, 'P00739': {'pvalues': 0.0476329864219208, 'intercept': 8.219555385088678e-06, 'meas': 'P00739', 'struct': 'P00739'}, 'P01008': {'pvalues': 1.2670436406763777e-08, 'intercept': 0.004043565126537984, 'meas': 'P01008', 'struct': 'P01008'}, 'P01009': {'pvalues': 4.557492908168151e-09, 'intercept': 0.0019967674715340154, 'meas': 'P01009', 'struct': 'P01009'}, 'P01011': {'pvalues': 1.1190686413891294e-09, 'intercept': 3.347380198323803e-05, 'meas': 'P01011', 'struct': 'P01011'}, 'P01023': {'pvalues': 1.7740242384747494e-06, 'intercept': 1.7473282215104265e-07, 'meas': 'P01023', 'struct': 'P01023'}, 'P01024': {'pvalues': 1.104318225531562e-09, 'intercept': 0.016584314810896703, 'meas': 'P01024', 'struct': 'P01024'}, 'P01031': {'pvalues': 3.8128082859142966e-07, 'intercept': 0.011364079191566545, 'meas': 'P01031', 'struct': 'P01031'}, 'P01876': {'pvalues': 0.04187410837856928, 'intercept': 0.0001855185101229827, 'meas': 'P01876', 'struct': 'P01876'}, 'P02042': {'pvalues': 0.003326680073641863, 'intercept': 0.041200971490123986, 'meas': 'P02042', 'struct': 'P02042'}, 'P02647': {'pvalues': 0.0, 'intercept': 3.893869372334727e-10, 'meas': 'P02647', 'struct': 'P02647'}, 'P02765': {'pvalues': 1.2935595805174315e-05, 'intercept': 0.017150189618237603, 'meas': 'P02765', 'struct': 'P02765'}, 'P02768': {'pvalues': 3.29698299408409e-10, 'intercept': 3.964819238316168e-09, 'meas': 'P02768', 'struct': 'P02768'}, 'P02775': {'pvalues': 0.0005254814812365344, 'intercept': 0.02608777104771504, 'meas': 'P02775', 'struct': 'P02775'}, 'P02787': {'pvalues': 2.082409667077274e-08, 'intercept': 0.005051529328750087, 'meas': 'P02787', 'struct': 'P02787'}, 'P02790': {'pvalues': 5.552955135413414e-11, 'intercept': 0.01878309952868947, 'meas': 'P02790', 'struct': 'P02790'}, 'P04003': {'pvalues': 3.580343216638708e-05, 'intercept': 0.0019848336523928204, 'meas': 'P04003', 'struct': 'P04003'}, 'P04220': {'pvalues': 8.142380488942788e-05, 'intercept': 5.252572179170592e-06, 'meas': 'P04220', 'struct': 'P04220'}, 'P08603': {'pvalues': 5.24622074806759e-10, 'intercept': 0.004294908112938799, 'meas': 'P08603', 'struct': 'P08603'}, 'P35579': {'pvalues': 0.0009723357019966531, 'intercept': 0.03824818458193475, 'meas': 'P35579', 'struct': 'P35579'}, 'P60709': {'pvalues': 0.00034294436731021797, 'intercept': 0.027619729435712104, 'meas': 'P60709', 'struct': 'P60709'}, 'P61981': {'pvalues': 0.0006486188275904632, 'intercept': 0.04540784779298027, 'meas': 'P61981', 'struct': 'P61981'}, 'P69905': {'pvalues': 0.002799903904520273, 'intercept': 0.03765763058919159, 'meas': 'P69905', 'struct': 'P69905'}}, 'P02652': {'P00450': {'pvalues': 3.1763256570141386e-09, 'intercept': 5.167966851834601e-06, 'meas': 'P00450', 'struct': 'P00450'}, 'P00739': {'pvalues': 0.031760508279243475, 'intercept': 1.6379913693031724e-08, 'meas': 'P00739', 'struct': 'P00739'}, 'P01008': {'pvalues': 1.6914644846846302e-19, 'intercept': 2.548598163638007e-07, 'meas': 'P01008', 'struct': 'P01008'}, 'P01009': {'pvalues': 1.5114917353505468e-16, 'intercept': 7.451364517673226e-08, 'meas': 'P01009', 'struct': 'P01009'}, 'P01011': {'pvalues': 1.9047428385783226e-07, 'intercept': 2.740717707731715e-10, 'meas': 'P01011', 'struct': 'P01011'}, 'P01023': {'pvalues': 0.014529021352125344, 'intercept': 3.262475847332805e-13, 'meas': 'P01023', 'struct': 'P01023'}, 'P01024': {'pvalues': 1.779867646062306e-08, 'intercept': 2.743232374854804e-06, 'meas': 'P01024', 'struct': 'P01024'}, 'P01031': {'pvalues': 0.0032424490291373957, 'intercept': 4.017787254669995e-07, 'meas': 'P01031', 'struct': 'P01031'}, 'P01781': {'pvalues': 0.020897953712132503, 'intercept': 0.0026443684410676865, 'meas': 'P01781', 'struct': 'P01781'}, 'P01859': {'pvalues': 0.00021567838200831625, 'intercept': 2.2320692878164562e-05, 'meas': 'P01859', 'struct': 'P01859'}, 'P02042': {'pvalues': 0.019254794745009036, 'intercept': 0.0003193541342112271, 'meas': 'P02042', 'struct': 'P02042'}, 'P02647': {'pvalues': 2.0685718831420502e-10, 'intercept': 5.078094794054118e-07, 'meas': 'P02647', 'struct': 'P02647'}, 'P02652': {'pvalues': 0.0, 'intercept': 9.52763867433545e-10, 'meas': 'P02652', 'struct': 'P02652'}, 'P02675': {'pvalues': 1.6878892199204806e-06, 'intercept': 4.2948284281542584e-05, 'meas': 'P02675', 'struct': 'P02675'}, 'P02760': {'pvalues': 5.224540252410443e-11, 'intercept': 0.00014090462468233547, 'meas': 'P02760', 'struct': 'P02760'}, 'P02763': {'pvalues': 4.198535125485782e-12, 'intercept': 0.0016933179742514358, 'meas': 'P02763', 'struct': 'P02763'}, 'P02765': {'pvalues': 5.409442138280329e-09, 'intercept': 0.00028841859895366615, 'meas': 'P02765', 'struct': 'P02765'}, 'P02766': {'pvalues': 7.918522304359299e-07, 'intercept': 0.0008770574913931036, 'meas': 'P02766', 'struct': 'P02766'}, 'P02768': {'pvalues': 8.325284194867849e-08, 'intercept': 6.5616516489990145e-15, 'meas': 'P02768', 'struct': 'P02768'}, 'P02787': {'pvalues': 1.2932255466315933e-16, 'intercept': 1.2040729637723997e-06, 'meas': 'P02787', 'struct': 'P02787'}, 'P02790': {'pvalues': 6.073569783103704e-13, 'intercept': 2.2701390662825432e-06, 'meas': 'P02790', 'struct': 'P02790'}, 'P04196': {'pvalues': 4.757440299762893e-07, 'intercept': 0.0003380722530980041, 'meas': 'P04196', 'struct': 'P04196'}, 'P08603': {'pvalues': 1.886136898890275e-11, 'intercept': 3.1145553155237104e-07, 'meas': 'P08603', 'struct': 'P08603'}, 'P13671': {'pvalues': 3.733351130780973e-11, 'intercept': 0.02669734359489372, 'meas': 'P13671', 'struct': 'P13671'}, 'P19652': {'pvalues': 1.4573841692032505e-07, 'intercept': 0.0255590299847254, 'meas': 'P19652', 'struct': 'P19652'}, 'P22792': {'pvalues': 0.015663204277292835, 'intercept': 4.009594279184802e-05, 'meas': 'P22792', 'struct': 'P22792'}, 'P68871': {'pvalues': 0.010061365708621142, 'intercept': 0.0011213440773426091, 'meas': 'P68871', 'struct': 'P68871'}, 'P69905': {'pvalues': 0.006228408458988311, 'intercept': 0.0005183117231762911, 'meas': 'P69905', 'struct': 'P69905'}}, 'P02675': {'O43866': {'pvalues': 0.04174519193101171, 'intercept': 9.03361857565572e-07, 'meas': 'O43866', 'struct': 'O43866'}, 'P00450': {'pvalues': 0.00011345209122249745, 'intercept': 2.2632259892805857e-05, 'meas': 'P00450', 'struct': 'P00450'}, 'P01008': {'pvalues': 0.00014812863806121574, 'intercept': 4.727343171271997e-06, 'meas': 'P01008', 'struct': 'P01008'}, 'P01009': {'pvalues': 3.305137691442503e-05, 'intercept': 2.7120719248709418e-06, 'meas': 'P01009', 'struct': 'P01009'}, 'P01011': {'pvalues': 1.641342809255234e-06, 'intercept': 4.277945212707577e-08, 'meas': 'P01011', 'struct': 'P01011'}, 'P01023': {'pvalues': 0.0007180907032180514, 'intercept': 1.375318646962651e-10, 'meas': 'P01023', 'struct': 'P01023'}, 'P01024': {'pvalues': 1.4410601238962711e-06, 'intercept': 7.364455819014793e-05, 'meas': 'P01024', 'struct': 'P01024'}, 'P01031': {'pvalues': 0.00025661241801185763, 'intercept': 4.2646432415541536e-05, 'meas': 'P01031', 'struct': 'P01031'}, 'P01593': {'pvalues': 0.005966910318148273, 'intercept': 0.029931680160970628, 'meas': 'P01593', 'struct': 'P01593'}, 'P01781': {'pvalues': 0.042519276145545036, 'intercept': 0.007347500201805122, 'meas': 'P01781', 'struct': 'P01781'}, 'P01859': {'pvalues': 4.353283514999529e-08, 'intercept': 0.006912440341184331, 'meas': 'P01859', 'struct': 'P01859'}, 'P01876': {'pvalues': 0.012499100653506137, 'intercept': 3.575996172530191e-05, 'meas': 'P01876', 'struct': 'P01876'}, 'P02042': {'pvalues': 5.343637461295824e-05, 'intercept': 0.044954907108986586, 'meas': 'P02042', 'struct': 'P02042'}, 'P02647': {'pvalues': 1.3290168362934921e-11, 'intercept': 0.00011313561602778574, 'meas': 'P02647', 'struct': 'P02647'}, 'P02652': {'pvalues': 1.6878892199205238e-06, 'intercept': 0.023591122374690573, 'meas': 'P02652', 'struct': 'P02652'}, 'P02760': {'pvalues': 9.244061829965003e-13, 'intercept': 0.013207659638076838, 'meas': 'P02760', 'struct': 'P02760'}, 'P02763': {'pvalues': 3.446252749397796e-09, 'intercept': 0.016968694099827545, 'meas': 'P02763', 'struct': 'P02763'}, 'P02765': {'pvalues': 0.00045742315639259927, 'intercept': 0.00025115301882981607, 'meas': 'P02765', 'struct': 'P02765'}, 'P02766': {'pvalues': 1.7821220810574422e-06, 'intercept': 0.010860918865286453, 'meas': 'P02766', 'struct': 'P02766'}, 'P02768': {'pvalues': 7.380109130575503e-09, 'intercept': 3.2807101982747486e-12, 'meas': 'P02768', 'struct': 'P02768'}, 'P02787': {'pvalues': 0.00028673641681760376, 'intercept': 5.376012998580621e-06, 'meas': 'P02787', 'struct': 'P02787'}, 'P02790': {'pvalues': 6.243027246925398e-06, 'intercept': 2.7174530853911374e-05, 'meas': 'P02790', 'struct': 'P02790'}, 'P04003': {'pvalues': 1.389307806606243e-05, 'intercept': 0.00010211996779856732, 'meas': 'P04003', 'struct': 'P04003'}, 'P04196': {'pvalues': 4.691855659250654e-10, 'intercept': 0.031107335994390257, 'meas': 'P04196', 'struct': 'P04196'}, 'P04220': {'pvalues': 0.0022708676428188513, 'intercept': 1.288153168003069e-08, 'meas': 'P04220', 'struct': 'P04220'}, 'P08603': {'pvalues': 4.004595114683165e-09, 'intercept': 3.556127708083759e-05, 'meas': 'P08603', 'struct': 'P08603'}, 'P22792': {'pvalues': 0.002814653829532335, 'intercept': 0.001368509930768041, 'meas': 'P22792', 'struct': 'P22792'}, 'P69905': {'pvalues': 0.0008239313074531783, 'intercept': 0.011945976803628121, 'meas': 'P69905', 'struct': 'P69905'}}, 'P02745': {'O43866': {'pvalues': 1.2046912052459726e-05, 'intercept': 6.966574587759363e-05, 'meas': 'O43866', 'struct': 'O43866'}, 'P00739': {'pvalues': 0.0001478517917020192, 'intercept': 9.972594054891335e-06, 'meas': 'P00739', 'struct': 'P00739'}, 'P01011': {'pvalues': 0.006598730712100816, 'intercept': 1.5508142048875902e-09, 'meas': 'P01011', 'struct': 'P01011'}, 'P01024': {'pvalues': 0.001625763437760594, 'intercept': 3.428326275602013e-06, 'meas': 'P01024', 'struct': 'P01024'}, 'P01031': {'pvalues': 0.0004913391565501684, 'intercept': 2.4332030721933505e-05, 'meas': 'P01031', 'struct': 'P01031'}, 'P01859': {'pvalues': 0.009020080919077786, 'intercept': 4.1944863641634604e-05, 'meas': 'P01859', 'struct': 'P01859'}, 'P01876': {'pvalues': 0.000167679555141776, 'intercept': 0.00035776576913656863, 'meas': 'P01876', 'struct': 'P01876'}, 'P02745': {'pvalues': 0.0, 'intercept': 0.000756021062149251, 'meas': 'P02745', 'struct': 'P02745'}, 'P02790': {'pvalues': 0.04207163449575804, 'intercept': 1.7881842419812398e-07, 'meas': 'P02790', 'struct': 'P02790'}, 'P04003': {'pvalues': 0.0006637844956796998, 'intercept': 1.544570333006086e-05, 'meas': 'P04003', 'struct': 'P04003'}, 'P04196': {'pvalues': 0.022467346034923393, 'intercept': 3.833832286101714e-05, 'meas': 'P04196', 'struct': 'P04196'}, 'P04220': {'pvalues': 0.0008306801764416573, 'intercept': 1.545787840326601e-08, 'meas': 'P04220', 'struct': 'P04220'}, 'P08603': {'pvalues': 0.009686711548758161, 'intercept': 1.7251134547576685e-07, 'meas': 'P08603', 'struct': 'P08603'}, 'age': {'pvalues': 5.104166187912973e-05, 'intercept': 8.928902948531819e-07, 'meas': 'age', 'struct': 'age'}}, 'P02760': {'P00450': {'pvalues': 2.5157303780489978e-08, 'intercept': 0.0004383174368354911, 'meas': 'P00450', 'struct': 'P00450'}, 'P00739': {'pvalues': 0.010158408241440656, 'intercept': 1.7757577986317748e-06, 'meas': 'P00739', 'struct': 'P00739'}, 'P01008': {'pvalues': 2.1890601974257842e-10, 'intercept': 0.0002160709700648832, 'meas': 'P01008', 'struct': 'P01008'}, 'P01009': {'pvalues': 1.0038280146310558e-07, 'intercept': 2.1900307085313138e-05, 'meas': 'P01009', 'struct': 'P01009'}, 'P01011': {'pvalues': 2.5224202889611446e-09, 'intercept': 1.887235580219712e-07, 'meas': 'P01011', 'struct': 'P01011'}, 'P01023': {'pvalues': 0.0003946727091072102, 'intercept': 3.094210489801216e-10, 'meas': 'P01023', 'struct': 'P01023'}, 'P01024': {'pvalues': 3.291312384799183e-16, 'intercept': 0.003089965087727617, 'meas': 'P01024', 'struct': 'P01024'}, 'P01031': {'pvalues': 2.0765012994814135e-10, 'intercept': 0.0030381887991596493, 'meas': 'P01031', 'struct': 'P01031'}, 'P01593': {'pvalues': 0.037034032494726546, 'intercept': 0.01057968552657577, 'meas': 'P01593', 'struct': 'P01593'}, 'P01597': {'pvalues': 0.01119251600211491, 'intercept': 0.04030953943136823, 'meas': 'P01597', 'struct': 'P01597'}, 'P01625': {'pvalues': 0.0069133713537701084, 'intercept': 0.01353962205036318, 'meas': 'P01625', 'struct': 'P01625'}, 'P01859': {'pvalues': 3.169024922840208e-09, 'intercept': 0.01710596375483755, 'meas': 'P01859', 'struct': 'P01859'}, 'P01876': {'pvalues': 0.005836513264665126, 'intercept': 8.70515529477327e-05, 'meas': 'P01876', 'struct': 'P01876'}, 'P02042': {'pvalues': 0.011164007673108762, 'intercept': 0.004264407446057541, 'meas': 'P02042', 'struct': 'P02042'}, 'P02647': {'pvalues': 8.723120154659863e-14, 'intercept': 0.00032216867061279805, 'meas': 'P02647', 'struct': 'P02647'}, 'P02675': {'pvalues': 9.24406182996487e-13, 'intercept': 0.030741807867993652, 'meas': 'P02675', 'struct': 'P02675'}, 'P02760': {'pvalues': 0.0, 'intercept': 3.441655360757747e-09, 'meas': 'P02760', 'struct': 'P02760'}, 'P02763': {'pvalues': 1.3116802521027668e-08, 'intercept': 0.01793902378087629, 'meas': 'P02763', 'struct': 'P02763'}, 'P02765': {'pvalues': 2.240536614473745e-06, 'intercept': 0.0027834378401932996, 'meas': 'P02765', 'struct': 'P02765'}, 'P02766': {'pvalues': 2.8378472476667827e-07, 'intercept': 0.02385055221062423, 'meas': 'P02766', 'struct': 'P02766'}, 'P02768': {'pvalues': 4.904467049307401e-09, 'intercept': 7.135385015300429e-12, 'meas': 'P02768', 'struct': 'P02768'}, 'P02787': {'pvalues': 9.715935943201477e-11, 'intercept': 0.00038737577957062704, 'meas': 'P02787', 'struct': 'P02787'}, 'P02790': {'pvalues': 8.488597701753513e-13, 'intercept': 0.0008289330349240875, 'meas': 'P02790', 'struct': 'P02790'}, 'P04003': {'pvalues': 0.0007550517215248412, 'intercept': 2.7451047912026907e-05, 'meas': 'P04003', 'struct': 'P04003'}, 'P04220': {'pvalues': 0.005567829558123275, 'intercept': 1.2447282413064075e-08, 'meas': 'P04220', 'struct': 'P04220'}, 'P08603': {'pvalues': 2.3469220935914814e-20, 'intercept': 0.0002901044095681006, 'meas': 'P08603', 'struct': 'P08603'}, 'P22792': {'pvalues': 2.245681847203652e-06, 'intercept': 0.03229070832609705, 'meas': 'P22792', 'struct': 'P22792'}, 'P68871': {'pvalues': 0.0028997940673909824, 'intercept': 0.01770824447050463, 'meas': 'P68871', 'struct': 'P68871'}, 'P69905': {'pvalues': 0.006471239099713665, 'intercept': 0.0048091926843894664, 'meas': 'P69905', 'struct': 'P69905'}, 'age': {'pvalues': 0.010194955746277056, 'intercept': 1.2651278039672814e-07, 'meas': 'age', 'struct': 'age'}}, 'P02763': {'P00450': {'pvalues': 1.2606789625565387e-07, 'intercept': 5.087935569587979e-05, 'meas': 'P00450', 'struct': 'P00450'}, 'P00739': {'pvalues': 0.0013966785996229654, 'intercept': 1.3326384363405473e-06, 'meas': 'P00739', 'struct': 'P00739'}, 'P01008': {'pvalues': 4.799307883726672e-14, 'intercept': 4.4493255918259074e-05, 'meas': 'P01008', 'struct': 'P01008'}, 'P01009': {'pvalues': 6.28416557468594e-14, 'intercept': 8.863267469640382e-06, 'meas': 'P01009', 'struct': 'P01009'}, 'P01011': {'pvalues': 3.484315273359285e-13, 'intercept': 9.601120070158326e-09, 'meas': 'P01011', 'struct': 'P01011'}, 'P01023': {'pvalues': 0.0010743383619261282, 'intercept': 2.2862323185629665e-11, 'meas': 'P01023', 'struct': 'P01023'}, 'P01024': {'pvalues': 1.579943928711331e-08, 'intercept': 5.306258643441011e-05, 'meas': 'P01024', 'struct': 'P01024'}, 'P01031': {'pvalues': 0.0015692153949452576, 'intercept': 5.576940764660287e-06, 'meas': 'P01031', 'struct': 'P01031'}, 'P01625': {'pvalues': 0.04907560220632319, 'intercept': 0.0014669737077161462, 'meas': 'P01625', 'struct': 'P01625'}, 'P01859': {'pvalues': 0.0001483089369483243, 'intercept': 0.00019917838540406738, 'meas': 'P01859', 'struct': 'P01859'}, 'P01876': {'pvalues': 0.012458216583047282, 'intercept': 1.4009932134109943e-05, 'meas': 'P01876', 'struct': 'P01876'}, 'P02042': {'pvalues': 9.621425649542304e-05, 'intercept': 0.020007513910795888, 'meas': 'P02042', 'struct': 'P02042'}, 'P02647': {'pvalues': 1.4261509580741743e-08, 'intercept': 9.313851375348048e-06, 'meas': 'P02647', 'struct': 'P02647'}, 'P02675': {'pvalues': 3.4462527493978706e-09, 'intercept': 0.0017897085604804887, 'meas': 'P02675', 'struct': 'P02675'}, 'P02760': {'pvalues': 1.3116802521027528e-08, 'intercept': 0.0008494158051235586, 'meas': 'P02760', 'struct': 'P02760'}, 'P02765': {'pvalues': 3.630033601761502e-06, 'intercept': 0.0006106287576589032, 'meas': 'P02765', 'struct': 'P02765'}, 'P02766': {'pvalues': 1.7004699703633326e-05, 'intercept': 0.0022413362415586546, 'meas': 'P02766', 'struct': 'P02766'}, 'P02768': {'pvalues': 2.3139531670063996e-06, 'intercept': 4.932948709761927e-13, 'meas': 'P02768', 'struct': 'P02768'}, 'P02787': {'pvalues': 1.9102040260830856e-10, 'intercept': 4.295643564104821e-05, 'meas': 'P02787', 'struct': 'P02787'}, 'P02790': {'pvalues': 4.49999955029023e-11, 'intercept': 6.17485633874123e-05, 'meas': 'P02790', 'struct': 'P02790'}, 'P04003': {'pvalues': 0.018580110989583794, 'intercept': 7.66027309406729e-07, 'meas': 'P04003', 'struct': 'P04003'}, 'P04196': {'pvalues': 1.1730451858290446e-09, 'intercept': 0.009996646071848728, 'meas': 'P04196', 'struct': 'P04196'}, 'P08603': {'pvalues': 1.1672546806568475e-10, 'intercept': 1.0606448820893548e-05, 'meas': 'P08603', 'struct': 'P08603'}, 'P22792': {'pvalues': 0.00877147896343731, 'intercept': 0.0003022987444663935, 'meas': 'P22792', 'struct': 'P22792'}, 'P68871': {'pvalues': 6.233718099396988e-05, 'intercept': 0.04265317654636129, 'meas': 'P68871', 'struct': 'P68871'}, 'P69905': {'pvalues': 3.7885579886426354e-05, 'intercept': 0.02197454307429756, 'meas': 'P69905', 'struct': 'P69905'}}, 'P02765': {'P00450': {'pvalues': 0.0005334687002601008, 'intercept': 6.3947692867410724e-06, 'meas': 'P00450', 'struct': 'P00450'}, 'P01008': {'pvalues': 5.594965454709641e-11, 'intercept': 6.910905940835094e-05, 'meas': 'P01008', 'struct': 'P01008'}, 'P01009': {'pvalues': 6.626334789735521e-09, 'intercept': 9.897895100180706e-06, 'meas': 'P01009', 'struct': 'P01009'}, 'P01011': {'pvalues': 0.0004730587926090792, 'intercept': 4.033468653153269e-09, 'meas': 'P01011', 'struct': 'P01011'}, 'P01024': {'pvalues': 0.0011456848725876479, 'intercept': 3.1125729746447925e-06, 'meas': 'P01024', 'struct': 'P01024'}, 'P01859': {'pvalues': 0.025429456582972097, 'intercept': 1.4410041413171997e-05, 'meas': 'P01859', 'struct': 'P01859'}, 'P02042': {'pvalues': 0.003770952137119415, 'intercept': 0.0050784475187136725, 'meas': 'P02042', 'struct': 'P02042'}, 'P02647': {'pvalues': 1.2935595805174315e-05, 'intercept': 4.271233503405963e-06, 'meas': 'P02647', 'struct': 'P02647'}, 'P02675': {'pvalues': 0.0004574231563926004, 'intercept': 8.974915750956383e-05, 'meas': 'P02675', 'struct': 'P02675'}, 'P02760': {'pvalues': 2.2405366144737693e-06, 'intercept': 0.00043969598734285, 'meas': 'P02760', 'struct': 'P02760'}, 'P02763': {'pvalues': 3.630033601761534e-06, 'intercept': 0.0019181331561467993, 'meas': 'P02763', 'struct': 'P02763'}, 'P02766': {'pvalues': 3.591350132225267e-08, 'intercept': 0.019668071044272137, 'meas': 'P02766', 'struct': 'P02766'}, 'P02768': {'pvalues': 1.6075779785061715e-05, 'intercept': 1.2655441112980812e-12, 'meas': 'P02768', 'struct': 'P02768'}, 'P02787': {'pvalues': 1.991289275965196e-09, 'intercept': 7.141704633141055e-05, 'meas': 'P02787', 'struct': 'P02787'}, 'P02790': {'pvalues': 1.440197491665362e-05, 'intercept': 1.1236775812929431e-05, 'meas': 'P02790', 'struct': 'P02790'}, 'P04196': {'pvalues': 3.4996082233726706e-05, 'intercept': 0.0011347860791389565, 'meas': 'P04196', 'struct': 'P04196'}, 'P08603': {'pvalues': 5.223079311094091e-06, 'intercept': 3.8086596177217326e-06, 'meas': 'P08603', 'struct': 'P08603'}, 'P13671': {'pvalues': 4.336907232505876e-06, 'intercept': 0.018142721344495714, 'meas': 'P13671', 'struct': 'P13671'}, 'P19652': {'pvalues': 0.00018948196924905742, 'intercept': 0.016249080965103663, 'meas': 'P19652', 'struct': 'P19652'}, 'P68871': {'pvalues': 0.000559443019136244, 'intercept': 0.024684376701953902, 'meas': 'P68871', 'struct': 'P68871'}, 'P69905': {'pvalues': 0.00019130331405074562, 'intercept': 0.01682317165530042, 'meas': 'P69905', 'struct': 'P69905'}}, 'P02766': {'P00450': {'pvalues': 0.014255402439570273, 'intercept': 1.3619039409001105e-07, 'meas': 'P00450', 'struct': 'P00450'}, 'P01008': {'pvalues': 6.170178340079603e-07, 'intercept': 1.4189695615391626e-06, 'meas': 'P01008', 'struct': 'P01008'}, 'P01009': {'pvalues': 1.504713713569784e-05, 'intercept': 1.8175961577997318e-07, 'meas': 'P01009', 'struct': 'P01009'}, 'P01011': {'pvalues': 1.9020224722888482e-05, 'intercept': 7.864822914804014e-10, 'meas': 'P01011', 'struct': 'P01011'}, 'P01024': {'pvalues': 0.0006190077914590043, 'intercept': 6.075333080630726e-07, 'meas': 'P01024', 'struct': 'P01024'}, 'P01859': {'pvalues': 0.005169309912130268, 'intercept': 1.0425443340051978e-05, 'meas': 'P01859', 'struct': 'P01859'}, 'P02042': {'pvalues': 0.03276416675719527, 'intercept': 0.000380519433122448, 'meas': 'P02042', 'struct': 'P02042'}, 'P02647': {'pvalues': 1.3870378688731643e-06, 'intercept': 7.768401190155303e-07, 'meas': 'P02647', 'struct': 'P02647'}, 'P02652': {'pvalues': 7.918522304359356e-07, 'intercept': 0.005377588125470481, 'meas': 'P02652', 'struct': 'P02652'}, 'P02675': {'pvalues': 1.7821220810574223e-06, 'intercept': 0.0001210038168928541, 'meas': 'P02675', 'struct': 'P02675'}, 'P02760': {'pvalues': 2.8378472476667525e-07, 'intercept': 0.00011528392199318006, 'meas': 'P02760', 'struct': 'P02760'}, 'P02763': {'pvalues': 1.7004699703633482e-05, 'intercept': 0.00022916552812115687, 'meas': 'P02763', 'struct': 'P02763'}, 'P02765': {'pvalues': 3.591350132225267e-08, 'intercept': 0.0005946723807934268, 'meas': 'P02765', 'struct': 'P02765'}, 'P02768': {'pvalues': 3.0271663155590573e-05, 'intercept': 5.505326086432957e-14, 'meas': 'P02768', 'struct': 'P02768'}, 'P02787': {'pvalues': 3.2931800173046256e-06, 'intercept': 1.6103950478392447e-06, 'meas': 'P02787', 'struct': 'P02787'}, 'P02790': {'pvalues': 1.8172181172530552e-07, 'intercept': 3.6422277057093957e-06, 'meas': 'P02790', 'struct': 'P02790'}, 'P04196': {'pvalues': 0.00013368395830483948, 'intercept': 0.00014068630680028695, 'meas': 'P04196', 'struct': 'P04196'}, 'P08603': {'pvalues': 2.1853017583023457e-08, 'intercept': 9.88429069253851e-07, 'meas': 'P08603', 'struct': 'P08603'}, 'P13671': {'pvalues': 1.4634339252250896e-05, 'intercept': 0.0034870819979021203, 'meas': 'P13671', 'struct': 'P13671'}, 'P19652': {'pvalues': 6.324373178550562e-05, 'intercept': 0.0084603578965463, 'meas': 'P19652', 'struct': 'P19652'}, 'P68871': {'pvalues': 0.017770779418703954, 'intercept': 0.0013208052434035497, 'meas': 'P68871', 'struct': 'P68871'}, 'P69905': {'pvalues': 0.02652211774623982, 'intercept': 0.0003384888937718555, 'meas': 'P69905', 'struct': 'P69905'}, 'age': {'pvalues': 0.006497587632253051, 'intercept': 7.710909231369231e-09, 'meas': 'age', 'struct': 'age'}}, 'P02768': {'O43866': {'pvalues': 0.02831106923678313, 'intercept': 0.008438873093619325, 'meas': 'O43866', 'struct': 'O43866'}, 'P00739': {'pvalues': 0.013535656772813851, 'intercept': 0.009788067773220832, 'meas': 'P00739', 'struct': 'P00739'}, 'P01023': {'pvalues': 8.368843365194302e-06, 'intercept': 0.002879805527370925, 'meas': 'P01023', 'struct': 'P01023'}, 'P01876': {'pvalues': 0.047057685139751525, 'intercept': 0.01847736723758612, 'meas': 'P01876', 'struct': 'P01876'}, 'P02768': {'pvalues': 0.0, 'intercept': 0.000375675441936642, 'meas': 'P02768', 'struct': 'P02768'}, 'P04003': {'pvalues': 0.008301152909678627, 'intercept': 0.02298970049661236, 'meas': 'P04003', 'struct': 'P04003'}, 'P13671': {'pvalues': 9.093338505912166e-11, 'intercept': 0.035145794362568705, 'meas': 'P13671', 'struct': 'P13671'}}, 'P02775': {'P00488': {'pvalues': 3.449851115712193e-32, 'intercept': 2.3285650369963467e-11, 'meas': 'P00488', 'struct': 'P00488'}, 'P01593': {'pvalues': 0.01079440829901396, 'intercept': 1.567030149910251e-10, 'meas': 'P01593', 'struct': 'P01593'}, 'P01625': {'pvalues': 3.075247214242912e-05, 'intercept': 2.199168657103446e-12, 'meas': 'P01625', 'struct': 'P01625'}, 'P02042': {'pvalues': 0.007248157532579462, 'intercept': 1.253782479572259e-12, 'meas': 'P02042', 'struct': 'P02042'}, 'P02647': {'pvalues': 0.0005254814812365429, 'intercept': 5.936421757385113e-21, 'meas': 'P02647', 'struct': 'P02647'}, 'P02652': {'pvalues': 0.03656156628005938, 'intercept': 2.0730408341970997e-14, 'meas': 'P02652', 'struct': 'P02652'}, 'P02675': {'pvalues': 0.0036613945391127277, 'intercept': 2.179371927494544e-17, 'meas': 'P02675', 'struct': 'P02675'}, 'P02765': {'pvalues': 0.022517144465390847, 'intercept': 1.178215045962717e-16, 'meas': 'P02765', 'struct': 'P02765'}, 'P04003': {'pvalues': 0.03761954332337815, 'intercept': 2.2705895518572147e-18, 'meas': 'P04003', 'struct': 'P04003'}, 'P04114': {'pvalues': 7.484472379150152e-15, 'intercept': 0.00022225652012128482, 'meas': 'P04114', 'struct': 'P04114'}, 'P19652': {'pvalues': 0.0016291909740662005, 'intercept': 4.0305778690148776e-13, 'meas': 'P19652', 'struct': 'P19652'}, 'P26038': {'pvalues': 1.8712295538759935e-23, 'intercept': 1.8310087492973484e-05, 'meas': 'P26038', 'struct': 'P26038'}, 'P60709': {'pvalues': 2.173917501298112e-62, 'intercept': 0.009188445352887632, 'meas': 'P60709', 'struct': 'P60709'}, 'P68871': {'pvalues': 0.0006414240324640755, 'intercept': 3.1991123680958367e-12, 'meas': 'P68871', 'struct': 'P68871'}, 'P69905': {'pvalues': 0.0031464217788065682, 'intercept': 5.440958790839263e-13, 'meas': 'P69905', 'struct': 'P69905'}, 'age': {'pvalues': 0.003555865477034029, 'intercept': 3.0368342539324125e-23, 'meas': 'age', 'struct': 'age'}}, 'P02776': {'P02766': {'pvalues': 0.020993811722648276, 'intercept': 6.276019688137861e-15, 'meas': 'P02766', 'struct': 'P02766'}}, 'P02787': {'P00450': {'pvalues': 2.446414630900627e-13, 'intercept': 0.04745425132380596, 'meas': 'P00450', 'struct': 'P00450'}, 'P00739': {'pvalues': 0.00017191157384709036, 'intercept': 0.0002399842274716001, 'meas': 'P00739', 'struct': 'P00739'}, 'P01009': {'pvalues': 2.8300339631751456e-16, 'intercept': 0.009672658482352922, 'meas': 'P01009', 'struct': 'P01009'}, 'P01011': {'pvalues': 3.8350930848784676e-09, 'intercept': 1.1418708496327402e-05, 'meas': 'P01011', 'struct': 'P01011'}, 'P01023': {'pvalues': 0.0027188804879653417, 'intercept': 4.780828173621122e-09, 'meas': 'P01023', 'struct': 'P01023'}, 'P01024': {'pvalues': 2.2229510040712853e-12, 'intercept': 0.027102690768583418, 'meas': 'P01024', 'struct': 'P01024'}, 'P01031': {'pvalues': 0.0001342567147815125, 'intercept': 0.0008768996580070771, 'meas': 'P01031', 'struct': 'P01031'}, 'P01781': {'pvalues': 0.016254712823323077, 'intercept': 0.04891370940032843, 'meas': 'P01781', 'struct': 'P01781'}, 'P01859': {'pvalues': 3.2658056613902317e-06, 'intercept': 0.021262866639789893, 'meas': 'P01859', 'struct': 'P01859'}, 'P01876': {'pvalues': 0.018547496954438532, 'intercept': 0.0002584199303521575, 'meas': 'P01876', 'struct': 'P01876'}, 'P02042': {'pvalues': 0.017405458648213194, 'intercept': 0.011429466640028259, 'meas': 'P02042', 'struct': 'P02042'}, 'P02647': {'pvalues': 2.082409667077274e-08, 'intercept': 0.0014408142872615421, 'meas': 'P02647', 'struct': 'P02647'}, 'P02675': {'pvalues': 0.0002867364168176011, 'intercept': 0.002089314215026975, 'meas': 'P02675', 'struct': 'P02675'}, 'P02768': {'pvalues': 1.785808694059302e-08, 'intercept': 1.1584617548489397e-09, 'meas': 'P02768', 'struct': 'P02768'}, 'P04220': {'pvalues': 0.0173250793164129, 'intercept': 1.0945254192068969e-07, 'meas': 'P04220', 'struct': 'P04220'}, 'P08603': {'pvalues': 4.807915492384227e-14, 'intercept': 0.008577548828442494, 'meas': 'P08603', 'struct': 'P08603'}, 'P22792': {'pvalues': 0.006137056237170537, 'intercept': 0.0052939222991420076, 'meas': 'P22792', 'struct': 'P22792'}, 'P68871': {'pvalues': 0.008744260999229219, 'intercept': 0.030100859595246526, 'meas': 'P68871', 'struct': 'P68871'}, 'P69905': {'pvalues': 0.004427910123592419, 'intercept': 0.022498008724507173, 'meas': 'P69905', 'struct': 'P69905'}, 'age': {'pvalues': 0.024297976218798714, 'intercept': 9.275080517534397e-07, 'meas': 'age', 'struct': 'age'}}, 'P02790': {'P00450': {'pvalues': 1.338690998903634e-12, 'intercept': 0.033480002567743423, 'meas': 'P00450', 'struct': 'P00450'}, 'P00739': {'pvalues': 0.0003499312674427174, 'intercept': 0.0001508379063530571, 'meas': 'P00739', 'struct': 'P00739'}, 'P01008': {'pvalues': 2.2760527277068847e-14, 'intercept': 0.015885693211423513, 'meas': 'P01008', 'struct': 'P01008'}, 'P01009': {'pvalues': 8.356666158054675e-13, 'intercept': 0.0035655267921132815, 'meas': 'P01009', 'struct': 'P01009'}, 'P01011': {'pvalues': 6.616780714388531e-13, 'intercept': 2.3207678799320758e-05, 'meas': 'P01011', 'struct': 'P01011'}, 'P01023': {'pvalues': 0.005326607125959749, 'intercept': 2.6705729672806268e-09, 'meas': 'P01023', 'struct': 'P01023'}, 'P01024': {'pvalues': 1.9663135357573457e-12, 'intercept': 0.024331811719179964, 'meas': 'P01024', 'struct': 'P01024'}, 'P01031': {'pvalues': 4.961855900418959e-07, 'intercept': 0.005847531950736412, 'meas': 'P01031', 'struct': 'P01031'}, 'P01876': {'pvalues': 0.0015852771872081571, 'intercept': 0.0013174530666506738, 'meas': 'P01876', 'struct': 'P01876'}, 'P02647': {'pvalues': 5.5529551354132926e-11, 'intercept': 0.003957922050701482, 'meas': 'P02647', 'struct': 'P02647'}, 'P02675': {'pvalues': 6.243027246925398e-06, 'intercept': 0.008778742542886245, 'meas': 'P02675', 'struct': 'P02675'}, 'P02745': {'pvalues': 0.042071634495757654, 'intercept': 7.889336941754921e-05, 'meas': 'P02745', 'struct': 'P02745'}, 'P02765': {'pvalues': 1.4401974916653593e-05, 'intercept': 0.010126161263943365, 'meas': 'P02765', 'struct': 'P02765'}, 'P02768': {'pvalues': 5.694577966588178e-07, 'intercept': 6.987141319955455e-10, 'meas': 'P02768', 'struct': 'P02768'}, 'P02787': {'pvalues': 5.666586923126036e-17, 'intercept': 0.04265834783467059, 'meas': 'P02787', 'struct': 'P02787'}, 'P02790': {'pvalues': 0.0, 'intercept': 2.8907712594270435e-08, 'meas': 'P02790', 'struct': 'P02790'}, 'P04220': {'pvalues': 0.03838217219229206, 'intercept': 4.5382944856558057e-08, 'meas': 'P04220', 'struct': 'P04220'}, 'P08603': {'pvalues': 6.397692804996487e-17, 'intercept': 0.013787892594529772, 'meas': 'P08603', 'struct': 'P08603'}, 'P22792': {'pvalues': 0.002051154092248242, 'intercept': 0.009511654490804874, 'meas': 'P22792', 'struct': 'P22792'}, 'age': {'pvalues': 0.00024371650317637009, 'intercept': 1.7043469571802407e-05, 'meas': 'age', 'struct': 'age'}}, 'P04003': {'O43866': {'pvalues': 1.7542903856238992e-09, 'intercept': 0.004692625347717009, 'meas': 'O43866', 'struct': 'O43866'}, 'P00450': {'pvalues': 0.004468261048636734, 'intercept': 1.5322184395865117e-05, 'meas': 'P00450', 'struct': 'P00450'}, 'P00739': {'pvalues': 0.0004919170759603424, 'intercept': 3.83080852684848e-05, 'meas': 'P00739', 'struct': 'P00739'}, 'P01011': {'pvalues': 0.0004452348599572277, 'intercept': 7.110688514109427e-08, 'meas': 'P01011', 'struct': 'P01011'}, 'P01023': {'pvalues': 1.3266318656624257e-07, 'intercept': 1.161914329485436e-08, 'meas': 'P01023', 'struct': 'P01023'}, 'P01024': {'pvalues': 7.92616152167224e-06, 'intercept': 0.00024143555452418072, 'meas': 'P01024', 'struct': 'P01024'}, 'P01031': {'pvalues': 3.4436286721872893e-06, 'intercept': 0.0010578738536322718, 'meas': 'P01031', 'struct': 'P01031'}, 'P01859': {'pvalues': 0.00046850882252912285, 'intercept': 0.0011114218527162871, 'meas': 'P01859', 'struct': 'P01859'}, 'P01876': {'pvalues': 0.0006007707996631927, 'intercept': 0.0008813647326364636, 'meas': 'P01876', 'struct': 'P01876'}, 'P02042': {'pvalues': 0.0006926689811764818, 'intercept': 0.03641879469111107, 'meas': 'P02042', 'struct': 'P02042'}, 'P02647': {'pvalues': 3.5803432166387416e-05, 'intercept': 3.4919379828754605e-05, 'meas': 'P02647', 'struct': 'P02647'}, 'P02675': {'pvalues': 1.38930780660624e-05, 'intercept': 0.0024976268081700775, 'meas': 'P02675', 'struct': 'P02675'}, 'P02745': {'pvalues': 0.0006637844956796935, 'intercept': 0.0005914476213908601, 'meas': 'P02745', 'struct': 'P02745'}, 'P02760': {'pvalues': 0.0007550517215248465, 'intercept': 0.00029442782591217404, 'meas': 'P02760', 'struct': 'P02760'}, 'P02763': {'pvalues': 0.018580110989583846, 'intercept': 0.00014542998759982487, 'meas': 'P02763', 'struct': 'P02763'}, 'P02768': {'pvalues': 0.008301152909678713, 'intercept': 5.8311093334925775e-12, 'meas': 'P02768', 'struct': 'P02768'}, 'P04003': {'pvalues': 0.0, 'intercept': 4.4915057240881576e-10, 'meas': 'P04003', 'struct': 'P04003'}, 'P04196': {'pvalues': 0.0003615233594490493, 'intercept': 0.00219030548164537, 'meas': 'P04196', 'struct': 'P04196'}, 'P04220': {'pvalues': 1.1381815402302992e-07, 'intercept': 2.810416227592726e-06, 'meas': 'P04220', 'struct': 'P04220'}, 'P08603': {'pvalues': 0.0009890639845642531, 'intercept': 5.375099558804392e-06, 'meas': 'P08603', 'struct': 'P08603'}, 'P13671': {'pvalues': 0.001001754654689867, 'intercept': 0.0082469030255671, 'meas': 'P13671', 'struct': 'P13671'}, 'P22792': {'pvalues': 0.0002561454210600534, 'intercept': 0.01279026539414744, 'meas': 'P22792', 'struct': 'P22792'}, 'P68871': {'pvalues': 0.001172734035416667, 'intercept': 0.04787662538031954, 'meas': 'P68871', 'struct': 'P68871'}, 'P69905': {'pvalues': 0.002688604811795173, 'intercept': 0.015239536614351092, 'meas': 'P69905', 'struct': 'P69905'}, 'Q08380': {'pvalues': 0.0007970592955350106, 'intercept': 0.0035168496947908614, 'meas': 'Q08380', 'struct': 'Q08380'}}, 'P04114': {'P01625': {'pvalues': 0.03961498974284402, 'intercept': 1.5589584320323236e-09, 'meas': 'P01625', 'struct': 'P01625'}, 'P02647': {'pvalues': 0.0003938421325239891, 'intercept': 5.177118318146376e-18, 'meas': 'P02647', 'struct': 'P02647'}, 'P02652': {'pvalues': 0.016280374921279258, 'intercept': 3.7488691623838985e-12, 'meas': 'P02652', 'struct': 'P02652'}, 'P02675': {'pvalues': 0.002509567690522383, 'intercept': 9.928368977115811e-15, 'meas': 'P02675', 'struct': 'P02675'}, 'P04114': {'pvalues': 0.0, 'intercept': 3.9635375223316975e-08, 'meas': 'P04114', 'struct': 'P04114'}}, 'P04196': {'O43866': {'pvalues': 0.007160126222264879, 'intercept': 1.0299879634555967e-06, 'meas': 'O43866', 'struct': 'O43866'}, 'P00450': {'pvalues': 4.00107072983211e-07, 'intercept': 2.8614927982564975e-05, 'meas': 'P00450', 'struct': 'P00450'}, 'P00739': {'pvalues': 0.0028752881168325464, 'intercept': 6.710833256317896e-07, 'meas': 'P00739', 'struct': 'P00739'}, 'P01008': {'pvalues': 9.92794726525223e-10, 'intercept': 1.4414897297222528e-05, 'meas': 'P01008', 'struct': 'P01008'}, 'P01009': {'pvalues': 6.07880654380888e-06, 'intercept': 8.004554679825225e-07, 'meas': 'P01009', 'struct': 'P01009'}, 'P01011': {'pvalues': 2.2268447047662716e-10, 'intercept': 8.313632757862339e-09, 'meas': 'P01011', 'struct': 'P01011'}, 'P01023': {'pvalues': 1.025198245270393e-05, 'intercept': 4.6046569924489185e-11, 'meas': 'P01023', 'struct': 'P01023'}, 'P01024': {'pvalues': 5.239017813300973e-12, 'intercept': 0.00010374923915200351, 'meas': 'P01024', 'struct': 'P01024'}, 'P01031': {'pvalues': 4.888210169540445e-10, 'intercept': 0.0003203395242713185, 'meas': 'P01031', 'struct': 'P01031'}, 'P01593': {'pvalues': 0.004650586997652125, 'intercept': 0.018887527862560167, 'meas': 'P01593', 'struct': 'P01593'}, 'P01597': {'pvalues': 0.004568393688194163, 'intercept': 0.03303727615455412, 'meas': 'P01597', 'struct': 'P01597'}, 'P01625': {'pvalues': 0.000566856322678303, 'intercept': 0.02022349187672319, 'meas': 'P01625', 'struct': 'P01625'}, 'P01859': {'pvalues': 3.1397669823378943e-11, 'intercept': 0.007096442646315557, 'meas': 'P01859', 'struct': 'P01859'}, 'P01876': {'pvalues': 0.005086727332968573, 'intercept': 2.1262165028271993e-05, 'meas': 'P01876', 'struct': 'P01876'}, 'P02042': {'pvalues': 0.005845847228715376, 'intercept': 0.0023868899915991983, 'meas': 'P02042', 'struct': 'P02042'}, 'P02647': {'pvalues': 1.274586865645389e-13, 'intercept': 1.638289003907182e-05, 'meas': 'P02647', 'struct': 'P02647'}, 'P02652': {'pvalues': 4.757440299762944e-07, 'intercept': 0.012688136371579525, 'meas': 'P02652', 'struct': 'P02652'}, 'P02675': {'pvalues': 4.691855659250689e-10, 'intercept': 0.001920823692902121, 'meas': 'P02675', 'struct': 'P02675'}, 'P02745': {'pvalues': 0.022467346034923365, 'intercept': 4.578085481526622e-06, 'meas': 'P02745', 'struct': 'P02745'}, 'P02760': {'pvalues': 6.954150719733388e-15, 'intercept': 0.004258167324869244, 'meas': 'P02760', 'struct': 'P02760'}, 'P02763': {'pvalues': 1.1730451858290618e-09, 'intercept': 0.005973695100057393, 'meas': 'P02763', 'struct': 'P02763'}, 'P02765': {'pvalues': 3.49960822337265e-05, 'intercept': 0.00022217932289958077, 'meas': 'P02765', 'struct': 'P02765'}, 'P02766': {'pvalues': 0.00013368395830483945, 'intercept': 0.0008264791363696031, 'meas': 'P02766', 'struct': 'P02766'}, 'P02768': {'pvalues': 2.1379545250550764e-07, 'intercept': 2.8464460074763427e-13, 'meas': 'P02768', 'struct': 'P02768'}, 'P02787': {'pvalues': 1.4905505375818534e-09, 'intercept': 2.3059468788867294e-05, 'meas': 'P02787', 'struct': 'P02787'}, 'P02790': {'pvalues': 1.1441497827181885e-10, 'intercept': 3.833140771617453e-05, 'meas': 'P02790', 'struct': 'P02790'}, 'P04003': {'pvalues': 0.00036152335944904647, 'intercept': 6.566412569620812e-06, 'meas': 'P04003', 'struct': 'P04003'}, 'P04196': {'pvalues': 0.0, 'intercept': 7.00628555226546e-05, 'meas': 'P04196', 'struct': 'P04196'}, 'P04220': {'pvalues': 0.00026923010547695575, 'intercept': 5.5048335521430755e-09, 'meas': 'P04220', 'struct': 'P04220'}, 'P08603': {'pvalues': 6.150800765551797e-12, 'intercept': 8.552007341691618e-06, 'meas': 'P08603', 'struct': 'P08603'}, 'P22792': {'pvalues': 3.5739303661724966e-06, 'intercept': 0.008502927168041371, 'meas': 'P22792', 'struct': 'P22792'}, 'P68871': {'pvalues': 0.0009429266834373054, 'intercept': 0.012588872692414143, 'meas': 'P68871', 'struct': 'P68871'}, 'P69905': {'pvalues': 0.0015313385884017296, 'intercept': 0.003941094427557367, 'meas': 'P69905', 'struct': 'P69905'}, 'age': {'pvalues': 0.004441797394373858, 'intercept': 2.9362648740174612e-08, 'meas': 'age', 'struct': 'age'}}, 'P04220': {'P00450': {'pvalues': 0.00017750217660077573, 'intercept': 0.005620374438353318, 'meas': 'P00450', 'struct': 'P00450'}, 'P00739': {'pvalues': 0.002878219820268112, 'intercept': 0.0009144883539915808, 'meas': 'P00739', 'struct': 'P00739'}, 'P01011': {'pvalues': 0.001400022922415561, 'intercept': 1.2190988517455439e-05, 'meas': 'P01011', 'struct': 'P01011'}, 'P01023': {'pvalues': 4.342936815052376e-06, 'intercept': 8.443586551511653e-06, 'meas': 'P01023', 'struct': 'P01023'}, 'P01024': {'pvalues': 0.0005007337613605866, 'intercept': 0.0027475897331027646, 'meas': 'P01024', 'struct': 'P01024'}, 'P01031': {'pvalues': 0.00021894498711820727, 'intercept': 0.00949591663102523, 'meas': 'P01031', 'struct': 'P01031'}, 'P01597': {'pvalues': 8.688919527687869e-12, 'intercept': 0.009899890310726243, 'meas': 'P01597', 'struct': 'P01597'}, 'P01876': {'pvalues': 0.0010194546978670993, 'intercept': 0.016873572689477777, 'meas': 'P01876', 'struct': 'P01876'}, 'P02042': {'pvalues': 0.034203233746011356, 'intercept': 0.030314199179351395, 'meas': 'P02042', 'struct': 'P02042'}, 'P02647': {'pvalues': 8.142380488942954e-05, 'intercept': 0.002504284689270594, 'meas': 'P02647', 'struct': 'P02647'}, 'P02675': {'pvalues': 0.0022708676428188513, 'intercept': 0.00721167729481306, 'meas': 'P02675', 'struct': 'P02675'}, 'P02745': {'pvalues': 0.0008306801764416592, 'intercept': 0.014785328548083747, 'meas': 'P02745', 'struct': 'P02745'}, 'P02760': {'pvalues': 0.005567829558123307, 'intercept': 0.0030792187816910577, 'meas': 'P02760', 'struct': 'P02760'}, 'P02768': {'pvalues': 1.471251084887308e-06, 'intercept': 2.50131350478843e-07, 'meas': 'P02768', 'struct': 'P02768'}, 'P02787': {'pvalues': 0.01732507931641305, 'intercept': 0.00015591943720876073, 'meas': 'P02787', 'struct': 'P02787'}, 'P02790': {'pvalues': 0.03838217219229206, 'intercept': 8.187438286894428e-05, 'meas': 'P02790', 'struct': 'P02790'}, 'P04196': {'pvalues': 0.00026923010547695754, 'intercept': 0.048429398084965644, 'meas': 'P04196', 'struct': 'P04196'}, 'P04220': {'pvalues': 0.0, 'intercept': 0.0003639089691969944, 'meas': 'P04220', 'struct': 'P04220'}, 'P08603': {'pvalues': 0.006313995403301798, 'intercept': 0.0001607549035893313, 'meas': 'P08603', 'struct': 'P08603'}, 'P69905': {'pvalues': 0.04453083254041651, 'intercept': 0.0207836357252829, 'meas': 'P69905', 'struct': 'P69905'}, 'Q08380': {'pvalues': 0.0015972170682920998, 'intercept': 0.037895851701841565, 'meas': 'Q08380', 'struct': 'Q08380'}, 'age': {'pvalues': 0.03135199244211643, 'intercept': 1.9468291385554368e-05, 'meas': 'age', 'struct': 'age'}}, 'P04275': {'O43866': {'pvalues': 0.0022854374742980544, 'intercept': 4.004798993007586e-17, 'meas': 'O43866', 'struct': 'O43866'}, 'P01023': {'pvalues': 8.175284224660175e-05, 'intercept': 4.503166876212323e-25, 'meas': 'P01023', 'struct': 'P01023'}, 'P01031': {'pvalues': 0.01018020626932246, 'intercept': 1.1874703013273218e-16, 'meas': 'P01031', 'struct': 'P01031'}, 'P01593': {'pvalues': 9.021746289286764e-05, 'intercept': 4.263086375843763e-09, 'meas': 'P01593', 'struct': 'P01593'}, 'P01597': {'pvalues': 4.3191944924531965e-06, 'intercept': 1.469877171010222e-08, 'meas': 'P01597', 'struct': 'P01597'}, 'P01625': {'pvalues': 1.8059343212148014e-05, 'intercept': 2.5008667087551956e-10, 'meas': 'P01625', 'struct': 'P01625'}, 'P01859': {'pvalues': 1.954050106516553e-06, 'intercept': 5.666361368703411e-16, 'meas': 'P01859', 'struct': 'P01859'}, 'P02647': {'pvalues': 0.0091340115213941, 'intercept': 1.3763929050589769e-18, 'meas': 'P02647', 'struct': 'P02647'}, 'P02675': {'pvalues': 0.0017318461849475189, 'intercept': 1.1595158474749713e-15, 'meas': 'P02675', 'struct': 'P02675'}, 'P02760': {'pvalues': 0.010335951428579564, 'intercept': 7.41761948178318e-16, 'meas': 'P02760', 'struct': 'P02760'}, 'P02768': {'pvalues': 0.01170746336704451, 'intercept': 2.0888161506721018e-26, 'meas': 'P02768', 'struct': 'P02768'}, 'P04003': {'pvalues': 0.010122537693489427, 'intercept': 7.223687294279724e-17, 'meas': 'P04003', 'struct': 'P04003'}, 'P04196': {'pvalues': 0.0034274848738315503, 'intercept': 1.8269789930316e-14, 'meas': 'P04196', 'struct': 'P04196'}, 'P04220': {'pvalues': 0.0014626984689269104, 'intercept': 1.6824048369987167e-21, 'meas': 'P04220', 'struct': 'P04220'}, 'P04275': {'pvalues': 0.0, 'intercept': 0.0024115109016027494, 'meas': 'P04275', 'struct': 'P04275'}, 'P13671': {'pvalues': 0.011590395481066601, 'intercept': 1.470739740264012e-12, 'meas': 'P13671', 'struct': 'P13671'}, 'P19652': {'pvalues': 0.009095556026024758, 'intercept': 2.530163778937139e-11, 'meas': 'P19652', 'struct': 'P19652'}, 'P22792': {'pvalues': 0.00015639311903710106, 'intercept': 4.956116949898632e-13, 'meas': 'P22792', 'struct': 'P22792'}}, 'P08603': {'O43866': {'pvalues': 0.047627524474432824, 'intercept': 2.2733794728764684e-05, 'meas': 'O43866', 'struct': 'O43866'}, 'P00450': {'pvalues': 8.269959380543771e-10, 'intercept': 0.028122162036053333, 'meas': 'P00450', 'struct': 'P00450'}, 'P00739': {'pvalues': 4.7317592534646455e-06, 'intercept': 0.0022024039559045377, 'meas': 'P00739', 'struct': 'P00739'}, 'P01008': {'pvalues': 4.590028209248079e-13, 'intercept': 0.03172530904122823, 'meas': 'P01008', 'struct': 'P01008'}, 'P01009': {'pvalues': 1.644372582633669e-09, 'intercept': 0.0032955123352321454, 'meas': 'P01009', 'struct': 'P01009'}, 'P01011': {'pvalues': 3.4968155259102415e-12, 'intercept': 0.00010491903238655289, 'meas': 'P01011', 'struct': 'P01011'}, 'P01023': {'pvalues': 0.0002562161268613504, 'intercept': 5.036352475568655e-08, 'meas': 'P01023', 'struct': 'P01023'}, 'P01876': {'pvalues': 5.857324007631392e-05, 'intercept': 0.012558157591592014, 'meas': 'P01876', 'struct': 'P01876'}, 'P02042': {'pvalues': 0.0054150870215935, 'intercept': 0.03535276058915862, 'meas': 'P02042', 'struct': 'P02042'}, 'P02647': {'pvalues': 5.246220748067854e-10, 'intercept': 0.007660937027905706, 'meas': 'P02647', 'struct': 'P02647'}, 'P02745': {'pvalues': 0.009686711548758229, 'intercept': 0.000583358311727524, 'meas': 'P02745', 'struct': 'P02745'}, 'P02765': {'pvalues': 5.223079311094091e-06, 'intercept': 0.027534679726794273, 'meas': 'P02765', 'struct': 'P02765'}, 'P02768': {'pvalues': 4.3145737137346075e-08, 'intercept': 5.350862627632501e-09, 'meas': 'P02768', 'struct': 'P02768'}, 'P04003': {'pvalues': 0.0009890639845642553, 'intercept': 0.0005073316785733119, 'meas': 'P04003', 'struct': 'P04003'}, 'P04220': {'pvalues': 0.006313995403301829, 'intercept': 6.344473429805421e-07, 'meas': 'P04220', 'struct': 'P04220'}, 'P08603': {'pvalues': 0.0, 'intercept': 1.8151551490063763e-10, 'meas': 'P08603', 'struct': 'P08603'}, 'P69905': {'pvalues': 0.0033991956489867075, 'intercept': 0.03816928439484221, 'meas': 'P69905', 'struct': 'P69905'}, 'age': {'pvalues': 0.00018410494991858586, 'intercept': 5.481679002479497e-05, 'meas': 'age', 'struct': 'age'}}, 'P13671': {'P00450': {'pvalues': 7.054026342432176e-10, 'intercept': 2.9064115026976115e-06, 'meas': 'P00450', 'struct': 'P00450'}, 'P00739': {'pvalues': 0.015451844197627171, 'intercept': 1.7299646089854508e-08, 'meas': 'P00739', 'struct': 'P00739'}, 'P01008': {'pvalues': 4.022705899887115e-11, 'intercept': 3.961402616035519e-07, 'meas': 'P01008', 'struct': 'P01008'}, 'P01009': {'pvalues': 1.5491598820251354e-09, 'intercept': 7.31202299627307e-08, 'meas': 'P01009', 'struct': 'P01009'}, 'P01011': {'pvalues': 1.3769327652539752e-11, 'intercept': 5.8101456104340684e-11, 'meas': 'P01011', 'struct': 'P01011'}, 'P01023': {'pvalues': 9.469510259468149e-05, 'intercept': 7.305101453703266e-13, 'meas': 'P01023', 'struct': 'P01023'}, 'P01024': {'pvalues': 2.6817384399290596e-11, 'intercept': 2.1671631265064817e-06, 'meas': 'P01024', 'struct': 'P01024'}, 'P01031': {'pvalues': 8.209118210141465e-08, 'intercept': 6.495315156115632e-06, 'meas': 'P01031', 'struct': 'P01031'}, 'P01593': {'pvalues': 0.008379802960243286, 'intercept': 0.004184454761844471, 'meas': 'P01593', 'struct': 'P01593'}, 'P01597': {'pvalues': 0.0003644625875652734, 'intercept': 0.036221474780128174, 'meas': 'P01597', 'struct': 'P01597'}, 'P01625': {'pvalues': 0.004166350416208494, 'intercept': 0.0019660445512490166, 'meas': 'P01625', 'struct': 'P01625'}, 'P01859': {'pvalues': 1.3226594324607475e-07, 'intercept': 0.00012133915210759923, 'meas': 'P01859', 'struct': 'P01859'}, 'P02042': {'pvalues': 0.0027766536149174707, 'intercept': 0.0008298095586704787, 'meas': 'P02042', 'struct': 'P02042'}, 'P02647': {'pvalues': 1.529488453528826e-13, 'intercept': 1.9239705511685763e-07, 'meas': 'P02647', 'struct': 'P02647'}, 'P02652': {'pvalues': 3.7333511307809454e-11, 'intercept': 0.010535052697194517, 'meas': 'P02652', 'struct': 'P02652'}, 'P02675': {'pvalues': 3.58469808521712e-12, 'intercept': 0.00017231066196310267, 'meas': 'P02675', 'struct': 'P02675'}, 'P02760': {'pvalues': 1.0032277383570836e-18, 'intercept': 0.00011739233933337786, 'meas': 'P02760', 'struct': 'P02760'}, 'P02763': {'pvalues': 6.7059608830169755e-12, 'intercept': 0.0008829614295491117, 'meas': 'P02763', 'struct': 'P02763'}, 'P02765': {'pvalues': 4.336907232505836e-06, 'intercept': 3.9627730776048126e-05, 'meas': 'P02765', 'struct': 'P02765'}, 'P02766': {'pvalues': 1.4634339252250792e-05, 'intercept': 0.00024006562762203879, 'meas': 'P02766', 'struct': 'P02766'}, 'P02768': {'pvalues': 9.093338505912069e-11, 'intercept': 4.809478822676863e-16, 'meas': 'P02768', 'struct': 'P02768'}, 'P02787': {'pvalues': 6.831908583867282e-10, 'intercept': 6.718548626175602e-07, 'meas': 'P02787', 'struct': 'P02787'}, 'P02790': {'pvalues': 2.1502233768588808e-10, 'intercept': 8.999421940300249e-07, 'meas': 'P02790', 'struct': 'P02790'}, 'P04003': {'pvalues': 0.0010017546546898534, 'intercept': 3.1097809812056077e-07, 'meas': 'P04003', 'struct': 'P04003'}, 'P04196': {'pvalues': 2.309404884981836e-16, 'intercept': 0.00281819528005935, 'meas': 'P04196', 'struct': 'P04196'}, 'P04220': {'pvalues': 0.0027079762111398625, 'intercept': 8.950447352699973e-11, 'meas': 'P04220', 'struct': 'P04220'}, 'P08603': {'pvalues': 5.814745541575916e-13, 'intercept': 1.1522121880752922e-07, 'meas': 'P08603', 'struct': 'P08603'}, 'P22792': {'pvalues': 2.7072120532658494e-06, 'intercept': 0.0013892976505279506, 'meas': 'P22792', 'struct': 'P22792'}, 'P68871': {'pvalues': 0.0008676575108195894, 'intercept': 0.0033116038567195085, 'meas': 'P68871', 'struct': 'P68871'}, 'P69905': {'pvalues': 0.0008788507986897302, 'intercept': 0.0011116434347254892, 'meas': 'P69905', 'struct': 'P69905'}}, 'P19652': {'O43866': {'pvalues': 0.04644202903816567, 'intercept': 3.782415862567598e-09, 'meas': 'O43866', 'struct': 'O43866'}, 'P00450': {'pvalues': 3.1058439563605796e-06, 'intercept': 9.609352811157634e-08, 'meas': 'P00450', 'struct': 'P00450'}, 'P00739': {'pvalues': 0.03569145262123043, 'intercept': 1.4956217004829301e-09, 'meas': 'P00739', 'struct': 'P00739'}, 'P01008': {'pvalues': 4.652355508674294e-07, 'intercept': 1.729150375861024e-08, 'meas': 'P01008', 'struct': 'P01008'}, 'P01009': {'pvalues': 1.7823283874089852e-05, 'intercept': 2.3916532679532255e-09, 'meas': 'P01009', 'struct': 'P01009'}, 'P01011': {'pvalues': 4.770438615303523e-07, 'intercept': 6.915710855252208e-12, 'meas': 'P01011', 'struct': 'P01011'}, 'P01023': {'pvalues': 5.821958369751761e-06, 'intercept': 5.2028074584714475e-14, 'meas': 'P01023', 'struct': 'P01023'}, 'P01024': {'pvalues': 1.0619537943072587e-08, 'intercept': 1.1442574421665264e-07, 'meas': 'P01024', 'struct': 'P01024'}, 'P01031': {'pvalues': 8.157911930954812e-05, 'intercept': 1.6812317476041424e-07, 'meas': 'P01031', 'struct': 'P01031'}, 'P01593': {'pvalues': 7.72877353374491e-06, 'intercept': 0.02854617491028048, 'meas': 'P01593', 'struct': 'P01593'}, 'P01625': {'pvalues': 8.92164357505371e-09, 'intercept': 0.04023306484961006, 'meas': 'P01625', 'struct': 'P01625'}, 'P01859': {'pvalues': 7.833766938969713e-05, 'intercept': 3.5411662966637822e-06, 'meas': 'P01859', 'struct': 'P01859'}, 'P02042': {'pvalues': 5.168067968330607e-07, 'intercept': 0.005539933080170855, 'meas': 'P02042', 'struct': 'P02042'}, 'P02647': {'pvalues': 8.318240883604112e-13, 'intercept': 7.998753701683531e-09, 'meas': 'P02647', 'struct': 'P02647'}, 'P02652': {'pvalues': 1.4573841692032505e-07, 'intercept': 0.0004806828541777835, 'meas': 'P02652', 'struct': 'P02652'}, 'P02675': {'pvalues': 1.498070154507647e-13, 'intercept': 1.4384940766287209e-05, 'meas': 'P02675', 'struct': 'P02675'}, 'P02760': {'pvalues': 9.751132804950995e-10, 'intercept': 5.021423510609899e-06, 'meas': 'P02760', 'struct': 'P02760'}, 'P02763': {'pvalues': 3.955703074601417e-11, 'intercept': 7.943851701393543e-05, 'meas': 'P02763', 'struct': 'P02763'}, 'P02765': {'pvalues': 0.00018948196924905422, 'intercept': 1.9378271551771106e-06, 'meas': 'P02765', 'struct': 'P02765'}, 'P02766': {'pvalues': 6.324373178550527e-05, 'intercept': 2.9333956669679177e-05, 'meas': 'P02766', 'struct': 'P02766'}, 'P02768': {'pvalues': 1.244806766541788e-06, 'intercept': 1.744037499975492e-16, 'meas': 'P02768', 'struct': 'P02768'}, 'P02787': {'pvalues': 1.228169330706027e-05, 'intercept': 1.893066225604612e-08, 'meas': 'P02787', 'struct': 'P02787'}, 'P02790': {'pvalues': 2.4026257297387386e-05, 'intercept': 2.043277988320312e-08, 'meas': 'P02790', 'struct': 'P02790'}, 'P04003': {'pvalues': 3.3757582173337904e-07, 'intercept': 3.5620962908548507e-07, 'meas': 'P04003', 'struct': 'P04003'}, 'P04196': {'pvalues': 1.6468813427952523e-09, 'intercept': 8.073863376754287e-05, 'meas': 'P04196', 'struct': 'P04196'}, 'P04220': {'pvalues': 0.0016024382743437438, 'intercept': 1.138987218527537e-11, 'meas': 'P04220', 'struct': 'P04220'}, 'P08603': {'pvalues': 2.0232370651853135e-08, 'intercept': 7.470426410872224e-09, 'meas': 'P08603', 'struct': 'P08603'}, 'P13671': {'pvalues': 5.788192718146789e-14, 'intercept': 0.006360761465641189, 'meas': 'P13671', 'struct': 'P13671'}, 'P19652': {'pvalues': 0.0, 'intercept': 0.0063507304189105275, 'meas': 'P19652', 'struct': 'P19652'}, 'P22792': {'pvalues': 1.4926610086226973e-06, 'intercept': 0.000352451432920338, 'meas': 'P22792', 'struct': 'P22792'}, 'P68871': {'pvalues': 6.24965517193532e-08, 'intercept': 0.020403230868667223, 'meas': 'P68871', 'struct': 'P68871'}, 'P69905': {'pvalues': 1.1447602205081947e-06, 'intercept': 0.0032558644812541305, 'meas': 'P69905', 'struct': 'P69905'}}, 'P22792': {'P00450': {'pvalues': 4.8116138650885415e-05, 'intercept': 6.124667536503633e-07, 'meas': 'P00450', 'struct': 'P00450'}, 'P01008': {'pvalues': 0.006302938472478702, 'intercept': 1.3788035553716087e-08, 'meas': 'P01008', 'struct': 'P01008'}, 'P01011': {'pvalues': 0.00013519753943716398, 'intercept': 9.286897600111005e-11, 'meas': 'P01011', 'struct': 'P01011'}, 'P01023': {'pvalues': 7.975718120056632e-06, 'intercept': 1.4504211260301303e-12, 'meas': 'P01023', 'struct': 'P01023'}, 'P01024': {'pvalues': 1.3252248450516162e-07, 'intercept': 1.576000603374209e-06, 'meas': 'P01024', 'struct': 'P01024'}, 'P01031': {'pvalues': 3.174337596440582e-08, 'intercept': 1.1098881659767279e-05, 'meas': 'P01031', 'struct': 'P01031'}, 'P01625': {'pvalues': 7.242476644446802e-05, 'intercept': 0.014467885620272776, 'meas': 'P01625', 'struct': 'P01625'}, 'P01859': {'pvalues': 4.588777488261943e-05, 'intercept': 3.3561534506239954e-05, 'meas': 'P01859', 'struct': 'P01859'}, 'P02042': {'pvalues': 0.023001300059047984, 'intercept': 0.00024543506395968635, 'meas': 'P02042', 'struct': 'P02042'}, 'P02647': {'pvalues': 1.5208717684102223e-05, 'intercept': 9.542031490572994e-08, 'meas': 'P02647', 'struct': 'P02647'}, 'P02652': {'pvalues': 0.01566320427729288, 'intercept': 2.845320191885313e-05, 'meas': 'P02652', 'struct': 'P02652'}, 'P02675': {'pvalues': 0.0028146538295323285, 'intercept': 2.0873925070678276e-06, 'meas': 'P02675', 'struct': 'P02675'}, 'P02760': {'pvalues': 2.245681847203652e-06, 'intercept': 1.8667476476858206e-05, 'meas': 'P02760', 'struct': 'P02760'}, 'P02763': {'pvalues': 0.00877147896343731, 'intercept': 3.996501681649077e-06, 'meas': 'P02763', 'struct': 'P02763'}, 'P02768': {'pvalues': 0.00421864905127081, 'intercept': 3.851441181423171e-15, 'meas': 'P02768', 'struct': 'P02768'}, 'P02787': {'pvalues': 0.006137056237170547, 'intercept': 2.2423227460662536e-08, 'meas': 'P02787', 'struct': 'P02787'}, 'P02790': {'pvalues': 0.002051154092248247, 'intercept': 4.966132313082509e-08, 'meas': 'P02790', 'struct': 'P02790'}, 'P04003': {'pvalues': 0.00025614542106004956, 'intercept': 7.754382417571832e-07, 'meas': 'P04003', 'struct': 'P04003'}, 'P04196': {'pvalues': 3.5739303661724835e-06, 'intercept': 0.00016344073834805793, 'meas': 'P04196', 'struct': 'P04196'}, 'P04220': {'pvalues': 0.000806472431273415, 'intercept': 2.1303031584334633e-10, 'meas': 'P04220', 'struct': 'P04220'}, 'P08603': {'pvalues': 0.00013641682130024696, 'intercept': 3.319804626764772e-08, 'meas': 'P08603', 'struct': 'P08603'}, 'P13671': {'pvalues': 2.707212053265835e-06, 'intercept': 0.0023685503919474954, 'meas': 'P13671', 'struct': 'P13671'}, 'P19652': {'pvalues': 1.4926610086227053e-06, 'intercept': 0.012655950728245583, 'meas': 'P19652', 'struct': 'P19652'}, 'P22792': {'pvalues': 0.0, 'intercept': 1.163321638921346e-05, 'meas': 'P22792', 'struct': 'P22792'}, 'P68871': {'pvalues': 0.008385062780760646, 'intercept': 0.0011271606782651846, 'meas': 'P68871', 'struct': 'P68871'}, 'P69905': {'pvalues': 0.01747822315496136, 'intercept': 0.00022224855174226183, 'meas': 'P69905', 'struct': 'P69905'}}, 'P26038': {'A6NNI4': {'pvalues': 7.284238430709898e-24, 'intercept': 0.0075127182994232525, 'meas': 'A6NNI4', 'struct': 'A6NNI4'}, 'P00488': {'pvalues': 6.897743957076879e-24, 'intercept': 0.04692520280507111, 'meas': 'P00488', 'struct': 'P00488'}, 'P01625': {'pvalues': 0.000704253062001908, 'intercept': 1.5370876793932849e-09, 'meas': 'P01625', 'struct': 'P01625'}, 'P02042': {'pvalues': 0.00026148025127289856, 'intercept': 1.6747747426102532e-10, 'meas': 'P02042', 'struct': 'P02042'}, 'P02647': {'pvalues': 0.0003899165750594508, 'intercept': 2.596691168083609e-18, 'meas': 'P02647', 'struct': 'P02647'}, 'P02652': {'pvalues': 0.02252633648567119, 'intercept': 2.1495384262310726e-12, 'meas': 'P02652', 'struct': 'P02652'}, 'P02675': {'pvalues': 4.09422851629768e-05, 'intercept': 2.112412249745168e-15, 'meas': 'P02675', 'struct': 'P02675'}, 'P02763': {'pvalues': 0.02177066255299356, 'intercept': 4.8386235675504615e-14, 'meas': 'P02763', 'struct': 'P02763'}, 'P02765': {'pvalues': 0.0024465512441143714, 'intercept': 1.4732835310425082e-14, 'meas': 'P02765', 'struct': 'P02765'}, 'P02766': {'pvalues': 0.02708842085331652, 'intercept': 3.9989540505566355e-13, 'meas': 'P02766', 'struct': 'P02766'}, 'P02768': {'pvalues': 0.03339401352226467, 'intercept': 1.2408079146650945e-25, 'meas': 'P02768', 'struct': 'P02768'}, 'P02775': {'pvalues': 1.8712295538760596e-23, 'intercept': 0.0020516126763248897, 'meas': 'P02775', 'struct': 'P02775'}, 'P04196': {'pvalues': 0.046423670974574706, 'intercept': 7.147583111335485e-14, 'meas': 'P04196', 'struct': 'P04196'}, 'P19652': {'pvalues': 0.0006597227625078624, 'intercept': 8.873169378044073e-11, 'meas': 'P19652', 'struct': 'P19652'}, 'P26038': {'pvalues': 0.0, 'intercept': 2.0869030948078783e-06, 'meas': 'P26038', 'struct': 'P26038'}, 'P35579': {'pvalues': 5.983961436170933e-24, 'intercept': 0.0015446455589247646, 'meas': 'P35579', 'struct': 'P35579'}, 'P60709': {'pvalues': 2.945581906277711e-24, 'intercept': 0.006377079078720262, 'meas': 'P60709', 'struct': 'P60709'}, 'P61981': {'pvalues': 4.4572954562674e-23, 'intercept': 0.01793065647841457, 'meas': 'P61981', 'struct': 'P61981'}, 'P68871': {'pvalues': 7.152038779127958e-06, 'intercept': 5.645537657550148e-10, 'meas': 'P68871', 'struct': 'P68871'}, 'P69905': {'pvalues': 0.00033689942620918127, 'intercept': 9.363012376912029e-11, 'meas': 'P69905', 'struct': 'P69905'}, 'age': {'pvalues': 0.028802716468366137, 'intercept': 1.6061182661748642e-21, 'meas': 'age', 'struct': 'age'}}, 'P35579': {'P00488': {'pvalues': 9.832102961775606e-30, 'intercept': 3.4711591041525823e-10, 'meas': 'P00488', 'struct': 'P00488'}, 'P01593': {'pvalues': 0.014413487094682008, 'intercept': 1.63402044324875e-10, 'meas': 'P01593', 'struct': 'P01593'}, 'P01625': {'pvalues': 8.337085571505083e-05, 'intercept': 3.1355925056814717e-12, 'meas': 'P01625', 'struct': 'P01625'}, 'P02042': {'pvalues': 0.006736272372534277, 'intercept': 1.227885661339524e-12, 'meas': 'P02042', 'struct': 'P02042'}, 'P02647': {'pvalues': 0.0009723357019966357, 'intercept': 8.262139256942002e-21, 'meas': 'P02647', 'struct': 'P02647'}, 'P02652': {'pvalues': 0.038037993015440974, 'intercept': 2.085537214101248e-14, 'meas': 'P02652', 'struct': 'P02652'}, 'P02675': {'pvalues': 0.005611262493795224, 'intercept': 2.5839576089249118e-17, 'meas': 'P02675', 'struct': 'P02675'}, 'P02765': {'pvalues': 0.00935944495270715, 'intercept': 8.749552567779645e-17, 'meas': 'P02765', 'struct': 'P02765'}, 'P04003': {'pvalues': 0.04926079109688202, 'intercept': 2.4606948098400622e-18, 'meas': 'P04003', 'struct': 'P04003'}, 'P04114': {'pvalues': 3.2324198658669216e-13, 'intercept': 0.0003707603268115372, 'meas': 'P04114', 'struct': 'P04114'}, 'P19652': {'pvalues': 0.002028641786235942, 'intercept': 4.304093568415187e-13, 'meas': 'P19652', 'struct': 'P19652'}, 'P26038': {'pvalues': 5.983961436170465e-24, 'intercept': 1.3898460102258537e-05, 'meas': 'P26038', 'struct': 'P26038'}, 'P35579': {'pvalues': 0.0, 'intercept': 0.037057999118550754, 'meas': 'P35579', 'struct': 'P35579'}, 'P60709': {'pvalues': 1.631386636839823e-55, 'intercept': 0.03887672063793005, 'meas': 'P60709', 'struct': 'P60709'}, 'P68871': {'pvalues': 0.00045131673416307024, 'intercept': 2.8551849139156222e-12, 'meas': 'P68871', 'struct': 'P68871'}, 'P69905': {'pvalues': 0.002514818066698265, 'intercept': 5.078261111497553e-13, 'meas': 'P69905', 'struct': 'P69905'}, 'age': {'pvalues': 0.0025029088095483995, 'intercept': 2.1733386280368265e-23, 'meas': 'age', 'struct': 'age'}}, 'P60709': {'P00488': {'pvalues': 1.44421471685494e-33, 'intercept': 1.3332114069129515e-10, 'meas': 'P00488', 'struct': 'P00488'}, 'P01593': {'pvalues': 0.004262940474269109, 'intercept': 2.4038078997843163e-10, 'meas': 'P01593', 'struct': 'P01593'}, 'P01625': {'pvalues': 4.59599520048663e-06, 'intercept': 2.5372006740192188e-12, 'meas': 'P01625', 'struct': 'P01625'}, 'P02042': {'pvalues': 0.002212199843978401, 'intercept': 1.739944202293939e-12, 'meas': 'P02042', 'struct': 'P02042'}, 'P02647': {'pvalues': 0.0003429443673102164, 'intercept': 9.790266514101246e-21, 'meas': 'P02647', 'struct': 'P02647'}, 'P02652': {'pvalues': 0.04315719364573844, 'intercept': 3.643047248498938e-14, 'meas': 'P02652', 'struct': 'P02652'}, 'P02675': {'pvalues': 0.0017449185610475594, 'intercept': 3.1502456710922425e-17, 'meas': 'P02675', 'struct': 'P02675'}, 'P02765': {'pvalues': 0.02381490509095526, 'intercept': 2.1290631132468804e-16, 'meas': 'P02765', 'struct': 'P02765'}, 'P02775': {'pvalues': 2.173917501298112e-62, 'intercept': 0.015169069917604142, 'meas': 'P02775', 'struct': 'P02775'}, 'P04003': {'pvalues': 0.0187773717192554, 'intercept': 3.2312515050718153e-18, 'meas': 'P04003', 'struct': 'P04003'}, 'P04114': {'pvalues': 3.2967329221467087e-13, 'intercept': 0.001035327739681495, 'meas': 'P04114', 'struct': 'P04114'}, 'P19652': {'pvalues': 0.0003846467366092959, 'intercept': 5.113301118746477e-13, 'meas': 'P19652', 'struct': 'P19652'}, 'P26038': {'pvalues': 2.9455819062777318e-24, 'intercept': 8.673685656178799e-05, 'meas': 'P26038', 'struct': 'P26038'}, 'P60709': {'pvalues': 0.0, 'intercept': 0.00012801375495884127, 'meas': 'P60709', 'struct': 'P60709'}, 'P68871': {'pvalues': 0.00015164917688733064, 'intercept': 4.224510954278933e-12, 'meas': 'P68871', 'struct': 'P68871'}, 'P69905': {'pvalues': 0.001183170621538367, 'intercept': 7.943571207680985e-13, 'meas': 'P69905', 'struct': 'P69905'}, 'age': {'pvalues': 0.003815290311934468, 'intercept': 3.5151649562062936e-23, 'meas': 'age', 'struct': 'age'}}, 'P61981': {'P00488': {'pvalues': 2.4337473215864854e-33, 'intercept': 6.055854537355088e-10, 'meas': 'P00488', 'struct': 'P00488'}, 'P01593': {'pvalues': 0.005491500305021908, 'intercept': 3.1297010391133685e-10, 'meas': 'P01593', 'struct': 'P01593'}, 'P01625': {'pvalues': 2.114402932011359e-06, 'intercept': 2.6853238189322004e-12, 'meas': 'P01625', 'struct': 'P01625'}, 'P02042': {'pvalues': 0.0024326084727596987, 'intercept': 2.2900774176126887e-12, 'meas': 'P02042', 'struct': 'P02042'}, 'P02647': {'pvalues': 0.0006486188275904695, 'intercept': 1.8079575750341032e-20, 'meas': 'P02647', 'struct': 'P02647'}, 'P02675': {'pvalues': 0.001235918551089363, 'intercept': 3.5921594765772304e-17, 'meas': 'P02675', 'struct': 'P02675'}, 'P04003': {'pvalues': 0.026635836258045168, 'intercept': 4.520443819352636e-18, 'meas': 'P04003', 'struct': 'P04003'}, 'P04114': {'pvalues': 1.720465255801305e-13, 'intercept': 0.0014196275439854683, 'meas': 'P04114', 'struct': 'P04114'}, 'P19652': {'pvalues': 0.0003401544649953554, 'intercept': 6.518012336149941e-13, 'meas': 'P19652', 'struct': 'P19652'}, 'P26038': {'pvalues': 4.4572954562674963e-23, 'intercept': 0.000279222787635662, 'meas': 'P26038', 'struct': 'P26038'}, 'P61981': {'pvalues': 0.0, 'intercept': 0.03728605492566873, 'meas': 'P61981', 'struct': 'P61981'}, 'P68871': {'pvalues': 0.0002455638086812703, 'intercept': 6.483122177851989e-12, 'meas': 'P68871', 'struct': 'P68871'}, 'P69905': {'pvalues': 0.0025196445927124153, 'intercept': 1.253360163715135e-12, 'meas': 'P69905', 'struct': 'P69905'}, 'age': {'pvalues': 0.003381484403775964, 'intercept': 3.2509384900937726e-23, 'meas': 'age', 'struct': 'age'}}, 'P68871': {'P01008': {'pvalues': 0.003276515417508077, 'intercept': 3.860038717220081e-10, 'meas': 'P01008', 'struct': 'P01008'}, 'P01009': {'pvalues': 0.003932355445423039, 'intercept': 8.953562329049339e-11, 'meas': 'P01009', 'struct': 'P01009'}, 'P01011': {'pvalues': 0.009214526992306184, 'intercept': 2.434256476489483e-13, 'meas': 'P01011', 'struct': 'P01011'}, 'P01023': {'pvalues': 0.0086462336041908, 'intercept': 3.022294268793792e-15, 'meas': 'P01023', 'struct': 'P01023'}, 'P01024': {'pvalues': 0.004388825302818476, 'intercept': 1.3946079668329598e-09, 'meas': 'P01024', 'struct': 'P01024'}, 'P01593': {'pvalues': 0.0018837825850367992, 'intercept': 0.001714561571890567, 'meas': 'P01593', 'struct': 'P01593'}, 'P01625': {'pvalues': 6.796668770988082e-05, 'intercept': 0.0016888989083624687, 'meas': 'P01625', 'struct': 'P01625'}, 'P01859': {'pvalues': 0.014423869658906508, 'intercept': 7.732911492755949e-08, 'meas': 'P01859', 'struct': 'P01859'}, 'P02647': {'pvalues': 0.0008334079505474149, 'intercept': 4.0605560104481497e-10, 'meas': 'P02647', 'struct': 'P02647'}, 'P02652': {'pvalues': 0.010061365708621145, 'intercept': 2.5258844508624294e-06, 'meas': 'P02652', 'struct': 'P02652'}, 'P02675': {'pvalues': 1.2283640069701177e-05, 'intercept': 4.2589760102343163e-07, 'meas': 'P02675', 'struct': 'P02675'}, 'P02760': {'pvalues': 0.002899794067390977, 'intercept': 3.808829736763196e-08, 'meas': 'P02760', 'struct': 'P02760'}, 'P02763': {'pvalues': 6.233718099397084e-05, 'intercept': 1.4618274266637233e-06, 'meas': 'P02763', 'struct': 'P02763'}, 'P02765': {'pvalues': 0.000559443019136244, 'intercept': 2.995585884580795e-07, 'meas': 'P02765', 'struct': 'P02765'}, 'P02766': {'pvalues': 0.017770779418703954, 'intercept': 5.254444336780365e-07, 'meas': 'P02766', 'struct': 'P02766'}, 'P02768': {'pvalues': 0.0005169842255670587, 'intercept': 3.001900437195298e-17, 'meas': 'P02768', 'struct': 'P02768'}, 'P02787': {'pvalues': 0.008744260999229219, 'intercept': 4.063593474272677e-10, 'meas': 'P02787', 'struct': 'P02787'}, 'P04003': {'pvalues': 0.0011727340354166648, 'intercept': 9.141623712916208e-09, 'meas': 'P04003', 'struct': 'P04003'}, 'P04196': {'pvalues': 0.0009429266834373014, 'intercept': 7.858186819411391e-07, 'meas': 'P04196', 'struct': 'P04196'}, 'P04220': {'pvalues': 0.02862950668034183, 'intercept': 5.393240482682772e-13, 'meas': 'P04220', 'struct': 'P04220'}, 'P08603': {'pvalues': 0.002931323417169792, 'intercept': 1.637909088968049e-10, 'meas': 'P08603', 'struct': 'P08603'}, 'P13671': {'pvalues': 0.0008676575108195979, 'intercept': 1.6765118387729514e-05, 'meas': 'P13671', 'struct': 'P13671'}, 'P19652': {'pvalues': 6.249655171935366e-08, 'intercept': 0.0018403899159634767, 'meas': 'P19652', 'struct': 'P19652'}, 'P22792': {'pvalues': 0.008385062780760658, 'intercept': 3.56523021491425e-06, 'meas': 'P22792', 'struct': 'P22792'}, 'P69905': {'pvalues': 2.470003361346885e-31, 'intercept': 0.041352374131938686, 'meas': 'P69905', 'struct': 'P69905'}}, 'P69905': {'P00739': {'pvalues': 0.026511132695574636, 'intercept': 1.7707220410650336e-09, 'meas': 'P00739', 'struct': 'P00739'}, 'P01008': {'pvalues': 0.001017615070700806, 'intercept': 3.030425090139995e-09, 'meas': 'P01008', 'struct': 'P01008'}, 'P01009': {'pvalues': 0.0015449723602026584, 'intercept': 6.627695025858004e-10, 'meas': 'P01009', 'struct': 'P01009'}, 'P01011': {'pvalues': 0.00492925274932723, 'intercept': 1.779140807596446e-12, 'meas': 'P01011', 'struct': 'P01011'}, 'P01023': {'pvalues': 0.0060434492507372385, 'intercept': 2.1294651819478593e-14, 'meas': 'P01023', 'struct': 'P01023'}, 'P01024': {'pvalues': 0.0028832692476821273, 'intercept': 7.677935785047442e-09, 'meas': 'P01024', 'struct': 'P01024'}, 'P01593': {'pvalues': 0.005154933096911053, 'intercept': 0.002162350326968964, 'meas': 'P01593', 'struct': 'P01593'}, 'P01625': {'pvalues': 0.0011150404521330665, 'intercept': 0.0013241043075406175, 'meas': 'P01625', 'struct': 'P01625'}, 'P01859': {'pvalues': 0.03793438194300203, 'intercept': 1.272110070628693e-07, 'meas': 'P01859', 'struct': 'P01859'}, 'P02647': {'pvalues': 0.002799903904520297, 'intercept': 1.2763488125395823e-09, 'meas': 'P02647', 'struct': 'P02647'}, 'P02652': {'pvalues': 0.0062284084589883, 'intercept': 1.038843669478067e-05, 'meas': 'P02652', 'struct': 'P02652'}, 'P02675': {'pvalues': 0.0008239313074531799, 'intercept': 4.850752923746661e-07, 'meas': 'P02675', 'struct': 'P02675'}, 'P02760': {'pvalues': 0.0064712390997137435, 'intercept': 9.722178584765644e-08, 'meas': 'P02760', 'struct': 'P02760'}, 'P02763': {'pvalues': 3.7885579886427004e-05, 'intercept': 6.992512474022762e-06, 'meas': 'P02763', 'struct': 'P02763'}, 'P02765': {'pvalues': 0.00019130331405074419, 'intercept': 1.8164946229383015e-06, 'meas': 'P02765', 'struct': 'P02765'}, 'P02766': {'pvalues': 0.026522117746239856, 'intercept': 1.2118268013830549e-06, 'meas': 'P02766', 'struct': 'P02766'}, 'P02768': {'pvalues': 0.0015720436936730402, 'intercept': 2.1096938289870126e-16, 'meas': 'P02768', 'struct': 'P02768'}, 'P02787': {'pvalues': 0.004427910123592454, 'intercept': 2.6265201425625563e-09, 'meas': 'P02787', 'struct': 'P02787'}, 'P04003': {'pvalues': 0.0026886048117952003, 'intercept': 2.789341811832213e-08, 'meas': 'P04003', 'struct': 'P04003'}, 'P04196': {'pvalues': 0.0015313385884017222, 'intercept': 2.2884280482054365e-06, 'meas': 'P04196', 'struct': 'P04196'}, 'P04220': {'pvalues': 0.04453083254041641, 'intercept': 1.996123294623957e-12, 'meas': 'P04220', 'struct': 'P04220'}, 'P08603': {'pvalues': 0.0033991956489866962, 'intercept': 7.559862720930112e-10, 'meas': 'P08603', 'struct': 'P08603'}, 'P13671': {'pvalues': 0.0008788507986897372, 'intercept': 5.157804068050688e-05, 'meas': 'P13671', 'struct': 'P13671'}, 'P19652': {'pvalues': 1.1447602205082009e-06, 'intercept': 0.002941447974786586, 'meas': 'P19652', 'struct': 'P19652'}, 'P22792': {'pvalues': 0.017478223154961378, 'intercept': 6.376901115793194e-06, 'meas': 'P22792', 'struct': 'P22792'}}, 'Q08380': {'O43866': {'pvalues': 0.0033109729595429335, 'intercept': 5.654479293959589e-07, 'meas': 'O43866', 'struct': 'O43866'}, 'P00450': {'pvalues': 0.022978739532916192, 'intercept': 8.197540549704851e-08, 'meas': 'P00450', 'struct': 'P00450'}, 'P01023': {'pvalues': 0.001246971266591927, 'intercept': 3.071911646140135e-12, 'meas': 'P01023', 'struct': 'P01023'}, 'P01593': {'pvalues': 0.0027552326035093838, 'intercept': 0.015159415530473883, 'meas': 'P01593', 'struct': 'P01593'}, 'P01597': {'pvalues': 0.015812940281318202, 'intercept': 0.01006192095701837, 'meas': 'P01597', 'struct': 'P01597'}, 'P01625': {'pvalues': 0.013957100090648019, 'intercept': 0.0019462221717082727, 'meas': 'P01625', 'struct': 'P01625'}, 'P01781': {'pvalues': 0.043769454335907516, 'intercept': 0.0022535818638415588, 'meas': 'P01781', 'struct': 'P01781'}, 'P02768': {'pvalues': 0.02340295136942349, 'intercept': 8.5035585327997e-15, 'meas': 'P02768', 'struct': 'P02768'}, 'P04003': {'pvalues': 0.0007970592955350072, 'intercept': 1.4543337486598124e-06, 'meas': 'P04003', 'struct': 'P04003'}, 'P04220': {'pvalues': 0.0015972170682920827, 'intercept': 6.465413008983199e-10, 'meas': 'P04220', 'struct': 'P04220'}, 'Q08380': {'pvalues': 0.0, 'intercept': 2.0610655095408146e-07, 'meas': 'Q08380', 'struct': 'Q08380'}}, 'age': {'A6NNI4': {'pvalues': 0.0047855914137163325, 'intercept': 0.0006559936854487043, 'meas': 'A6NNI4', 'struct': 'A6NNI4'}, 'O43866': {'pvalues': 0.0028145461007360816, 'intercept': 0.00042375166521909616, 'meas': 'O43866', 'struct': 'O43866'}, 'P00488': {'pvalues': 0.04717648643066142, 'intercept': 0.00031062103856171265, 'meas': 'P00488', 'struct': 'P00488'}, 'P00739': {'pvalues': 0.004801937951198258, 'intercept': 0.00014109600214513442, 'meas': 'P00739', 'struct': 'P00739'}, 'P01011': {'pvalues': 0.011130509643542544, 'intercept': 3.4575909600429186e-07, 'meas': 'P01011', 'struct': 'P01011'}, 'P01024': {'pvalues': 0.0013295700406153587, 'intercept': 0.00035537180868357, 'meas': 'P01024', 'struct': 'P01024'}, 'P01031': {'pvalues': 5.547049604463122e-05, 'intercept': 0.004541113995040925, 'meas': 'P01031', 'struct': 'P01031'}, 'P01859': {'pvalues': 0.00019321020907071444, 'intercept': 0.013161864652080602, 'meas': 'P01859', 'struct': 'P01859'}, 'P02745': {'pvalues': 5.104166187912821e-05, 'intercept': 0.016147550643789813, 'meas': 'P02745', 'struct': 'P02745'}, 'P02760': {'pvalues': 0.010194955746277068, 'intercept': 0.0005449357045223306, 'meas': 'P02760', 'struct': 'P02760'}, 'P02766': {'pvalues': 0.006497587632252962, 'intercept': 0.0057801635699156004, 'meas': 'P02766', 'struct': 'P02766'}, 'P02775': {'pvalues': 0.003555865477034029, 'intercept': 0.0007122242791847014, 'meas': 'P02775', 'struct': 'P02775'}, 'P02787': {'pvalues': 0.02429797621879865, 'intercept': 2.3709409540053443e-05, 'meas': 'P02787', 'struct': 'P02787'}, 'P02790': {'pvalues': 0.00024371650317636884, 'intercept': 0.0005930778169605572, 'meas': 'P02790', 'struct': 'P02790'}, 'P04196': {'pvalues': 0.004441797394373833, 'intercept': 0.0038924006436415744, 'meas': 'P04196', 'struct': 'P04196'}, 'P04220': {'pvalues': 0.03135199244211606, 'intercept': 3.534911616807495e-07, 'meas': 'P04220', 'struct': 'P04220'}, 'P08603': {'pvalues': 0.00018410494991858128, 'intercept': 0.0002512004684364316, 'meas': 'P08603', 'struct': 'P08603'}, 'P26038': {'pvalues': 0.028802716468366216, 'intercept': 0.00041325419158541886, 'meas': 'P26038', 'struct': 'P26038'}, 'P35579': {'pvalues': 0.0025029088095484364, 'intercept': 0.0005002738055424137, 'meas': 'P35579', 'struct': 'P35579'}, 'P60709': {'pvalues': 0.0038152903119344534, 'intercept': 0.0005159240886589237, 'meas': 'P60709', 'struct': 'P60709'}, 'P61981': {'pvalues': 0.003381484403775972, 'intercept': 0.00039109655222307327, 'meas': 'P61981', 'struct': 'P61981'}, 'age': {'pvalues': 0.0, 'intercept': 8.906486965321679e-05, 'meas': 'age', 'struct': 'age'}}}\n",
      "/media/g/nimb_tmp/projects/hoshinolab_proteomics_age/stats_src/stats/anova/anova_significant_features.json\n",
      "NOT freesurfer structures:  ['P00488', 'P01593', 'P01625', 'P02042', 'P02647', 'P02652', 'P02675', 'P02763', 'P02765', 'P04003', 'P04114', 'P19652', 'P26038', 'P68871', 'P69905', 'age', 'P00450', 'P00739', 'P01023', 'P01024', 'P01031', 'P01859', 'P01876', 'P02647', 'P02675', 'P02745', 'P02768', 'P04003', 'P04196', 'P04220', 'P08603', 'P19652', 'Q08380', 'age', 'O43866', 'P00450', 'P00739', 'P01008', 'P01009', 'P01011', 'P01023', 'P01024', 'P01031', 'P01625', 'P01859', 'P01876', 'P02647', 'P02675', 'P02760', 'P02763', 'P02765', 'P02766', 'P02768', 'P02787', 'P02790', 'P04003', 'P04196', 'P04220', 'P08603', 'P22792', 'Q08380', 'A6NNI4', 'P01023', 'P01593', 'P01597', 'P01625', 'P02042', 'P02647', 'P02652', 'P02675', 'P02760', 'P02763', 'P02765', 'P02768', 'P02775', 'P04003', 'P04196', 'P13671', 'P19652', 'P35579', 'P60709', 'P61981', 'P68871', 'P69905', 'age', 'O43866', 'P00450', 'P00739', 'P01008', 'P01009', 'P01011', 'P01023', 'P01024', 'P01031', 'P01859', 'P01876', 'P02042', 'P02647', 'P02652', 'P02745', 'P02760', 'P02763', 'P02768', 'P02787', 'P02790', 'P04003', 'P04196', 'P04220', 'P08603', 'P13671', 'P19652', 'P69905', 'age', 'P00450', 'P00739', 'P01009', 'P01011', 'P01023', 'P01024', 'P01031', 'P01781', 'P01859', 'P01876', 'P02042', 'P02647', 'P02675', 'P02768', 'P02790', 'P08603', 'P22792', 'P00739', 'P01011', 'P01023', 'P01024', 'P01031', 'P01859', 'P01876', 'P02647', 'P02675', 'P02768', 'P08603', 'P00739', 'P01011', 'P01023', 'P01876', 'P02745', 'P02765', 'P02768', 'P04003', 'P04220', 'age', 'P00739', 'P01008', 'P01009', 'P01011', 'P01023', 'P01593', 'P01876', 'P02768', 'P02787', 'P02790', 'P04220', 'P04275', 'P08603', 'O43866', 'P00450', 'P00739', 'P01008', 'P01009', 'P01011', 'P01023', 'P01024', 'P01876', 'P02042', 'P02647', 'P02675', 'P02745', 'P02765', 'P02766', 'P02768', 'P02787', 'P02790', 'P04003', 'P04220', 'P08603', 'P68871', 'P69905', 'age', 'O43866', 'P00450', 'P00739', 'P01008', 'P01009', 'P01011', 'P01023', 'P01024', 'P01031', 'P01781', 'P01859', 'P01876', 'P02647', 'P02652', 'P02675', 'P02745', 'P02760', 'P02763', 'P02768', 'P02787', 'P02790', 'P04003', 'P04220', 'P08603', 'age', 'O43866', 'P00450', 'P01023', 'P01024', 'P01031', 'P01625', 'P01781', 'P01859', 'P02042', 'P02647', 'P02675', 'P02760', 'P02768', 'P04003', 'P04196', 'P04220', 'P13671', 'P19652', 'P22792', 'P68871', 'P69905', 'Q08380', 'O43866', 'P00450', 'P01023', 'P01024', 'P01031', 'P01593', 'P01597', 'P01625', 'P01781', 'P01859', 'P01876', 'P02647', 'P02675', 'P02760', 'P02768', 'P04003', 'P04196', 'P04220', 'P08603', 'P13671', 'P19652', 'P22792', 'Q08380', 'A6NNI4', 'O43866', 'P00450', 'P01023', 'P01024', 'P01031', 'P01625', 'P01781', 'P01859', 'P02042', 'P02647', 'P02675', 'P02760', 'P02763', 'P02768', 'P02775', 'P04003', 'P04196', 'P04220', 'P13671', 'P19652', 'P22792', 'P60709', 'P61981', 'P68871', 'P69905', 'Q08380', 'P00450', 'P00739', 'P01008', 'P01009', 'P01023', 'P01597', 'P01781', 'P01859', 'P01876', 'P02652', 'P02675', 'P02763', 'P02768', 'P02787', 'P04220', 'P00450', 'P00739', 'P01009', 'P01023', 'P01597', 'P01764', 'P01767', 'P01781', 'P01859', 'P01876', 'P02652', 'P02768', 'P04220', 'O43866', 'P00450', 'P00739', 'P01008', 'P01009', 'P01023', 'P01024', 'P01031', 'P01593', 'P01597', 'P01625', 'P01764', 'P01767', 'P01859', 'P01876', 'P02652', 'P02675', 'P02768', 'P02787', 'P04003', 'P04220', 'P08603', 'Q08380', 'P01833', 'O43866', 'P00450', 'P00739', 'P01008', 'P01009', 'P01011', 'P01023', 'P01024', 'P01031', 'P01781', 'P01859', 'P01876', 'P02042', 'P02647', 'P02652', 'P02675', 'P02745', 'P02760', 'P02763', 'P02765', 'P02766', 'P02768', 'P02787', 'P02790', 'P04003', 'P04196', 'P04220', 'P04275', 'P08603', 'P13671', 'P19652', 'P22792', 'P68871', 'P69905', 'age', 'O43866', 'P00450', 'P00739', 'P01008', 'P01009', 'P01011', 'P01023', 'P01024', 'P01031', 'P01597', 'P01859', 'P01876', 'P02647', 'P02675', 'P02745', 'P02760', 'P02763', 'P02768', 'P02787', 'P02790', 'P04003', 'P04196', 'P04220', 'P08603', 'age', 'P00739', 'P01008', 'P01009', 'P01011', 'P01023', 'P01024', 'P01593', 'P01625', 'P01859', 'P02647', 'P02652', 'P02675', 'P02760', 'P02763', 'P02765', 'P02766', 'P02768', 'P02787', 'P04003', 'P04196', 'P04220', 'P08603', 'P13671', 'P19652', 'P22792', 'A6NNI4', 'O43866', 'P00450', 'P00488', 'P00739', 'P01008', 'P01009', 'P01011', 'P01023', 'P01024', 'P01031', 'P01876', 'P02042', 'P02647', 'P02765', 'P02768', 'P02775', 'P02787', 'P02790', 'P04003', 'P04220', 'P08603', 'P35579', 'P60709', 'P61981', 'P69905', 'P00450', 'P00739', 'P01008', 'P01009', 'P01011', 'P01023', 'P01024', 'P01031', 'P01781', 'P01859', 'P02042', 'P02647', 'P02652', 'P02675', 'P02760', 'P02763', 'P02765', 'P02766', 'P02768', 'P02787', 'P02790', 'P04196', 'P08603', 'P13671', 'P19652', 'P22792', 'P68871', 'P69905', 'O43866', 'P00450', 'P01008', 'P01009', 'P01011', 'P01023', 'P01024', 'P01031', 'P01593', 'P01781', 'P01859', 'P01876', 'P02042', 'P02647', 'P02652', 'P02760', 'P02763', 'P02765', 'P02766', 'P02768', 'P02787', 'P02790', 'P04003', 'P04196', 'P04220', 'P08603', 'P22792', 'P69905', 'O43866', 'P00739', 'P01011', 'P01024', 'P01031', 'P01859', 'P01876', 'P02745', 'P02790', 'P04003', 'P04196', 'P04220', 'P08603', 'age', 'P00450', 'P00739', 'P01008', 'P01009', 'P01011', 'P01023', 'P01024', 'P01031', 'P01593', 'P01597', 'P01625', 'P01859', 'P01876', 'P02042', 'P02647', 'P02675', 'P02760', 'P02763', 'P02765', 'P02766', 'P02768', 'P02787', 'P02790', 'P04003', 'P04220', 'P08603', 'P22792', 'P68871', 'P69905', 'age', 'P00450', 'P00739', 'P01008', 'P01009', 'P01011', 'P01023', 'P01024', 'P01031', 'P01625', 'P01859', 'P01876', 'P02042', 'P02647', 'P02675', 'P02760', 'P02765', 'P02766', 'P02768', 'P02787', 'P02790', 'P04003', 'P04196', 'P08603', 'P22792', 'P68871', 'P69905', 'P00450', 'P01008', 'P01009', 'P01011', 'P01024', 'P01859', 'P02042', 'P02647', 'P02675', 'P02760', 'P02763', 'P02766', 'P02768', 'P02787', 'P02790', 'P04196', 'P08603', 'P13671', 'P19652', 'P68871', 'P69905', 'P00450', 'P01008', 'P01009', 'P01011', 'P01024', 'P01859', 'P02042', 'P02647', 'P02652', 'P02675', 'P02760', 'P02763', 'P02765', 'P02768', 'P02787', 'P02790', 'P04196', 'P08603', 'P13671', 'P19652', 'P68871', 'P69905', 'age', 'O43866', 'P00739', 'P01023', 'P01876', 'P02768', 'P04003', 'P13671', 'P00488', 'P01593', 'P01625', 'P02042', 'P02647', 'P02652', 'P02675', 'P02765', 'P04003', 'P04114', 'P19652', 'P26038', 'P60709', 'P68871', 'P69905', 'age', 'P02766', 'P00450', 'P00739', 'P01009', 'P01011', 'P01023', 'P01024', 'P01031', 'P01781', 'P01859', 'P01876', 'P02042', 'P02647', 'P02675', 'P02768', 'P04220', 'P08603', 'P22792', 'P68871', 'P69905', 'age', 'P00450', 'P00739', 'P01008', 'P01009', 'P01011', 'P01023', 'P01024', 'P01031', 'P01876', 'P02647', 'P02675', 'P02745', 'P02765', 'P02768', 'P02787', 'P02790', 'P04220', 'P08603', 'P22792', 'age', 'O43866', 'P00450', 'P00739', 'P01011', 'P01023', 'P01024', 'P01031', 'P01859', 'P01876', 'P02042', 'P02647', 'P02675', 'P02745', 'P02760', 'P02763', 'P02768', 'P04003', 'P04196', 'P04220', 'P08603', 'P13671', 'P22792', 'P68871', 'P69905', 'Q08380', 'P01625', 'P02647', 'P02652', 'P02675', 'P04114', 'O43866', 'P00450', 'P00739', 'P01008', 'P01009', 'P01011', 'P01023', 'P01024', 'P01031', 'P01593', 'P01597', 'P01625', 'P01859', 'P01876', 'P02042', 'P02647', 'P02652', 'P02675', 'P02745', 'P02760', 'P02763', 'P02765', 'P02766', 'P02768', 'P02787', 'P02790', 'P04003', 'P04196', 'P04220', 'P08603', 'P22792', 'P68871', 'P69905', 'age', 'P00450', 'P00739', 'P01011', 'P01023', 'P01024', 'P01031', 'P01597', 'P01876', 'P02042', 'P02647', 'P02675', 'P02745', 'P02760', 'P02768', 'P02787', 'P02790', 'P04196', 'P04220', 'P08603', 'P69905', 'Q08380', 'age', 'O43866', 'P01023', 'P01031', 'P01593', 'P01597', 'P01625', 'P01859', 'P02647', 'P02675', 'P02760', 'P02768', 'P04003', 'P04196', 'P04220', 'P04275', 'P13671', 'P19652', 'P22792', 'O43866', 'P00450', 'P00739', 'P01008', 'P01009', 'P01011', 'P01023', 'P01876', 'P02042', 'P02647', 'P02745', 'P02765', 'P02768', 'P04003', 'P04220', 'P08603', 'P69905', 'age', 'P00450', 'P00739', 'P01008', 'P01009', 'P01011', 'P01023', 'P01024', 'P01031', 'P01593', 'P01597', 'P01625', 'P01859', 'P02042', 'P02647', 'P02652', 'P02675', 'P02760', 'P02763', 'P02765', 'P02766', 'P02768', 'P02787', 'P02790', 'P04003', 'P04196', 'P04220', 'P08603', 'P22792', 'P68871', 'P69905', 'O43866', 'P00450', 'P00739', 'P01008', 'P01009', 'P01011', 'P01023', 'P01024', 'P01031', 'P01593', 'P01625', 'P01859', 'P02042', 'P02647', 'P02652', 'P02675', 'P02760', 'P02763', 'P02765', 'P02766', 'P02768', 'P02787', 'P02790', 'P04003', 'P04196', 'P04220', 'P08603', 'P13671', 'P19652', 'P22792', 'P68871', 'P69905', 'P00450', 'P01008', 'P01011', 'P01023', 'P01024', 'P01031', 'P01625', 'P01859', 'P02042', 'P02647', 'P02652', 'P02675', 'P02760', 'P02763', 'P02768', 'P02787', 'P02790', 'P04003', 'P04196', 'P04220', 'P08603', 'P13671', 'P19652', 'P22792', 'P68871', 'P69905', 'A6NNI4', 'P00488', 'P01625', 'P02042', 'P02647', 'P02652', 'P02675', 'P02763', 'P02765', 'P02766', 'P02768', 'P02775', 'P04196', 'P19652', 'P26038', 'P35579', 'P60709', 'P61981', 'P68871', 'P69905', 'age', 'P00488', 'P01593', 'P01625', 'P02042', 'P02647', 'P02652', 'P02675', 'P02765', 'P04003', 'P04114', 'P19652', 'P26038', 'P35579', 'P60709', 'P68871', 'P69905', 'age', 'P00488', 'P01593', 'P01625', 'P02042', 'P02647', 'P02652', 'P02675', 'P02765', 'P02775', 'P04003', 'P04114', 'P19652', 'P26038', 'P60709', 'P68871', 'P69905', 'age', 'P00488', 'P01593', 'P01625', 'P02042', 'P02647', 'P02675', 'P04003', 'P04114', 'P19652', 'P26038', 'P61981', 'P68871', 'P69905', 'age', 'P01008', 'P01009', 'P01011', 'P01023', 'P01024', 'P01593', 'P01625', 'P01859', 'P02647', 'P02652', 'P02675', 'P02760', 'P02763', 'P02765', 'P02766', 'P02768', 'P02787', 'P04003', 'P04196', 'P04220', 'P08603', 'P13671', 'P19652', 'P22792', 'P69905', 'P00739', 'P01008', 'P01009', 'P01011', 'P01023', 'P01024', 'P01593', 'P01625', 'P01859', 'P02647', 'P02652', 'P02675', 'P02760', 'P02763', 'P02765', 'P02766', 'P02768', 'P02787', 'P04003', 'P04196', 'P04220', 'P08603', 'P13671', 'P19652', 'P22792', 'O43866', 'P00450', 'P01023', 'P01593', 'P01597', 'P01625', 'P01781', 'P02768', 'P04003', 'P04220', 'Q08380', 'A6NNI4', 'O43866', 'P00488', 'P00739', 'P01011', 'P01024', 'P01031', 'P01859', 'P02745', 'P02760', 'P02766', 'P02775', 'P02787', 'P02790', 'P04196', 'P04220', 'P08603', 'P26038', 'P35579', 'P60709', 'P61981', 'age']\n"
     ]
    }
   ],
   "source": [
    "# DONE: STEP 1 ANOVA\n",
    "# DONE: STEP 2 Simple Linear Regression\n",
    "\n",
    "features = cols_X # [i for i in cols_X if i not in cols_with_zeros+[col2rm,]]\n",
    "vars_glm = cols_X #features#[i for i in vars_glm if i not in cols_with_zeros+[col2rm,]]\n",
    "\n",
    "# for ANOVA zeros must be removed\n",
    "\n",
    "sig_cols = ANOVA_do(df_final_grid,\n",
    "                    vars_glm, features,\n",
    "                    varia.get_dir(stats_paths['anova']),\n",
    "                    p_thresh = 0.05, intercept_thresh = 0.05).sig_cols\n",
    "Make_Plot_Regression(df_final_grid,\n",
    "                    sig_cols, project_vars['group_col'],\n",
    "                    varia.get_dir(stats_paths['simp_lin_reg_dir']))\n",
    "#Make_plot_group_difference(df_final_grid,\n",
    "#                            sig_cols, project_vars['group_col'], groups,\n",
    "\n",
    "#                            varia.get_dir(stats_paths['anova']))"
   ]
  },
  {
   "cell_type": "code",
   "execution_count": 95,
   "metadata": {},
   "outputs": [
    {
     "name": "stdout",
     "output_type": "stream",
     "text": [
      "    reading file: /media/g/nimb_tmp/projects/hoshinolab_proteomics_age/stats_src/stats/stats_src.xlsx,\n",
      "        sheet: 0\n",
      "    reading file: /media/g/nimb_tmp/projects/hoshinolab_proteomics_age/stats_src/stats/grid.csv,\n",
      "        sheet: 0\n"
     ]
    }
   ],
   "source": [
    "# DONE: STEP 3 PCA features extract\n",
    "\n",
    "df_user_stats, df_final_grid,\\\n",
    "            df_adjusted,\\\n",
    "            cols_X,\\\n",
    "            groups = MakeGrid(project_vars,\n",
    "                                nimb_stats).grid()"
   ]
  },
  {
   "cell_type": "code",
   "execution_count": 96,
   "metadata": {},
   "outputs": [
    {
     "name": "stdout",
     "output_type": "stream",
     "text": [
      "y_labeled predicted target is: ['group'], EXCLUDED: age, group parameter\n"
     ]
    }
   ],
   "source": [
    "col2rm = [i for i in df_final_grid.columns if 'CON' in i]+['Unnamed: 0']\n",
    "df_final_grid.drop(columns=col2rm, inplace=True)\n",
    "df_adjusted.drop(columns=col2rm, inplace=True)\n",
    "cols_X.remove('Unnamed: 0')\n",
    "cols_X.remove('CON_00708398_1')\n",
    "cols_X.remove('CON_LysC')\n",
    "cols_X.remove('CON_Trypsin')\n",
    "\n",
    "# group param is removed to exclude from prediction algo\n",
    "group = 'all'\n",
    "predicted_target = project_vars[\"prediction_target\"]\n",
    "col2rm = project_vars['group_param']\n",
    "df_user_stats.drop(columns=[col2rm], inplace=True)\n",
    "df_final_grid.drop(columns=[col2rm], inplace=True)\n",
    "df_adjusted.drop(columns=[col2rm], inplace=True)\n",
    "cols_X.remove(col2rm)\n",
    "print(f'y_labeled predicted target is: {predicted_target}, EXCLUDED: {col2rm}, group parameter')"
   ]
  },
  {
   "cell_type": "code",
   "execution_count": 104,
   "metadata": {},
   "outputs": [
    {
     "name": "stdout",
     "output_type": "stream",
     "text": [
      "PowerTransformer()\n",
      "    nr of features to analyze by PCA: 50\n",
      "    PCA chose 18 components and 16 features \n",
      "P13671 not defined\n",
      "P60709 not defined\n",
      "O43866 not defined\n",
      "P22792 not defined\n",
      "P02745 not defined\n",
      "P02776 not defined\n",
      "P01876 not defined\n",
      "Q08380 not defined\n",
      "P02042 not defined\n",
      "P61981 not defined\n",
      "A6NNI4 not defined\n",
      "P26038 not defined\n",
      "P02765 not defined\n",
      "P00488 not defined\n",
      "P01593 not defined\n",
      "P02775 not defined\n"
     ]
    },
    {
     "data": {
      "image/png": "[encoded data removed]",
      "text/plain": [
       "<Figure size 432x288 with 1 Axes>"
      ]
     },
     "metadata": {
      "needs_background": "light"
     },
     "output_type": "display_data"
    }
   ],
   "source": [
    "df_X, y_labeled, X_scaled, df_clin_group = get_X_data_per_group_all_groups(group, predicted_target)\n",
    "\n",
    "# ================================\n",
    "use_features = True\n",
    "feature_algo = \"PCA\"\n",
    "atlas = \"DK\"\n",
    "lang='EN'\n",
    "features = cols_X #specific for the hoshinolab_proteomics_age project\n",
    "pca_threshold = 0.95#nimb_stats[\"STATS_PARAMS\"][\"prediction_vars\"]['pca_threshold']\n",
    "df_with_features, features, features_rfe_and_rank_df = get_features_df_per_group(group, X_scaled, y_labeled,\n",
    "                                                                                 df_X, pca_threshold, use_features)"
   ]
  },
  {
   "cell_type": "code",
   "execution_count": 99,
   "metadata": {},
   "outputs": [
    {
     "name": "stdout",
     "output_type": "stream",
     "text": [
      "    analysing 16 features for parameter: P13671\n",
      "    analysing 16 features for parameter: P60709\n",
      "    analysing 16 features for parameter: O43866\n",
      "    analysing 16 features for parameter: P22792\n",
      "    analysing 16 features for parameter: P02745\n",
      "    analysing 16 features for parameter: P02776\n",
      "    analysing 16 features for parameter: P01876\n",
      "    analysing 16 features for parameter: Q08380\n",
      "    analysing 16 features for parameter: P02042\n",
      "    analysing 16 features for parameter: P61981\n",
      "    analysing 16 features for parameter: A6NNI4\n",
      "    analysing 16 features for parameter: P26038\n",
      "    analysing 16 features for parameter: P02765\n",
      "    analysing 16 features for parameter: P00488\n",
      "    analysing 16 features for parameter: P01593\n",
      "    analysing 16 features for parameter: P02775\n",
      "{'P13671': {'P22792': {'pvalues': 2.7072120532658494e-06, 'intercept': 0.0013892976505279506, 'meas': 'P22792', 'struct': 'P22792'}, 'P02042': {'pvalues': 0.0027766536149174707, 'intercept': 0.0008298095586704787, 'meas': 'P02042', 'struct': 'P02042'}, 'P02765': {'pvalues': 4.336907232505836e-06, 'intercept': 3.9627730776048126e-05, 'meas': 'P02765', 'struct': 'P02765'}, 'P01593': {'pvalues': 0.008379802960243286, 'intercept': 0.004184454761844471, 'meas': 'P01593', 'struct': 'P01593'}}, 'P60709': {'P60709': {'pvalues': 0.0, 'intercept': 0.00012801375495884127, 'meas': 'P60709', 'struct': 'P60709'}, 'P02042': {'pvalues': 0.002212199843978401, 'intercept': 1.739944202293939e-12, 'meas': 'P02042', 'struct': 'P02042'}, 'P26038': {'pvalues': 2.9455819062777318e-24, 'intercept': 8.673685656178799e-05, 'meas': 'P26038', 'struct': 'P26038'}, 'P02765': {'pvalues': 0.02381490509095526, 'intercept': 2.1290631132468804e-16, 'meas': 'P02765', 'struct': 'P02765'}, 'P00488': {'pvalues': 1.44421471685494e-33, 'intercept': 1.3332114069129515e-10, 'meas': 'P00488', 'struct': 'P00488'}, 'P01593': {'pvalues': 0.004262940474269109, 'intercept': 2.4038078997843163e-10, 'meas': 'P01593', 'struct': 'P01593'}, 'P02775': {'pvalues': 2.173917501298112e-62, 'intercept': 0.015169069917604142, 'meas': 'P02775', 'struct': 'P02775'}}, 'O43866': {'P02745': {'pvalues': 1.2046912052459726e-05, 'intercept': 0.003696019881986191, 'meas': 'P02745', 'struct': 'P02745'}, 'P01876': {'pvalues': 0.0005124103008721048, 'intercept': 0.001061794015995595, 'meas': 'P01876', 'struct': 'P01876'}, 'Q08380': {'pvalues': 0.0033109729595429335, 'intercept': 0.0017240184819793595, 'meas': 'Q08380', 'struct': 'Q08380'}}, 'P22792': {'P13671': {'pvalues': 2.707212053265835e-06, 'intercept': 0.0023685503919474954, 'meas': 'P13671', 'struct': 'P13671'}, 'P22792': {'pvalues': 0.0, 'intercept': 1.163321638921346e-05, 'meas': 'P22792', 'struct': 'P22792'}, 'P02042': {'pvalues': 0.023001300059047984, 'intercept': 0.00024543506395968635, 'meas': 'P02042', 'struct': 'P02042'}}, 'P02745': {'O43866': {'pvalues': 1.2046912052459726e-05, 'intercept': 6.966574587759363e-05, 'meas': 'O43866', 'struct': 'O43866'}, 'P02745': {'pvalues': 0.0, 'intercept': 0.000756021062149251, 'meas': 'P02745', 'struct': 'P02745'}, 'P01876': {'pvalues': 0.000167679555141776, 'intercept': 0.00035776576913656863, 'meas': 'P01876', 'struct': 'P01876'}}, 'P01876': {'O43866': {'pvalues': 0.000512410300872101, 'intercept': 1.0191447068163461e-05, 'meas': 'O43866', 'struct': 'O43866'}, 'P02745': {'pvalues': 0.00016767955514177554, 'intercept': 0.00017276014518700152, 'meas': 'P02745', 'struct': 'P02745'}, 'P01876': {'pvalues': 0.0, 'intercept': 1.5750390875816056e-10, 'meas': 'P01876', 'struct': 'P01876'}}, 'Q08380': {'O43866': {'pvalues': 0.0033109729595429335, 'intercept': 5.654479293959589e-07, 'meas': 'O43866', 'struct': 'O43866'}, 'Q08380': {'pvalues': 0.0, 'intercept': 2.0610655095408146e-07, 'meas': 'Q08380', 'struct': 'Q08380'}, 'P01593': {'pvalues': 0.0027552326035093838, 'intercept': 0.015159415530473883, 'meas': 'P01593', 'struct': 'P01593'}}, 'P02042': {'P13671': {'pvalues': 0.002776653614917465, 'intercept': 2.128607529552818e-05, 'meas': 'P13671', 'struct': 'P13671'}, 'P22792': {'pvalues': 0.023001300059048175, 'intercept': 3.876169729581578e-06, 'meas': 'P22792', 'struct': 'P22792'}, 'P02765': {'pvalues': 0.0037709521371193867, 'intercept': 3.314262186478506e-07, 'meas': 'P02765', 'struct': 'P02765'}, 'P01593': {'pvalues': 0.0033412178159417023, 'intercept': 0.002243311186917764, 'meas': 'P01593', 'struct': 'P01593'}}, 'P61981': {'P02042': {'pvalues': 0.0024326084727596987, 'intercept': 2.2900774176126887e-12, 'meas': 'P02042', 'struct': 'P02042'}, 'P61981': {'pvalues': 0.0, 'intercept': 0.03728605492566873, 'meas': 'P61981', 'struct': 'P61981'}, 'P26038': {'pvalues': 4.4572954562674963e-23, 'intercept': 0.000279222787635662, 'meas': 'P26038', 'struct': 'P26038'}, 'P00488': {'pvalues': 2.4337473215864854e-33, 'intercept': 6.055854537355088e-10, 'meas': 'P00488', 'struct': 'P00488'}, 'P01593': {'pvalues': 0.005491500305021908, 'intercept': 3.1297010391133685e-10, 'meas': 'P01593', 'struct': 'P01593'}}, 'A6NNI4': {'P02042': {'pvalues': 0.0012490627148330346, 'intercept': 1.4858306226495008e-12, 'meas': 'P02042', 'struct': 'P02042'}, 'P26038': {'pvalues': 7.284238430709534e-24, 'intercept': 0.0001008312717932172, 'meas': 'P26038', 'struct': 'P26038'}, 'P02765': {'pvalues': 0.01869151166116117, 'intercept': 1.9829907453055191e-16, 'meas': 'P02765', 'struct': 'P02765'}, 'P00488': {'pvalues': 3.5190965550602484e-33, 'intercept': 1.9555791452004844e-10, 'meas': 'P00488', 'struct': 'P00488'}, 'P01593': {'pvalues': 0.003581578875617178, 'intercept': 2.3226991477633615e-10, 'meas': 'P01593', 'struct': 'P01593'}}, 'P26038': {'P60709': {'pvalues': 2.945581906277711e-24, 'intercept': 0.006377079078720262, 'meas': 'P60709', 'struct': 'P60709'}, 'P02042': {'pvalues': 0.00026148025127289856, 'intercept': 1.6747747426102532e-10, 'meas': 'P02042', 'struct': 'P02042'}, 'P61981': {'pvalues': 4.4572954562674e-23, 'intercept': 0.01793065647841457, 'meas': 'P61981', 'struct': 'P61981'}, 'A6NNI4': {'pvalues': 7.284238430709898e-24, 'intercept': 0.0075127182994232525, 'meas': 'A6NNI4', 'struct': 'A6NNI4'}, 'P26038': {'pvalues': 0.0, 'intercept': 2.0869030948078783e-06, 'meas': 'P26038', 'struct': 'P26038'}, 'P02765': {'pvalues': 0.0024465512441143714, 'intercept': 1.4732835310425082e-14, 'meas': 'P02765', 'struct': 'P02765'}, 'P00488': {'pvalues': 6.897743957076879e-24, 'intercept': 0.04692520280507111, 'meas': 'P00488', 'struct': 'P00488'}, 'P02775': {'pvalues': 1.8712295538760596e-23, 'intercept': 0.0020516126763248897, 'meas': 'P02775', 'struct': 'P02775'}}, 'P02765': {'P13671': {'pvalues': 4.336907232505876e-06, 'intercept': 0.018142721344495714, 'meas': 'P13671', 'struct': 'P13671'}, 'P02042': {'pvalues': 0.003770952137119415, 'intercept': 0.0050784475187136725, 'meas': 'P02042', 'struct': 'P02042'}}, 'P00488': {'P13671': {'pvalues': 0.008759830519733166, 'intercept': 3.1062029150792856e-11, 'meas': 'P13671', 'struct': 'P13671'}, 'P60709': {'pvalues': 1.44421471685494e-33, 'intercept': 5.4954657037480624e-08, 'meas': 'P60709', 'struct': 'P60709'}, 'P02042': {'pvalues': 0.0013595465329656914, 'intercept': 1.1519506344618292e-09, 'meas': 'P02042', 'struct': 'P02042'}, 'P61981': {'pvalues': 2.4337473215864505e-33, 'intercept': 2.0972635909949129e-07, 'meas': 'P61981', 'struct': 'P61981'}, 'A6NNI4': {'pvalues': 3.519096555060299e-33, 'intercept': 8.129127357737305e-08, 'meas': 'A6NNI4', 'struct': 'A6NNI4'}, 'P02765': {'pvalues': 0.016355631767895614, 'intercept': 1.0532291939215717e-13, 'meas': 'P02765', 'struct': 'P02765'}, 'P01593': {'pvalues': 0.006073318996880602, 'intercept': 7.034479395110778e-08, 'meas': 'P01593', 'struct': 'P01593'}, 'P02775': {'pvalues': 3.4498511157121435e-32, 'intercept': 1.4973710531270598e-08, 'meas': 'P02775', 'struct': 'P02775'}}, 'P01593': {'P13671': {'pvalues': 0.008379802960243333, 'intercept': 9.3470470813619e-07, 'meas': 'P13671', 'struct': 'P13671'}, 'O43866': {'pvalues': 1.8146956639893918e-08, 'intercept': 2.3966377270518776e-09, 'meas': 'O43866', 'struct': 'O43866'}, 'P22792': {'pvalues': 8.098174556849941e-06, 'intercept': 8.033352170307154e-06, 'meas': 'P22792', 'struct': 'P22792'}, 'Q08380': {'pvalues': 0.0027552326035093833, 'intercept': 2.9758862670364403e-07, 'meas': 'Q08380', 'struct': 'Q08380'}, 'P02042': {'pvalues': 0.0033412178159417274, 'intercept': 1.8899518219484824e-05, 'meas': 'P02042', 'struct': 'P02042'}}, 'P02775': {'P60709': {'pvalues': 2.173917501298112e-62, 'intercept': 0.009188445352887632, 'meas': 'P60709', 'struct': 'P60709'}, 'P02042': {'pvalues': 0.007248157532579462, 'intercept': 1.253782479572259e-12, 'meas': 'P02042', 'struct': 'P02042'}, 'P26038': {'pvalues': 1.8712295538759935e-23, 'intercept': 1.8310087492973484e-05, 'meas': 'P26038', 'struct': 'P26038'}, 'P02765': {'pvalues': 0.022517144465390847, 'intercept': 1.178215045962717e-16, 'meas': 'P02765', 'struct': 'P02765'}, 'P00488': {'pvalues': 3.449851115712193e-32, 'intercept': 2.3285650369963467e-11, 'meas': 'P00488', 'struct': 'P00488'}, 'P01593': {'pvalues': 0.01079440829901396, 'intercept': 1.567030149910251e-10, 'meas': 'P01593', 'struct': 'P01593'}}}\n",
      "/media/g/nimb_tmp/projects/hoshinolab_proteomics_age/stats_src/stats/anova/anova_significant_features.json\n",
      "NOT freesurfer structures:  ['P22792', 'P02042', 'P02765', 'P01593', 'P60709', 'P02042', 'P26038', 'P02765', 'P00488', 'P01593', 'P02775', 'P02745', 'P01876', 'Q08380', 'P13671', 'P22792', 'P02042', 'O43866', 'P02745', 'P01876', 'O43866', 'P02745', 'P01876', 'O43866', 'Q08380', 'P01593', 'P13671', 'P22792', 'P02765', 'P01593', 'P02042', 'P61981', 'P26038', 'P00488', 'P01593', 'P02042', 'P26038', 'P02765', 'P00488', 'P01593', 'P60709', 'P02042', 'P61981', 'A6NNI4', 'P26038', 'P02765', 'P00488', 'P02775', 'P13671', 'P02042', 'P13671', 'P60709', 'P02042', 'P61981', 'A6NNI4', 'P02765', 'P01593', 'P02775', 'P13671', 'O43866', 'P22792', 'Q08380', 'P02042', 'P60709', 'P02042', 'P26038', 'P02765', 'P00488', 'P01593']\n"
     ]
    }
   ],
   "source": [
    "vars_glm = features\n",
    "sig_cols = ANOVA_do(df_final_grid,\n",
    "                    vars_glm, features,\n",
    "                    varia.get_dir(stats_paths['anova']),\n",
    "                    p_thresh = 0.05, intercept_thresh = 0.05).sig_cols"
   ]
  },
  {
   "cell_type": "code",
   "execution_count": 100,
   "metadata": {},
   "outputs": [],
   "source": [
    "Make_Plot_Regression(df_final_grid,\n",
    "                    sig_cols, project_vars['group_col'],\n",
    "                    varia.get_dir(stats_paths['simp_lin_reg_dir']))"
   ]
  },
  {
   "cell_type": "code",
   "execution_count": 78,
   "metadata": {},
   "outputs": [
    {
     "name": "stdout",
     "output_type": "stream",
     "text": [
      "    reading file: /media/g/nimb_tmp/projects/hoshinolab_proteomics_age/stats_src/stats/stats_src.xlsx,\n",
      "        sheet: 0\n",
      "    reading file: /media/g/nimb_tmp/projects/hoshinolab_proteomics_age/stats_src/stats/grid.csv,\n",
      "        sheet: 0\n"
     ]
    }
   ],
   "source": [
    "# DONE: STEP 3 PCA features extract\n",
    "\n",
    "df_user_stats, df_final_grid,\\\n",
    "            df_adjusted,\\\n",
    "            cols_X,\\\n",
    "            groups = MakeGrid(project_vars,\n",
    "                                nimb_stats).grid()"
   ]
  },
  {
   "cell_type": "code",
   "execution_count": 72,
   "metadata": {},
   "outputs": [
    {
     "name": "stdout",
     "output_type": "stream",
     "text": [
      "y_labeled predicted target is: age, EXCLUDED: group, group parameter\n"
     ]
    }
   ],
   "source": [
    "col2rm = [i for i in df_final_grid.columns if 'CON' in i]+['Unnamed: 0']\n",
    "df_final_grid.drop(columns=col2rm, inplace=True)\n",
    "df_adjusted.drop(columns=col2rm, inplace=True)\n",
    "cols_X.remove('Unnamed: 0')\n",
    "cols_X.remove('CON_00708398_1')\n",
    "cols_X.remove('CON_LysC')\n",
    "cols_X.remove('CON_Trypsin')\n",
    "\n",
    "# group param is removed to exclude from prediction algo\n",
    "group = 'all'\n",
    "predicted_target = \"age\"\n",
    "col2rm = project_vars['group_col']\n",
    "df_user_stats.drop(columns=[col2rm], inplace=True)\n",
    "df_final_grid.drop(columns=[col2rm], inplace=True)\n",
    "cols_X.remove(predicted_target)\n",
    "\n",
    "print(f'y_labeled predicted target is: {predicted_target}, EXCLUDED: {col2rm}, group parameter')"
   ]
  },
  {
   "cell_type": "code",
   "execution_count": 73,
   "metadata": {},
   "outputs": [
    {
     "data": {
      "text/plain": [
       "Index(['A6NNI4', 'CON_00708398.1', 'CON_LysC', 'CON_Trypsin', 'O43866',\n",
       "       'P00450', 'P00488', 'P00739', 'P01008', 'P01009', 'P01011', 'P01023',\n",
       "       'P01024', 'P01031', 'P01593', 'P01597', 'P01625', 'P01764', 'P01767',\n",
       "       'P01781', 'P01833', 'P01859', 'P01876', 'P02042', 'P02647', 'P02652',\n",
       "       'P02675', 'P02745', 'P02760', 'P02763', 'P02765', 'P02766', 'P02768',\n",
       "       'P02775', 'P02776', 'P02787', 'P02790', 'P04003', 'P04114', 'P04196',\n",
       "       'P04220', 'P04275', 'P08603', 'P13671', 'P19652', 'P22792', 'P26038',\n",
       "       'P35579', 'P60709', 'P61981', 'P68871', 'P69905', 'Q08380', 'age'],\n",
       "      dtype='object')"
      ]
     },
     "execution_count": 73,
     "metadata": {},
     "output_type": "execute_result"
    }
   ],
   "source": [
    "df_user_stats.columns"
   ]
  },
  {
   "cell_type": "code",
   "execution_count": 67,
   "metadata": {},
   "outputs": [
    {
     "name": "stdout",
     "output_type": "stream",
     "text": [
      "PowerTransformer()\n",
      "    nr of features to analyze by PCA: 50\n"
     ]
    },
    {
     "ename": "IndexError",
     "evalue": "list index out of range",
     "output_type": "error",
     "traceback": [
      "\u001b[0;31m---------------------------------------------------------------------------\u001b[0m",
      "\u001b[0;31mIndexError\u001b[0m                                Traceback (most recent call last)",
      "\u001b[0;32m<ipython-input-67-90bd87ab2bc0>\u001b[0m in \u001b[0;36m<module>\u001b[0;34m\u001b[0m\n\u001b[1;32m      8\u001b[0m \u001b[0mfeatures\u001b[0m \u001b[0;34m=\u001b[0m \u001b[0mcols_X\u001b[0m \u001b[0;31m#specific for the hoshinolab_proteomics_age project\u001b[0m\u001b[0;34m\u001b[0m\u001b[0;34m\u001b[0m\u001b[0m\n\u001b[1;32m      9\u001b[0m \u001b[0mpca_threshold\u001b[0m \u001b[0;34m=\u001b[0m \u001b[0;36m0.95\u001b[0m\u001b[0;31m#nimb_stats[\"STATS_PARAMS\"][\"prediction_vars\"]['pca_threshold']\u001b[0m\u001b[0;34m\u001b[0m\u001b[0;34m\u001b[0m\u001b[0m\n\u001b[0;32m---> 10\u001b[0;31m df_with_features, features, features_rfe_and_rank_df = get_features_df_per_group(group, X_scaled, y_labeled,\n\u001b[0m\u001b[1;32m     11\u001b[0m                                                                                  df_X, pca_threshold)\n",
      "\u001b[0;32m<ipython-input-3-4dd580c27e95>\u001b[0m in \u001b[0;36mget_features_df_per_group\u001b[0;34m(group, X_scaled, y_labeled, df_X, pca_threshold)\u001b[0m\n\u001b[1;32m      4\u001b[0m         \u001b[0;32mif\u001b[0m \u001b[0muse_features\u001b[0m\u001b[0;34m:\u001b[0m\u001b[0;34m\u001b[0m\u001b[0;34m\u001b[0m\u001b[0m\n\u001b[1;32m      5\u001b[0m             \u001b[0;32mif\u001b[0m \u001b[0mfeature_algo\u001b[0m \u001b[0;34m==\u001b[0m \u001b[0;34m'PCA'\u001b[0m\u001b[0;34m:\u001b[0m\u001b[0;31m# using PCA\u001b[0m\u001b[0;34m\u001b[0m\u001b[0;34m\u001b[0m\u001b[0m\n\u001b[0;32m----> 6\u001b[0;31m                     features = predict.get_features_based_on_pca(\n\u001b[0m\u001b[1;32m      7\u001b[0m                                         varia.get_dir(path.join(stats_paths['STATS_HOME'],\n\u001b[1;32m      8\u001b[0m                                                                 stats_paths['features'])),\n",
      "\u001b[0;32m~/Dropbox/github/nimb/nimb/stats/predict.py\u001b[0m in \u001b[0;36mget_features_based_on_pca\u001b[0;34m(dir_pca, threshold, X_scaled, ls_cols_X, group, atlas, lang)\u001b[0m\n\u001b[1;32m    114\u001b[0m     \u001b[0;32mfor\u001b[0m \u001b[0mi\u001b[0m \u001b[0;32min\u001b[0m \u001b[0mrange\u001b[0m\u001b[0;34m(\u001b[0m\u001b[0mn_components\u001b[0m\u001b[0;34m)\u001b[0m\u001b[0;34m:\u001b[0m\u001b[0;34m\u001b[0m\u001b[0;34m\u001b[0m\u001b[0m\n\u001b[1;32m    115\u001b[0m         \u001b[0midx\u001b[0m \u001b[0;34m=\u001b[0m \u001b[0mnp\u001b[0m\u001b[0;34m.\u001b[0m\u001b[0mabs\u001b[0m\u001b[0;34m(\u001b[0m\u001b[0mmodel\u001b[0m\u001b[0;34m.\u001b[0m\u001b[0mcomponents_\u001b[0m\u001b[0;34m[\u001b[0m\u001b[0mi\u001b[0m\u001b[0;34m]\u001b[0m\u001b[0;34m)\u001b[0m\u001b[0;34m.\u001b[0m\u001b[0margmax\u001b[0m\u001b[0;34m(\u001b[0m\u001b[0;34m)\u001b[0m\u001b[0;34m\u001b[0m\u001b[0;34m\u001b[0m\u001b[0m\n\u001b[0;32m--> 116\u001b[0;31m         \u001b[0mfeat\u001b[0m \u001b[0;34m=\u001b[0m \u001b[0mls_cols_X\u001b[0m\u001b[0;34m[\u001b[0m\u001b[0midx\u001b[0m\u001b[0;34m]\u001b[0m\u001b[0;34m\u001b[0m\u001b[0;34m\u001b[0m\u001b[0m\n\u001b[0m\u001b[1;32m    117\u001b[0m         \u001b[0;32mif\u001b[0m \u001b[0mfeat\u001b[0m \u001b[0;32mnot\u001b[0m \u001b[0;32min\u001b[0m \u001b[0mdic_feat_comps\u001b[0m\u001b[0;34m:\u001b[0m\u001b[0;34m\u001b[0m\u001b[0;34m\u001b[0m\u001b[0m\n\u001b[1;32m    118\u001b[0m             \u001b[0mdic_feat_comps\u001b[0m\u001b[0;34m[\u001b[0m\u001b[0mfeat\u001b[0m\u001b[0;34m]\u001b[0m \u001b[0;34m=\u001b[0m \u001b[0mls_expl_variance\u001b[0m\u001b[0;34m[\u001b[0m\u001b[0mi\u001b[0m\u001b[0;34m]\u001b[0m\u001b[0;34m\u001b[0m\u001b[0;34m\u001b[0m\u001b[0m\n",
      "\u001b[0;31mIndexError\u001b[0m: list index out of range"
     ]
    }
   ],
   "source": [
    "df_X, y_labeled, X_scaled, df_clin_group = get_X_data_per_group_all_groups(group, predicted_target)\n",
    "\n",
    "# ================================\n",
    "use_features = True\n",
    "feature_algo = \"PCA\"\n",
    "atlas = \"DK\"\n",
    "lang='EN'\n",
    "features = cols_X #specific for the hoshinolab_proteomics_age project\n",
    "pca_threshold = 0.95#nimb_stats[\"STATS_PARAMS\"][\"prediction_vars\"]['pca_threshold']\n",
    "df_with_features, features, features_rfe_and_rank_df = get_features_df_per_group(group, X_scaled, y_labeled,\n",
    "                                                                                 df_X, pca_threshold)"
   ]
  },
  {
   "cell_type": "code",
   "execution_count": 128,
   "metadata": {},
   "outputs": [
    {
     "name": "stdout",
     "output_type": "stream",
     "text": [
      "    reading file: /media/g/nimb_tmp/projects/hoshinolab_proteomics_age/stats_src/stats/stats_src.xlsx,\n",
      "        sheet: 0\n",
      "    reading file: /media/g/nimb_tmp/projects/hoshinolab_proteomics_age/stats_src/stats/grid.csv,\n",
      "        sheet: 0\n"
     ]
    }
   ],
   "source": [
    "# DONE: STEP 4 predict usign SKF and LOO\n",
    "\n",
    "df_user_stats, df_final_grid,\\\n",
    "            df_adjusted,\\\n",
    "            cols_X,\\\n",
    "            groups = MakeGrid(project_vars,\n",
    "                                nimb_stats).grid()"
   ]
  },
  {
   "cell_type": "code",
   "execution_count": 79,
   "metadata": {},
   "outputs": [
    {
     "name": "stdout",
     "output_type": "stream",
     "text": [
      "y_labeled predicted target is: ['group']\n"
     ]
    }
   ],
   "source": [
    "col2rm = [i for i in df_final_grid.columns if 'CON' in i]+['Unnamed: 0']\n",
    "df_final_grid.drop(columns=col2rm, inplace=True)\n",
    "df_adjusted.drop(columns=col2rm, inplace=True)\n",
    "cols_X.remove('Unnamed: 0')\n",
    "cols_X.remove('CON_00708398_1')\n",
    "cols_X.remove('CON_LysC')\n",
    "cols_X.remove('CON_Trypsin')\n",
    "\n",
    "group = 'all'\n",
    "predicted_target = project_vars[\"prediction_target\"]\n",
    "print(f'y_labeled predicted target is: {predicted_target}')"
   ]
  },
  {
   "cell_type": "code",
   "execution_count": 129,
   "metadata": {
    "scrolled": true
   },
   "outputs": [
    {
     "name": "stdout",
     "output_type": "stream",
     "text": [
      "PowerTransformer()\n"
     ]
    }
   ],
   "source": [
    "df_X, y_labeled, X_scaled, df_clin_group = get_X_data_per_group_all_groups(group, predicted_target)"
   ]
  },
  {
   "cell_type": "code",
   "execution_count": 87,
   "metadata": {},
   "outputs": [
    {
     "name": "stdout",
     "output_type": "stream",
     "text": [
      "y_labeled predicted target is: ['group']\n",
      "    performing RF SKF Prediction for all groups\n",
      "RandomForestClassifier(max_depth=90, max_features='sqrt', min_samples_split=5,\n",
      "                       n_estimators=8, random_state=42, verbose=False)\n",
      "    prediction accuracy computed with RF and SKF based on PCA features is:  RandomForestClassifier(max_depth=90, max_features='sqrt', min_samples_split=5,\n",
      "                       n_estimators=8, random_state=42, verbose=False)\n",
      "    prediction accuracy computed with RF and SKF based on PCA features is:  0.8705128205128204\n",
      "performing RF Leave-One_out Prediction for all groups\n",
      "    prediction accuracy computed with RF and SKF based on PCA features is:  RandomForestClassifier(bootstrap=False, max_depth=10, max_features='sqrt',\n",
      "                       min_samples_split=5, n_estimators=64, random_state=42,\n",
      "                       verbose=False)\n",
      "    prediction accuracy computed with RF and SKF based on PCA features is:  0.9016393442622951\n"
     ]
    }
   ],
   "source": [
    "features = cols_X #specific for the hoshinolab_proteomics_age project\n",
    "skf_NUM_ITER = nimb_stats[\"STATS_PARAMS\"][\"prediction_vars\"]['skf_NUM_ITER']\n",
    "loo_NUM_ITER = nimb_stats[\"STATS_PARAMS\"][\"prediction_vars\"]['NUM_ITER']\n",
    "print(f'y_labeled predicted target is: {predicted_target}')\n",
    "\n",
    "STEP_Predict = True\n",
    "STEP_Predict_RF_SKF = True\n",
    "STEP_Predict_RF_LOO = True\n",
    "\n",
    "if STEP_Predict:\n",
    "    # STEP run Prediction RF SKF\n",
    "    if STEP_Predict_RF_SKF:\n",
    "        print('    performing RF SKF Prediction for all groups')\n",
    "        df_X_scaled = tab.create_df(X_scaled, index_col=range(X_scaled.shape[0]), cols=cols_X)\n",
    "        accuracy, best_estimator, average_score_list, _ = predict.SKF_algorithm(\n",
    "                features, df_X_scaled[features].values, y_labeled, skf_NUM_ITER)\n",
    "        print(\"    prediction accuracy computed with RF and SKF based on PCA features is: \",best_estimator)\n",
    "        print(\"    prediction accuracy computed with RF and SKF based on PCA features is: \",accuracy)\n",
    "\n",
    "    # STEP run Prediction RF LOO\n",
    "    if STEP_Predict_RF_LOO:\n",
    "        print('performing RF Leave-One_out Prediction for all groups')\n",
    "        df_X_scaled = tab.create_df(X_scaled, index_col=range(X_scaled.shape[0]), cols=cols_X)\n",
    "        accuracy, best_estimator, average_score_list, _ = predict.LOO_algorithm(\n",
    "                features, df_X_scaled[features].values, y_labeled, loo_NUM_ITER)\n",
    "        print(\"    prediction accuracy computed with RF and LOO based on PCA features is: \",best_estimator)\n",
    "        print(\"    prediction accuracy computed with RF and LOO based on PCA features is: \",accuracy)"
   ]
  },
  {
   "cell_type": "code",
   "execution_count": 10,
   "metadata": {},
   "outputs": [
    {
     "name": "stdout",
     "output_type": "stream",
     "text": [
      "y_labeled predicted target is: ['group']\n"
     ]
    }
   ],
   "source": [
    "group = 'all'\n",
    "predicted_target = [\"age\"]\n",
    "print(f'y_labeled predicted target is: {predicted_target}')\n",
    "df_X, y_labeled, X_scaled, df_clin_group = get_X_data_per_group_all_groups(group)"
   ]
  },
  {
   "cell_type": "code",
   "execution_count": 101,
   "metadata": {},
   "outputs": [
    {
     "name": "stdout",
     "output_type": "stream",
     "text": [
      "PowerTransformer()\n"
     ]
    }
   ],
   "source": [
    "df_X, y_labeled, X_scaled, df_clin_group = get_X_data_per_group_all_groups(group, predicted_target)"
   ]
  },
  {
   "cell_type": "code",
   "execution_count": 102,
   "metadata": {},
   "outputs": [
    {
     "name": "stdout",
     "output_type": "stream",
     "text": [
      "y_labeled predicted target is: ['group']\n",
      "    performing RF SKF Prediction for all groups\n",
      "RandomForestClassifier(bootstrap=False, criterion='entropy', max_depth=100,\n",
      "                       max_features='sqrt', random_state=42, verbose=False)\n",
      "    prediction accuracy computed with RF and SKF based on PCA features is:  RandomForestClassifier(bootstrap=False, criterion='entropy', max_depth=100,\n",
      "                       max_features='sqrt', random_state=42, verbose=False)\n",
      "    prediction accuracy computed with RF and SKF based on PCA features is:  0.758974358974359\n",
      "performing RF Leave-One_out Prediction for all groups\n",
      "    prediction accuracy computed with RF and LOO based on PCA features is:  RandomForestClassifier(bootstrap=False, max_depth=10, max_features='sqrt',\n",
      "                       min_samples_split=5, n_estimators=64, random_state=42,\n",
      "                       verbose=False)\n",
      "    prediction accuracy computed with RF and LOO based on PCA features is:  0.819672131147541\n"
     ]
    }
   ],
   "source": [
    "features = cols_X #specific for the hoshinolab_proteomics_age project\n",
    "skf_NUM_ITER = nimb_stats[\"STATS_PARAMS\"][\"prediction_vars\"]['skf_NUM_ITER']\n",
    "loo_NUM_ITER = nimb_stats[\"STATS_PARAMS\"][\"prediction_vars\"]['NUM_ITER']\n",
    "print(f'y_labeled predicted target is: {predicted_target}')\n",
    "\n",
    "STEP_Predict = True\n",
    "STEP_Predict_RF_SKF = True\n",
    "STEP_Predict_RF_LOO = True\n",
    "\n",
    "if STEP_Predict:\n",
    "    # STEP run Prediction RF SKF\n",
    "    if STEP_Predict_RF_SKF:\n",
    "        print('    performing RF SKF Prediction for all groups')\n",
    "        df_X_scaled = tab.create_df(X_scaled, index_col=range(X_scaled.shape[0]), cols=cols_X)\n",
    "        accuracy, best_estimator, average_score_list, _ = predict.SKF_algorithm(\n",
    "                features, df_X_scaled[features].values, y_labeled, skf_NUM_ITER)\n",
    "        print(\"    prediction accuracy computed with RF and SKF based on PCA features is: \",best_estimator)\n",
    "        print(\"    prediction accuracy computed with RF and SKF based on PCA features is: \",accuracy)\n",
    "\n",
    "    # STEP run Prediction RF LOO\n",
    "    if STEP_Predict_RF_LOO:\n",
    "        print('performing RF Leave-One_out Prediction for all groups')\n",
    "        df_X_scaled = tab.create_df(X_scaled, index_col=range(X_scaled.shape[0]), cols=cols_X)\n",
    "        accuracy, best_estimator, average_score_list, _ = predict.LOO_algorithm(\n",
    "                features, df_X_scaled[features].values, y_labeled, loo_NUM_ITER)\n",
    "        print(\"    prediction accuracy computed with RF and LOO based on PCA features is: \",best_estimator)\n",
    "        print(\"    prediction accuracy computed with RF and LOO based on PCA features is: \",accuracy)"
   ]
  },
  {
   "cell_type": "code",
   "execution_count": 134,
   "metadata": {},
   "outputs": [],
   "source": [
    "from statsmodels.formula.api import ols\n",
    "import pandas as pd\n",
    "import numpy as np\n",
    "from matplotlib import pyplot as plt\n",
    "import seaborn as sns\n",
    "\n",
    "#features.append('age')\n",
    "\n",
    "df = df_final_grid\n",
    "PATH_2plots = '/home/ssp/Desktop'\n",
    "#for param_y in features:\n",
    "#    for feat in features[features.index(param_y)+1:]:\n",
    "param_y = 'age'\n",
    "for feat in features:\n",
    "            x = np.array(df[param_y])\n",
    "            y = np.array(df[feat])\n",
    "            data_tmp = pd.DataFrame({'x':x,feat:y})\n",
    "            model = ols(feat+\" ~ x\", data_tmp).fit()\n",
    "            p_value = '%.4f'%model.pvalues.x\n",
    "            intercept = '%.4f'%model.pvalues.Intercept\n",
    "\n",
    "            df_plot = pd.DataFrame({\n",
    "                'group':np.array(df[project_vars['group_col']]),\n",
    "                param_y:np.array(df[param_y]),\n",
    "                feat:np.array(df[feat])})\n",
    "            sns_plot = sns.lmplot(x=param_y, y=feat, hue='group', data=df_plot)#, robust=True\n",
    "            axes = sns_plot.axes.flatten()\n",
    "            Title = f'Group diff. p={p_value}; intercept={intercept}'\n",
    "            axes[0].set_title(Title)\n",
    "            fig_name = f'{param_y}_{feat}.png'\n",
    "            sns_plot.savefig(path.join(PATH_2plots, fig_name))\n",
    "            plt.close()"
   ]
  },
  {
   "cell_type": "markdown",
   "metadata": {},
   "source": [
    "Further down - working on the file with all proteins"
   ]
  },
  {
   "cell_type": "code",
   "execution_count": null,
   "metadata": {},
   "outputs": [],
   "source": [
    "import os\n",
    "import pandas as pd"
   ]
  },
  {
   "cell_type": "code",
   "execution_count": 219,
   "metadata": {},
   "outputs": [],
   "source": [
    "# working with grid of all proteins\n",
    "# proteins with CON - are removed\n",
    "\n",
    "grid_f = os.path.join(materials, 'grid_202002.csv')\n",
    "df_final_grid = pd.read_csv(grid_f)\n",
    "col2rm = [i for i in df_final_grid.columns if 'CON' in i]\n",
    "df_final_grid.drop(columns=col2rm, inplace=True)\n",
    "df_final_grid.set_index('sample name', inplace=True)\n",
    "df_user_stats = df_final_grid.copy()\n",
    "df_adjusted   = df_final_grid.copy()\n",
    "df_adjusted.drop(columns='group', inplace=True)\n",
    "cols_X        = df_final_grid.columns.tolist()"
   ]
  },
  {
   "cell_type": "code",
   "execution_count": 154,
   "metadata": {},
   "outputs": [
    {
     "name": "stdout",
     "output_type": "stream",
     "text": [
      "PowerTransformer()\n",
      "    nr of features to analyze by PCA: 2360\n",
      "    PCA chose 39 components and 36 features \n",
      "Q96RL1-4 not defined\n",
      "A0M8Q6 not defined\n",
      "A6NNI4 not defined\n",
      "E9PH29 not defined\n",
      "F8VNV9 not defined\n",
      "B7Z7A9 not defined\n",
      "P23229-4 not defined\n",
      "P31944 not defined\n",
      "D9IX66 not defined\n",
      "B4DT77 not defined\n",
      "F5H6Q0 not defined\n",
      "P08514 not defined\n",
      "Q5HY57 not defined\n",
      "E7ENL6 not defined\n",
      "P01714 not defined\n",
      "J3KR29 not defined\n",
      "H0YMA1 not defined\n",
      "H0YAS8 not defined\n",
      "H7BY83 not defined\n",
      "M0QZE8 not defined\n",
      "A0A087WSY6 not defined\n",
      "B1ALW1 not defined\n",
      "G3XAM2 not defined\n",
      "B1AKG0 not defined\n",
      "A0A087WYJ9 not defined\n",
      "O95445 not defined\n",
      "H0Y4M2 not defined\n",
      "H0Y360 not defined\n",
      "Q5JTA5 not defined\n",
      "F8WF65 not defined\n",
      "A0A0A0MT89 not defined\n",
      "Q9UJC5 not defined\n",
      "D6PXK4 not defined\n",
      "A0A0A0MT74 not defined\n",
      "H0Y4Z6 not defined\n",
      "P01709 not defined\n"
     ]
    },
    {
     "data": {
      "image/png": "[encoded data removed]",
      "text/plain": [
       "<Figure size 432x288 with 1 Axes>"
      ]
     },
     "metadata": {
      "needs_background": "light"
     },
     "output_type": "display_data"
    }
   ],
   "source": [
    "# group param is removed to exclude from prediction algo\n",
    "group = 'all'\n",
    "predicted_target = project_vars[\"prediction_target\"]\n",
    "col2rm = project_vars['group_param']\n",
    "df_user_stats.drop(columns=[col2rm], inplace=True)\n",
    "df_final_grid.drop(columns=[col2rm], inplace=True)\n",
    "df_adjusted.drop(columns=[col2rm], inplace=True)\n",
    "if col2rm in cols_X:\n",
    "    cols_X.remove(col2rm)\n",
    "print(f'y_labeled predicted target is: {predicted_target}, EXCLUDED: {col2rm}, group parameter')\n",
    "\n",
    "df_X, y_labeled, X_scaled, df_clin_group = get_X_data_per_group_all_groups(group, predicted_target)\n",
    "\n",
    "# ================================\n",
    "use_features = True\n",
    "feature_algo = \"PCA\"\n",
    "atlas = \"DK\"\n",
    "lang='EN'\n",
    "features = cols_X #specific for the hoshinolab_proteomics_age project\n",
    "pca_threshold = 0.95#nimb_stats[\"STATS_PARAMS\"][\"prediction_vars\"]['pca_threshold']\n",
    "path2save = '/home/ssp/Desktop'#varia.get_dir(path.join(stats_paths['STATS_HOME'], stats_paths['features'])),\n",
    "df_with_features, features, features_rfe_and_rank_df = get_features_df_per_group(group, X_scaled, y_labeled,\n",
    "                                                                                 df_X, pca_threshold,\n",
    "                                                                                 path2save,use_features)"
   ]
  },
  {
   "cell_type": "code",
   "execution_count": 213,
   "metadata": {},
   "outputs": [],
   "source": [
    "import matplotlib.pyplot as plt\n",
    "\n",
    "def ecdf(a):\n",
    "    x, counts = np.unique(a, return_counts=True)\n",
    "    cusum = np.cumsum(counts)\n",
    "    return x, cusum / cusum[-1]\n",
    "\n",
    "def plot_ecdf(a, b, name_plot, path2save):\n",
    "    x1, y1 = ecdf(a)\n",
    "    x1 = np.insert(x1, 0, x1[0])\n",
    "    y1 = np.insert(y1, 0, 0.)\n",
    "    x2, y2 = ecdf(b)\n",
    "    x2 = np.insert(x2, 0, x2[0])\n",
    "    y2 = np.insert(y2, 0, 0.)\n",
    "    ax = plt.subplot(111)\n",
    "    ax.plot(x1, y1, drawstyle='steps-post', label = 'adults')\n",
    "    ax.plot(x2, y2, drawstyle='steps-post', label = 'children')\n",
    "    plt.title(name_plot)\n",
    "    plt.xlabel('concentration')\n",
    "    plt.ylabel('cumulative distribution function')\n",
    "    ax.legend()\n",
    "    plt.grid(True)\n",
    "    plt.savefig(os.path.join(path2save, f'{name_plot}.png'))\n",
    "    plt.close()"
   ]
  },
  {
   "cell_type": "code",
   "execution_count": 201,
   "metadata": {},
   "outputs": [
    {
     "name": "stdout",
     "output_type": "stream",
     "text": [
      "PowerTransformer()\n",
      "PowerTransformer()\n"
     ]
    }
   ],
   "source": [
    "group1 = 'adults'\n",
    "group2 = 'children'\n",
    "df_X1, y_labeled1, X_scaled1, df_clin_group1 = get_X_data_per_group_all_groups(group1, predicted_target)\n",
    "df_X2, y_labeled2, X_scaled2, df_clin_group2 = get_X_data_per_group_all_groups(group2, predicted_target)"
   ]
  },
  {
   "cell_type": "code",
   "execution_count": 214,
   "metadata": {},
   "outputs": [],
   "source": [
    "path2save = '/home/ssp/Desktop'\n",
    "proteins = {'P13671':'Complement comp. C6',\n",
    "           'P60709':'Actin cytoplasmic 1',\n",
    "           'O43866':'CD5 antigen-like',\n",
    "           'P22792':'Carboxypeptidase N',\n",
    "           'P02745':'Complement C1a subcomp.',\n",
    "           'P02776':'Platelet factor 4',}\n",
    "for protein in proteins:\n",
    "    x1 = df_X1[protein]\n",
    "    x2 = df_X2[protein]\n",
    "    plot_ecdf(x1, x2, proteins[protein], path2save)"
   ]
  },
  {
   "cell_type": "code",
   "execution_count": 229,
   "metadata": {},
   "outputs": [
    {
     "name": "stdout",
     "output_type": "stream",
     "text": [
      "y_labeled predicted target is: age\n",
      "PowerTransformer()\n",
      "    nr of features to analyze by PCA: 2360\n",
      "    PCA chose 39 components and 35 features \n",
      "Q96SB3 not defined\n",
      "A2BHY4 not defined\n",
      "B4DN07 not defined\n",
      "H0Y630 not defined\n",
      "F8VPF3 not defined\n",
      "B7Z844 not defined\n",
      "P23229-7 not defined\n",
      "P31946 not defined\n",
      "D9IX69 not defined\n",
      "B4DTY9 not defined\n",
      "F5H6R7 not defined\n",
      "A8MYN5 not defined\n",
      "Q5HYB6 not defined\n",
      "P59665 not defined\n",
      "P01715 not defined\n",
      "J3KRB5 not defined\n",
      "H0YMZ1 not defined\n",
      "P24752 not defined\n",
      "H7BYG8 not defined\n",
      "X6R433 not defined\n",
      "HMPREF0874_00807 not defined\n",
      "Q58FG0 not defined\n",
      "G3XAP6 not defined\n",
      "B1AKP2 not defined\n",
      "Q8WW52 not defined\n",
      "O95497 not defined\n",
      "H0Y4R5 not defined\n",
      "H0Y3Q6 not defined\n",
      "Q5JW54 not defined\n",
      "FSEG_00392 not defined\n",
      "Q9UJJ9 not defined\n",
      "A0A087X0Y7 not defined\n",
      "A0A0A0MT89 not defined\n",
      "H0Y512 not defined\n",
      "P01711 not defined\n"
     ]
    },
    {
     "data": {
      "image/png": "[encoded data removed]",
      "text/plain": [
       "<Figure size 432x288 with 1 Axes>"
      ]
     },
     "metadata": {
      "needs_background": "light"
     },
     "output_type": "display_data"
    }
   ],
   "source": [
    "# group param is removed to exclude from prediction algo\n",
    "group = 'all'\n",
    "predicted_target = 'age'\n",
    "if col2rm in cols_X:\n",
    "    cols_X.remove(col2rm)\n",
    "print(f'y_labeled predicted target is: {predicted_target}')\n",
    "\n",
    "df_X, y_labeled, X_scaled, df_clin_group = get_X_data_per_group_all_groups(group, predicted_target)\n",
    "\n",
    "# ================================\n",
    "use_features = True\n",
    "feature_algo = \"PCA\"\n",
    "atlas = \"DK\"\n",
    "lang='EN'\n",
    "features = cols_X #specific for the hoshinolab_proteomics_age project\n",
    "pca_threshold = 0.95#nimb_stats[\"STATS_PARAMS\"][\"prediction_vars\"]['pca_threshold']\n",
    "path2save = '/home/ssp/Desktop'#varia.get_dir(path.join(stats_paths['STATS_HOME'], stats_paths['features'])),\n",
    "df_with_features, features, features_rfe_and_rank_df = get_features_df_per_group(group, X_scaled, y_labeled,\n",
    "                                                                                 df_X, pca_threshold,\n",
    "                                                                                 path2save,use_features)"
   ]
  },
  {
   "cell_type": "code",
   "execution_count": 232,
   "metadata": {},
   "outputs": [
    {
     "name": "stdout",
     "output_type": "stream",
     "text": [
      "y_labeled predicted target is: age\n",
      "    performing RF SKF Prediction for all groups\n",
      "RandomForestClassifier(bootstrap=False, criterion='entropy', max_depth=100,\n",
      "                       max_features='sqrt', random_state=42, verbose=False)\n",
      "    prediction accuracy computed with RF and SKF based on PCA features is:  RandomForestClassifier(bootstrap=False, criterion='entropy', max_depth=100,\n",
      "                       max_features='sqrt', random_state=42, verbose=False)\n",
      "    prediction accuracy computed with RF and SKF based on PCA features is:  0.2128205128205128\n",
      "performing RF Leave-One_out Prediction for all groups\n",
      "    prediction accuracy computed with RF and LOO based on PCA features is:  RandomForestClassifier(bootstrap=False, max_depth=60, max_features='sqrt',\n",
      "                       min_samples_leaf=4, min_samples_split=10, n_estimators=1,\n",
      "                       random_state=42, verbose=False)\n",
      "    prediction accuracy computed with RF and LOO based on PCA features is:  0.11475409836065574\n"
     ]
    }
   ],
   "source": [
    "features = cols_X #specific for the hoshinolab_proteomics_age project\n",
    "skf_NUM_ITER = nimb_stats[\"STATS_PARAMS\"][\"prediction_vars\"]['skf_NUM_ITER']\n",
    "loo_NUM_ITER = nimb_stats[\"STATS_PARAMS\"][\"prediction_vars\"]['NUM_ITER']\n",
    "print(f'y_labeled predicted target is: {predicted_target}')\n",
    "\n",
    "STEP_Predict = True\n",
    "STEP_Predict_RF_SKF = True\n",
    "STEP_Predict_RF_LOO = True\n",
    "\n",
    "if STEP_Predict:\n",
    "    # STEP run Prediction RF SKF\n",
    "    if STEP_Predict_RF_SKF:\n",
    "        print('    performing RF SKF Prediction for all groups')\n",
    "        df_X_scaled = tab.create_df(X_scaled, index_col=range(X_scaled.shape[0]), cols=cols_X)\n",
    "        accuracy, best_estimator, average_score_list, _ = predict.SKF_algorithm(\n",
    "                features, df_X_scaled[features].values, y_labeled, skf_NUM_ITER)\n",
    "        print(\"    prediction accuracy computed with RF and SKF based on PCA features is: \", best_estimator)\n",
    "        print(\"    prediction accuracy computed with RF and SKF based on PCA features is: \", accuracy)\n",
    "\n",
    "    # STEP run Prediction RF LOO\n",
    "    if STEP_Predict_RF_LOO:\n",
    "        print('performing RF Leave-One_out Prediction for all groups')\n",
    "        df_X_scaled = tab.create_df(X_scaled, index_col=range(X_scaled.shape[0]), cols=cols_X)\n",
    "        accuracy, best_estimator, average_score_list, _ = predict.LOO_algorithm(\n",
    "                features, df_X_scaled[features].values, y_labeled, loo_NUM_ITER)\n",
    "        print(\"    prediction accuracy computed with RF and LOO based on PCA features is: \", best_estimator)\n",
    "        print(\"    prediction accuracy computed with RF and LOO based on PCA features is: \", accuracy)"
   ]
  },
  {
   "cell_type": "code",
   "execution_count": 114,
   "metadata": {},
   "outputs": [],
   "source": [
    "# this is to create the working grid from the file with all values\n",
    "# it also changes NaN to 0\n",
    "# saving the new file to grid_202002.cdv\n",
    "\n",
    "materials = '~/Dropbox/20210207_ayuko_lav_exo_ad/materials'\n",
    "f_src = 'stats_src_all_values.xlsx'\n",
    "df = pd.read_excel(os.path.join(materials,f_src))\n",
    "df.drop(list(range(2489,len(df.index))), inplace=True)\n",
    "df = df.transpose()\n",
    "df.rename(columns = dict(zip(df.columns.tolist(),df.iloc[0,0:].tolist())), inplace=True)\n",
    "df.drop('sample name', inplace=True)\n",
    "df.index.rename('sample name', inplace=True)\n",
    "df.fillna(0, inplace=True)\n",
    "df.to_csv(os.path.join(materials, 'grid_202002.csv'))"
   ]
  },
  {
   "cell_type": "code",
   "execution_count": null,
   "metadata": {},
   "outputs": [],
   "source": [
    "# removing columns with zeros\n",
    "# script is not required, as zeros are numbers\n",
    "\n",
    "# some cols have zeros and because of them ANOVA cannot be performed.\n",
    "# this step removes the columns with at least 1 zero\n",
    "\n",
    "# cols_with_zeros = list()\n",
    "# for col in df_final_grid.columns:\n",
    "#     n = df_final_grid[col].isin([0]).sum()\n",
    "#     if n>0:\n",
    "#         cols_with_zeros.append(col)\n",
    "#(df_final_grid == 0).astype(int).sum(axis=0)\n",
    "#(df_final_grid == 0).sum(axis=1)\n",
    "\n",
    "# df_final_grid.drop(columns=cols_with_zeros, inplace=True)\n"
   ]
  }
 ],
 "metadata": {
  "kernelspec": {
   "display_name": "Python 3",
   "language": "python",
   "name": "python3"
  },
  "language_info": {
   "codemirror_mode": {
    "name": "ipython",
    "version": 3
   },
   "file_extension": ".py",
   "mimetype": "text/x-python",
   "name": "python",
   "nbconvert_exporter": "python",
   "pygments_lexer": "ipython3",
   "version": "3.9.1"
  }
 },
 "nbformat": 4,
 "nbformat_minor": 4
}
