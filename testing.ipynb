{
 "cells": [
  {
   "cell_type": "code",
   "execution_count": 1,
   "metadata": {},
   "outputs": [
    {
     "name": "stdout",
     "output_type": "stream",
     "text": [
      "/home/ssp/Dropbox/github/nimb/nimb\n",
      "        credentials are located at: /home/ssp/nimb\n",
      "        credentials are located at: /home/ssp/nimb\n"
     ]
    }
   ],
   "source": [
    "project      = 'hoshinolab_proteomics_age'\n",
    "from bin import nimb_link\n",
    "NIMB_HOME = nimb_link.link_with_nimb()\n",
    "from setup.get_vars import Get_Vars, SetProject\n",
    "from distribution import utilities as utils\n",
    "from stats.db_processing import Table\n",
    "from stats.preprocessing import Preprocess\n",
    "from stats import preprocessing, varia\n",
    "from stats.make_stats_grid import MakeGrid\n",
    "from stats.stats_models import ANOVA_do\n",
    "from stats.plotting import Make_Plot_Regression, Make_plot_group_difference\n",
    "tab = Table()\n",
    "\n",
    "all_vars = Get_Vars()\n",
    "project_vars = all_vars.projects[project]\n",
    "\n",
    "getvars      = Get_Vars()\n",
    "nimb_stats   = getvars.stats_vars\n",
    "projects     = getvars.projects\n",
    "NIMB_tmp     = getvars.location_vars['local']['NIMB_PATHS']['NIMB_tmp']\n",
    "fname_groups = projects[project][\"fname_groups\"]\n",
    "nimb_stats   = SetProject(NIMB_tmp, nimb_stats, project, fname_groups).stats\n",
    "project_vars = projects[project]\n",
    "stats_paths  = nimb_stats['STATS_PATHS']\n",
    "\n",
    "def get_X_data_per_group_all_groups(group):\n",
    "    # extract X_scaled values for the brain parameters\n",
    "        predicted_target = project_vars[\"prediction_target\"]\n",
    "        if not predicted_target:\n",
    "            predicted_target = project_vars[\"group_col\"]\n",
    "        if group == 'all':\n",
    "                df_clin_group = df_user_stats\n",
    "                df_X          = df_adjusted\n",
    "                y_labeled     = preprocessing.label_y(df_user_stats, predicted_target)\n",
    "                X_scaled      = preprocessing.scale_X(df_X)\n",
    "        else:\n",
    "                df_group      = tab.get_df_per_parameter(df_final_grid, project_vars['group_col'], group)\n",
    "                df_clin_group = tab.rm_cols_from_df(df_group, cols_X)\n",
    "                df_X          = tab.rm_cols_from_df(df_group, [i for i in df_group.columns.tolist() if i not in cols_X])\n",
    "                y_labeled     = preprocessing.label_y(df_group, predicted_target)\n",
    "                X_scaled      = preprocessing.scale_X(df_X)\n",
    "        return df_X, y_labeled, X_scaled, df_clin_group"
   ]
  },
  {
   "cell_type": "code",
   "execution_count": 7,
   "metadata": {},
   "outputs": [],
   "source": [
    "#project_vars"
   ]
  },
  {
   "cell_type": "code",
   "execution_count": 2,
   "metadata": {},
   "outputs": [
    {
     "name": "stdout",
     "output_type": "stream",
     "text": [
      "    reading file: /media/g/nimb_tmp/projects/hoshinolab_proteomics_age/stats_src/stats/stats_src.xlsx,\n",
      "        sheet: 0\n",
      "    reading file: /media/g/nimb_tmp/projects/hoshinolab_proteomics_age/stats_src/stats/grid.csv,\n",
      "        sheet: 0\n"
     ]
    }
   ],
   "source": [
    "df_user_stats, df_final_grid,\\\n",
    "            df_adjusted,\\\n",
    "            cols_X,\\\n",
    "            groups = MakeGrid(project_vars,\n",
    "                                nimb_stats).grid()"
   ]
  },
  {
   "cell_type": "code",
   "execution_count": 12,
   "metadata": {},
   "outputs": [],
   "source": [
    "df_final_grid.drop(columns=['Unnamed: 0'], inplace=True)"
   ]
  },
  {
   "cell_type": "code",
   "execution_count": null,
   "metadata": {},
   "outputs": [],
   "source": []
  },
  {
   "cell_type": "code",
   "execution_count": 14,
   "metadata": {},
   "outputs": [
    {
     "name": "stdout",
     "output_type": "stream",
     "text": [
      "A6NNI4\n",
      "True\n",
      "CON_00708398_1\n",
      "True\n",
      "CON_LysC\n",
      "True\n",
      "CON_Trypsin\n",
      "True\n",
      "O43866\n",
      "True\n",
      "P00450\n",
      "True\n",
      "P00488\n",
      "True\n",
      "P00739\n",
      "True\n",
      "P01008\n",
      "True\n",
      "P01009\n",
      "True\n",
      "P01011\n",
      "True\n",
      "P01023\n",
      "True\n",
      "P01024\n",
      "True\n",
      "P01031\n",
      "True\n",
      "P01593\n",
      "True\n",
      "P01597\n",
      "True\n",
      "P01625\n",
      "True\n",
      "P01764\n",
      "True\n",
      "P01767\n",
      "True\n",
      "P01781\n",
      "True\n",
      "P01833\n",
      "True\n",
      "P01859\n",
      "True\n",
      "P01876\n",
      "True\n",
      "P02042\n",
      "True\n",
      "P02647\n",
      "True\n",
      "P02652\n",
      "True\n",
      "P02675\n",
      "True\n",
      "P02745\n",
      "True\n",
      "P02760\n",
      "True\n",
      "P02763\n",
      "True\n",
      "P02765\n",
      "True\n",
      "P02766\n",
      "True\n",
      "P02768\n",
      "True\n",
      "P02775\n",
      "True\n",
      "P02776\n",
      "True\n",
      "P02787\n",
      "True\n",
      "P02790\n",
      "True\n",
      "P04003\n",
      "True\n",
      "P04114\n",
      "True\n",
      "P04196\n",
      "True\n",
      "P04220\n",
      "True\n",
      "P04275\n",
      "True\n",
      "P08603\n",
      "True\n",
      "P13671\n",
      "True\n",
      "P19652\n",
      "True\n",
      "P22792\n",
      "True\n",
      "P26038\n",
      "True\n",
      "P35579\n",
      "True\n",
      "P60709\n",
      "True\n",
      "P61981\n",
      "True\n",
      "P68871\n",
      "True\n",
      "P69905\n",
      "True\n",
      "Q08380\n",
      "True\n",
      "age\n",
      "True\n",
      "group\n",
      "adult\n"
     ]
    }
   ],
   "source": [
    "for col in df_final_grid.columns:\n",
    "    if df_final_grid[col].any(0):\n",
    "            print(col, )"
   ]
  },
  {
   "cell_type": "code",
   "execution_count": 10,
   "metadata": {},
   "outputs": [
    {
     "data": {
      "text/plain": [
       "Index(['control1_mom', 'control2_dad', 'control_dad_Jon', 'control_mom_HZ',\n",
       "       'AH', 'DG', 'FS', 'SS', 'EA', 'EG', 'JM', 'CTRL_11', 'CTRL_14',\n",
       "       'CTRL_16', 'CTRL_17', 'CTRL_44', 'CTRL_49', 'CTRL_50', 'CTRL_53',\n",
       "       'CTRL_63', 'CTRL_64', 'CTRL_1_MOM', 'CTRL_11_MOM', 'CTRL_15_MOM',\n",
       "       'CTRL_17_MOM', 'CTRL_42_MOM', 'CTRL_44_MOM', 'CTRL_49_MOM',\n",
       "       'CTRL_58_MOM', 'CTRL_63_MOM', 'CTRL_64_MOM', 'CTRL_14_DAD',\n",
       "       'CTRL_16_DAD', 'CTRL_17_DAD', 'CTRL_42_DAD', 'CTRL_46_DAD',\n",
       "       'CTRL_48_DAD', 'CTRL_50_DAD', 'CTRL_53_DAD', 'CTRL_63_DAD',\n",
       "       'CTRL_64_DAD', 'PAT_5_MOM', 'PAT_9_MOM', 'PAT_11_MOM', 'PAT_12_MOM',\n",
       "       'PAT_23_MOM', 'PAT_25_MOM', 'PAT_26_MOM', 'PAT_27_MOM', 'PAT_28_MOM',\n",
       "       'PAT_34_MOM', 'PAT_5_DAD', 'PAT_9_DAD', 'PAT_11_DAD', 'PAT_12_DAD',\n",
       "       'PAT_23_DAD', 'PAT_24_DAD', 'PAT_25_DAD', 'PAT_26_DAD', 'PAT_28_DAD',\n",
       "       'PAT_34_DAD'],\n",
       "      dtype='object', name='sample name')"
      ]
     },
     "execution_count": 10,
     "metadata": {},
     "output_type": "execute_result"
    }
   ],
   "source": []
  },
  {
   "cell_type": "code",
   "execution_count": null,
   "metadata": {},
   "outputs": [],
   "source": [
    "preproc = Preprocess(utils)\n"
   ]
  },
  {
   "cell_type": "code",
   "execution_count": 5,
   "metadata": {
    "scrolled": true
   },
   "outputs": [
    {
     "name": "stdout",
     "output_type": "stream",
     "text": [
      "PowerTransformer()\n"
     ]
    },
    {
     "name": "stderr",
     "output_type": "stream",
     "text": [
      "/home/ssp/.local/lib/python3.9/site-packages/sklearn/preprocessing/_data.py:3234: RuntimeWarning: divide by zero encountered in log\n",
      "  loglike = -n_samples / 2 * np.log(x_trans.var())\n"
     ]
    }
   ],
   "source": [
    "group = 'all'\n",
    "df_X, y_labeled, X_scaled, df_clin_group = get_X_data_per_group_all_groups(group)\n",
    "features = cols_X"
   ]
  },
  {
   "cell_type": "code",
   "execution_count": 26,
   "metadata": {},
   "outputs": [
    {
     "name": "stdout",
     "output_type": "stream",
     "text": [
      "    analysing 55 features for parameter: age\n"
     ]
    },
    {
     "ename": "PatsyError",
     "evalue": "model is missing required outcome variables",
     "output_type": "error",
     "traceback": [
      "\u001b[0;31m---------------------------------------------------------------------------\u001b[0m",
      "\u001b[0;31mPatsyError\u001b[0m                                Traceback (most recent call last)",
      "\u001b[0;32m<ipython-input-26-3585c6b212b8>\u001b[0m in \u001b[0;36m<module>\u001b[0;34m\u001b[0m\n\u001b[0;32m----> 1\u001b[0;31m sig_cols = ANOVA_do(df_final_grid,\n\u001b[0m\u001b[1;32m      2\u001b[0m                     \u001b[0mproject_vars\u001b[0m\u001b[0;34m[\u001b[0m\u001b[0;34m'variables_for_glm'\u001b[0m\u001b[0;34m]\u001b[0m\u001b[0;34m,\u001b[0m \u001b[0mfeatures\u001b[0m\u001b[0;34m,\u001b[0m\u001b[0;34m\u001b[0m\u001b[0;34m\u001b[0m\u001b[0m\n\u001b[1;32m      3\u001b[0m                     \u001b[0mvaria\u001b[0m\u001b[0;34m.\u001b[0m\u001b[0mget_dir\u001b[0m\u001b[0;34m(\u001b[0m\u001b[0mstats_paths\u001b[0m\u001b[0;34m[\u001b[0m\u001b[0;34m'anova'\u001b[0m\u001b[0;34m]\u001b[0m\u001b[0;34m)\u001b[0m\u001b[0;34m,\u001b[0m\u001b[0;34m\u001b[0m\u001b[0;34m\u001b[0m\u001b[0m\n\u001b[1;32m      4\u001b[0m                     p_thresh = 0.05, intercept_thresh = 0.05).sig_cols\n",
      "\u001b[0;32m~/Dropbox/github/nimb/nimb/stats/stats_models.py\u001b[0m in \u001b[0;36m__init__\u001b[0;34m(self, df, params_y, ls_cols4anova, path2save, p_thresh, intercept_thresh)\u001b[0m\n\u001b[1;32m     54\u001b[0m         \u001b[0mself\u001b[0m\u001b[0;34m.\u001b[0m\u001b[0mtab\u001b[0m           \u001b[0;34m=\u001b[0m \u001b[0mTable\u001b[0m\u001b[0;34m(\u001b[0m\u001b[0;34m)\u001b[0m\u001b[0;34m\u001b[0m\u001b[0;34m\u001b[0m\u001b[0m\n\u001b[1;32m     55\u001b[0m         \u001b[0mself\u001b[0m\u001b[0;34m.\u001b[0m\u001b[0mfs_struc_meas\u001b[0m \u001b[0;34m=\u001b[0m \u001b[0mGetFSStructureMeasurement\u001b[0m\u001b[0;34m(\u001b[0m\u001b[0;34m)\u001b[0m\u001b[0;34m\u001b[0m\u001b[0;34m\u001b[0m\u001b[0m\n\u001b[0;32m---> 56\u001b[0;31m         \u001b[0mself\u001b[0m\u001b[0;34m.\u001b[0m\u001b[0mrun_anova\u001b[0m\u001b[0;34m(\u001b[0m\u001b[0mp_thresh\u001b[0m\u001b[0;34m,\u001b[0m \u001b[0mintercept_thresh\u001b[0m\u001b[0;34m,\u001b[0m \u001b[0mpath2save\u001b[0m\u001b[0;34m)\u001b[0m\u001b[0;34m\u001b[0m\u001b[0;34m\u001b[0m\u001b[0m\n\u001b[0m\u001b[1;32m     57\u001b[0m \u001b[0;34m\u001b[0m\u001b[0m\n\u001b[1;32m     58\u001b[0m     \u001b[0;32mdef\u001b[0m \u001b[0mrun_anova\u001b[0m\u001b[0;34m(\u001b[0m\u001b[0mself\u001b[0m\u001b[0;34m,\u001b[0m \u001b[0mp_thresh\u001b[0m\u001b[0;34m,\u001b[0m \u001b[0mintercept_thresh\u001b[0m\u001b[0;34m,\u001b[0m \u001b[0mpath2save\u001b[0m\u001b[0;34m)\u001b[0m\u001b[0;34m:\u001b[0m\u001b[0;34m\u001b[0m\u001b[0;34m\u001b[0m\u001b[0m\n",
      "\u001b[0;32m~/Dropbox/github/nimb/nimb/stats/stats_models.py\u001b[0m in \u001b[0;36mrun_anova\u001b[0;34m(self, p_thresh, intercept_thresh, path2save)\u001b[0m\n\u001b[1;32m     70\u001b[0m                 \u001b[0my\u001b[0m \u001b[0;34m=\u001b[0m \u001b[0mnp\u001b[0m\u001b[0;34m.\u001b[0m\u001b[0marray\u001b[0m\u001b[0;34m(\u001b[0m\u001b[0mself\u001b[0m\u001b[0;34m.\u001b[0m\u001b[0mdf\u001b[0m\u001b[0;34m[\u001b[0m\u001b[0mcol\u001b[0m\u001b[0;34m]\u001b[0m\u001b[0;34m)\u001b[0m\u001b[0;34m\u001b[0m\u001b[0;34m\u001b[0m\u001b[0m\n\u001b[1;32m     71\u001b[0m                 \u001b[0mdata_tmp\u001b[0m \u001b[0;34m=\u001b[0m \u001b[0mpd\u001b[0m\u001b[0;34m.\u001b[0m\u001b[0mDataFrame\u001b[0m\u001b[0;34m(\u001b[0m\u001b[0;34m{\u001b[0m\u001b[0;34m'x'\u001b[0m\u001b[0;34m:\u001b[0m\u001b[0mx\u001b[0m\u001b[0;34m,\u001b[0m\u001b[0mcol\u001b[0m\u001b[0;34m:\u001b[0m\u001b[0my\u001b[0m\u001b[0;34m}\u001b[0m\u001b[0;34m)\u001b[0m\u001b[0;34m\u001b[0m\u001b[0;34m\u001b[0m\u001b[0m\n\u001b[0;32m---> 72\u001b[0;31m                 \u001b[0mmodel\u001b[0m \u001b[0;34m=\u001b[0m \u001b[0mols\u001b[0m\u001b[0;34m(\u001b[0m\u001b[0mcol\u001b[0m\u001b[0;34m+\u001b[0m\u001b[0;34m\" ~ x\"\u001b[0m\u001b[0;34m,\u001b[0m \u001b[0mdata_tmp\u001b[0m\u001b[0;34m)\u001b[0m\u001b[0;34m.\u001b[0m\u001b[0mfit\u001b[0m\u001b[0;34m(\u001b[0m\u001b[0;34m)\u001b[0m\u001b[0;34m\u001b[0m\u001b[0;34m\u001b[0m\u001b[0m\n\u001b[0m\u001b[1;32m     73\u001b[0m                 \u001b[0;32mif\u001b[0m \u001b[0mmodel\u001b[0m\u001b[0;34m.\u001b[0m\u001b[0mpvalues\u001b[0m\u001b[0;34m.\u001b[0m\u001b[0mIntercept\u001b[0m \u001b[0;34m<\u001b[0m \u001b[0mp_thresh\u001b[0m \u001b[0;32mand\u001b[0m \u001b[0mmodel\u001b[0m\u001b[0;34m.\u001b[0m\u001b[0mpvalues\u001b[0m\u001b[0;34m.\u001b[0m\u001b[0mx\u001b[0m \u001b[0;34m<\u001b[0m \u001b[0mintercept_thresh\u001b[0m\u001b[0;34m:\u001b[0m\u001b[0;34m\u001b[0m\u001b[0;34m\u001b[0m\u001b[0m\n\u001b[1;32m     74\u001b[0m                     \u001b[0mmeasurement\u001b[0m\u001b[0;34m,\u001b[0m \u001b[0mstructure\u001b[0m\u001b[0;34m,\u001b[0m \u001b[0mls_err\u001b[0m \u001b[0;34m=\u001b[0m \u001b[0mself\u001b[0m\u001b[0;34m.\u001b[0m\u001b[0mfs_struc_meas\u001b[0m\u001b[0;34m.\u001b[0m\u001b[0mget\u001b[0m\u001b[0;34m(\u001b[0m\u001b[0mcol\u001b[0m\u001b[0;34m,\u001b[0m \u001b[0mls_err\u001b[0m\u001b[0;34m)\u001b[0m\u001b[0;34m\u001b[0m\u001b[0;34m\u001b[0m\u001b[0m\n",
      "\u001b[0;32m~/.local/lib/python3.9/site-packages/statsmodels/base/model.py\u001b[0m in \u001b[0;36mfrom_formula\u001b[0;34m(cls, formula, data, subset, drop_cols, *args, **kwargs)\u001b[0m\n\u001b[1;32m    167\u001b[0m             \u001b[0mmissing\u001b[0m \u001b[0;34m=\u001b[0m \u001b[0;34m'raise'\u001b[0m\u001b[0;34m\u001b[0m\u001b[0;34m\u001b[0m\u001b[0m\n\u001b[1;32m    168\u001b[0m \u001b[0;34m\u001b[0m\u001b[0m\n\u001b[0;32m--> 169\u001b[0;31m         tmp = handle_formula_data(data, None, formula, depth=eval_env,\n\u001b[0m\u001b[1;32m    170\u001b[0m                                   missing=missing)\n\u001b[1;32m    171\u001b[0m         \u001b[0;34m(\u001b[0m\u001b[0;34m(\u001b[0m\u001b[0mendog\u001b[0m\u001b[0;34m,\u001b[0m \u001b[0mexog\u001b[0m\u001b[0;34m)\u001b[0m\u001b[0;34m,\u001b[0m \u001b[0mmissing_idx\u001b[0m\u001b[0;34m,\u001b[0m \u001b[0mdesign_info\u001b[0m\u001b[0;34m)\u001b[0m \u001b[0;34m=\u001b[0m \u001b[0mtmp\u001b[0m\u001b[0;34m\u001b[0m\u001b[0;34m\u001b[0m\u001b[0m\n",
      "\u001b[0;32m~/.local/lib/python3.9/site-packages/statsmodels/formula/formulatools.py\u001b[0m in \u001b[0;36mhandle_formula_data\u001b[0;34m(Y, X, formula, depth, missing)\u001b[0m\n\u001b[1;32m     61\u001b[0m     \u001b[0;32melse\u001b[0m\u001b[0;34m:\u001b[0m\u001b[0;34m\u001b[0m\u001b[0;34m\u001b[0m\u001b[0m\n\u001b[1;32m     62\u001b[0m         \u001b[0;32mif\u001b[0m \u001b[0mdata_util\u001b[0m\u001b[0;34m.\u001b[0m\u001b[0m_is_using_pandas\u001b[0m\u001b[0;34m(\u001b[0m\u001b[0mY\u001b[0m\u001b[0;34m,\u001b[0m \u001b[0;32mNone\u001b[0m\u001b[0;34m)\u001b[0m\u001b[0;34m:\u001b[0m\u001b[0;34m\u001b[0m\u001b[0;34m\u001b[0m\u001b[0m\n\u001b[0;32m---> 63\u001b[0;31m             result = dmatrices(formula, Y, depth, return_type='dataframe',\n\u001b[0m\u001b[1;32m     64\u001b[0m                                NA_action=na_action)\n\u001b[1;32m     65\u001b[0m         \u001b[0;32melse\u001b[0m\u001b[0;34m:\u001b[0m\u001b[0;34m\u001b[0m\u001b[0;34m\u001b[0m\u001b[0m\n",
      "\u001b[0;32m~/.local/lib/python3.9/site-packages/patsy/highlevel.py\u001b[0m in \u001b[0;36mdmatrices\u001b[0;34m(formula_like, data, eval_env, NA_action, return_type)\u001b[0m\n\u001b[1;32m    310\u001b[0m                                       NA_action, return_type)\n\u001b[1;32m    311\u001b[0m     \u001b[0;32mif\u001b[0m \u001b[0mlhs\u001b[0m\u001b[0;34m.\u001b[0m\u001b[0mshape\u001b[0m\u001b[0;34m[\u001b[0m\u001b[0;36m1\u001b[0m\u001b[0;34m]\u001b[0m \u001b[0;34m==\u001b[0m \u001b[0;36m0\u001b[0m\u001b[0;34m:\u001b[0m\u001b[0;34m\u001b[0m\u001b[0;34m\u001b[0m\u001b[0m\n\u001b[0;32m--> 312\u001b[0;31m         \u001b[0;32mraise\u001b[0m \u001b[0mPatsyError\u001b[0m\u001b[0;34m(\u001b[0m\u001b[0;34m\"model is missing required outcome variables\"\u001b[0m\u001b[0;34m)\u001b[0m\u001b[0;34m\u001b[0m\u001b[0;34m\u001b[0m\u001b[0m\n\u001b[0m\u001b[1;32m    313\u001b[0m     \u001b[0;32mreturn\u001b[0m \u001b[0;34m(\u001b[0m\u001b[0mlhs\u001b[0m\u001b[0;34m,\u001b[0m \u001b[0mrhs\u001b[0m\u001b[0;34m)\u001b[0m\u001b[0;34m\u001b[0m\u001b[0;34m\u001b[0m\u001b[0m\n",
      "\u001b[0;31mPatsyError\u001b[0m: model is missing required outcome variables"
     ]
    }
   ],
   "source": [
    "sig_cols = ANOVA_do(df_final_grid,\n",
    "                    project_vars['variables_for_glm'], features,\n",
    "                    varia.get_dir(stats_paths['anova']),\n",
    "                    p_thresh = 0.05, intercept_thresh = 0.05).sig_cols"
   ]
  },
  {
   "cell_type": "code",
   "execution_count": 6,
   "metadata": {},
   "outputs": [],
   "source": [
    "Make_Plot_Regression(df_final_grid,\n",
    "                    sig_cols, project_vars['group_col'],\n",
    "                    varia.get_dir(stats_paths['simp_lin_reg_dir']))"
   ]
  },
  {
   "cell_type": "code",
   "execution_count": 25,
   "metadata": {},
   "outputs": [],
   "source": [
    "Make_plot_group_difference(df_final_grid,\n",
    "                            sig_cols, project_vars['group_col'], groups,\n",
    "                            varia.get_dir(stats_paths['anova']))"
   ]
  }
 ],
 "metadata": {
  "kernelspec": {
   "display_name": "Python 3",
   "language": "python",
   "name": "python3"
  },
  "language_info": {
   "codemirror_mode": {
    "name": "ipython",
    "version": 3
   },
   "file_extension": ".py",
   "mimetype": "text/x-python",
   "name": "python",
   "nbconvert_exporter": "python",
   "pygments_lexer": "ipython3",
   "version": "3.9.1"
  }
 },
 "nbformat": 4,
 "nbformat_minor": 4
}
